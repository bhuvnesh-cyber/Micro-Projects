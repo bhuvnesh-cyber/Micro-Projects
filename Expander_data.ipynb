{
 "cells": [
  {
   "cell_type": "code",
   "execution_count": 0,
   "metadata": {
    "colab": {
     "base_uri": "https://localhost:8080/",
     "height": 121
    },
    "colab_type": "code",
    "id": "maeNf8F7jXyX",
    "outputId": "af51acdf-8a86-47cf-84d3-6cb7d0a94c7b"
   },
   "outputs": [
    {
     "name": "stdout",
     "output_type": "stream",
     "text": [
      "Go to this URL in a browser: https://accounts.google.com/o/oauth2/auth?client_id=947318989803-6bn6qk8qdgf4n4g3pfee6491hc0brc4i.apps.googleusercontent.com&redirect_uri=urn%3aietf%3awg%3aoauth%3a2.0%3aoob&response_type=code&scope=email%20https%3a%2f%2fwww.googleapis.com%2fauth%2fdocs.test%20https%3a%2f%2fwww.googleapis.com%2fauth%2fdrive%20https%3a%2f%2fwww.googleapis.com%2fauth%2fdrive.photos.readonly%20https%3a%2f%2fwww.googleapis.com%2fauth%2fpeopleapi.readonly\n",
      "\n",
      "Enter your authorization code:\n",
      "··········\n",
      "Mounted at /content/gdrive\n"
     ]
    }
   ],
   "source": [
    "from google.colab import drive\n",
    "drive.mount('/content/gdrive')"
   ]
  },
  {
   "cell_type": "code",
   "execution_count": 0,
   "metadata": {
    "colab": {
     "base_uri": "https://localhost:8080/",
     "height": 302
    },
    "colab_type": "code",
    "id": "svqKI8d9joNH",
    "outputId": "4b60b12f-2825-4fcc-df8e-4d4359e2058b"
   },
   "outputs": [
    {
     "name": "stdout",
     "output_type": "stream",
     "text": [
      "Sat Jan 25 17:59:18 2020       \n",
      "+-----------------------------------------------------------------------------+\n",
      "| NVIDIA-SMI 440.44       Driver Version: 418.67       CUDA Version: 10.1     |\n",
      "|-------------------------------+----------------------+----------------------+\n",
      "| GPU  Name        Persistence-M| Bus-Id        Disp.A | Volatile Uncorr. ECC |\n",
      "| Fan  Temp  Perf  Pwr:Usage/Cap|         Memory-Usage | GPU-Util  Compute M. |\n",
      "|===============================+======================+======================|\n",
      "|   0  Tesla T4            Off  | 00000000:00:04.0 Off |                    0 |\n",
      "| N/A   59C    P8    10W /  70W |      0MiB / 15079MiB |      0%      Default |\n",
      "+-------------------------------+----------------------+----------------------+\n",
      "                                                                               \n",
      "+-----------------------------------------------------------------------------+\n",
      "| Processes:                                                       GPU Memory |\n",
      "|  GPU       PID   Type   Process name                             Usage      |\n",
      "|=============================================================================|\n",
      "|  No running processes found                                                 |\n",
      "+-----------------------------------------------------------------------------+\n"
     ]
    }
   ],
   "source": [
    "!nvidia-smi"
   ]
  },
  {
   "cell_type": "code",
   "execution_count": 0,
   "metadata": {
    "colab": {},
    "colab_type": "code",
    "id": "QeIme4M4jwX7"
   },
   "outputs": [],
   "source": [
    "\n",
    "import pandas as pd\n",
    "import numpy as np\n",
    "\n",
    "expander = pd.read_csv('gdrive/My Drive/Expander_data.csv')\n"
   ]
  },
  {
   "cell_type": "markdown",
   "metadata": {
    "colab_type": "text",
    "id": "kKDDbjk0grcs"
   },
   "source": [
    "Checking if the Columns have Null values. Looks good, only one column."
   ]
  },
  {
   "cell_type": "code",
   "execution_count": 0,
   "metadata": {
    "colab": {
     "base_uri": "https://localhost:8080/",
     "height": 34
    },
    "colab_type": "code",
    "id": "KIS3X2VA7Euc",
    "outputId": "4f9e9fca-4827-44ae-ce6c-9559fcb1dbe7"
   },
   "outputs": [
    {
     "data": {
      "text/plain": [
       "Index(['Run Status'], dtype='object')"
      ]
     },
     "execution_count": 101,
     "metadata": {
      "tags": []
     },
     "output_type": "execute_result"
    }
   ],
   "source": [
    "expander.columns[expander.isna().any()]"
   ]
  },
  {
   "cell_type": "markdown",
   "metadata": {
    "colab_type": "text",
    "id": "yWr2V5qKg-8Q"
   },
   "source": [
    "Attribute of interest (The targets) are stored in y variable."
   ]
  },
  {
   "cell_type": "code",
   "execution_count": 0,
   "metadata": {
    "colab": {},
    "colab_type": "code",
    "id": "nmJfph1R8mfG"
   },
   "outputs": [],
   "source": [
    "y = expander.iloc[:,6]\n",
    "expander = expander.drop(\"Discharge Pressure (psig)\",axis=1)"
   ]
  },
  {
   "cell_type": "code",
   "execution_count": 0,
   "metadata": {
    "colab": {
     "base_uri": "https://localhost:8080/",
     "height": 296
    },
    "colab_type": "code",
    "id": "ANfysPF8S5sv",
    "outputId": "2c998cfa-00ea-4e3b-cbf0-28456f2b5629"
   },
   "outputs": [
    {
     "data": {
      "text/html": [
       "<div>\n",
       "<style scoped>\n",
       "    .dataframe tbody tr th:only-of-type {\n",
       "        vertical-align: middle;\n",
       "    }\n",
       "\n",
       "    .dataframe tbody tr th {\n",
       "        vertical-align: top;\n",
       "    }\n",
       "\n",
       "    .dataframe thead th {\n",
       "        text-align: right;\n",
       "    }\n",
       "</style>\n",
       "<table border=\"1\" class=\"dataframe\">\n",
       "  <thead>\n",
       "    <tr style=\"text-align: right;\">\n",
       "      <th></th>\n",
       "      <th>Timestamp</th>\n",
       "      <th>Suction Pressure (psig)</th>\n",
       "      <th>Suction Temperature (F)</th>\n",
       "      <th>Total Flow (gpm)</th>\n",
       "      <th>Speed (rpm)</th>\n",
       "      <th>By-pass Valve Position (%)</th>\n",
       "      <th>Discharge Temperature (F)</th>\n",
       "      <th>Run Status</th>\n",
       "    </tr>\n",
       "  </thead>\n",
       "  <tbody>\n",
       "    <tr>\n",
       "      <th>0</th>\n",
       "      <td>1/4/2020 21:20</td>\n",
       "      <td>596.100853</td>\n",
       "      <td>-229.436683</td>\n",
       "      <td>7925.800487</td>\n",
       "      <td>2999.411045</td>\n",
       "      <td>6.0</td>\n",
       "      <td>-227.614448</td>\n",
       "      <td>NaN</td>\n",
       "    </tr>\n",
       "    <tr>\n",
       "      <th>1</th>\n",
       "      <td>1/4/2020 21:20</td>\n",
       "      <td>596.838217</td>\n",
       "      <td>-230.453708</td>\n",
       "      <td>8085.917724</td>\n",
       "      <td>2989.706617</td>\n",
       "      <td>6.0</td>\n",
       "      <td>-228.668636</td>\n",
       "      <td>NaN</td>\n",
       "    </tr>\n",
       "    <tr>\n",
       "      <th>2</th>\n",
       "      <td>1/4/2020 21:20</td>\n",
       "      <td>596.468895</td>\n",
       "      <td>-229.545356</td>\n",
       "      <td>7902.175243</td>\n",
       "      <td>3006.331679</td>\n",
       "      <td>6.0</td>\n",
       "      <td>-227.755324</td>\n",
       "      <td>NaN</td>\n",
       "    </tr>\n",
       "    <tr>\n",
       "      <th>3</th>\n",
       "      <td>1/4/2020 21:20</td>\n",
       "      <td>603.568271</td>\n",
       "      <td>-230.309438</td>\n",
       "      <td>7991.808959</td>\n",
       "      <td>3010.487486</td>\n",
       "      <td>6.0</td>\n",
       "      <td>-228.489113</td>\n",
       "      <td>NaN</td>\n",
       "    </tr>\n",
       "    <tr>\n",
       "      <th>4</th>\n",
       "      <td>1/4/2020 21:21</td>\n",
       "      <td>595.407372</td>\n",
       "      <td>-229.767969</td>\n",
       "      <td>7871.560747</td>\n",
       "      <td>2986.665518</td>\n",
       "      <td>6.0</td>\n",
       "      <td>-227.971795</td>\n",
       "      <td>NaN</td>\n",
       "    </tr>\n",
       "  </tbody>\n",
       "</table>\n",
       "</div>"
      ],
      "text/plain": [
       "        Timestamp  ...  Run Status\n",
       "0  1/4/2020 21:20  ...         NaN\n",
       "1  1/4/2020 21:20  ...         NaN\n",
       "2  1/4/2020 21:20  ...         NaN\n",
       "3  1/4/2020 21:20  ...         NaN\n",
       "4  1/4/2020 21:21  ...         NaN\n",
       "\n",
       "[5 rows x 8 columns]"
      ]
     },
     "execution_count": 103,
     "metadata": {
      "tags": []
     },
     "output_type": "execute_result"
    }
   ],
   "source": [
    "expander.head(5)"
   ]
  },
  {
   "cell_type": "markdown",
   "metadata": {
    "colab_type": "text",
    "id": "A2dVvCX0hIOB"
   },
   "source": [
    "Some things we can infer:\n",
    "1. Run Status has no useful value, hence can be dropped.\n",
    "2. Discharge temperature and Suction Temperature has negative values only. "
   ]
  },
  {
   "cell_type": "code",
   "execution_count": 0,
   "metadata": {
    "colab": {
     "base_uri": "https://localhost:8080/",
     "height": 301
    },
    "colab_type": "code",
    "id": "UVLqzf8bS72_",
    "outputId": "a8588474-1791-4d0a-a814-31d6ba85709e"
   },
   "outputs": [
    {
     "data": {
      "text/html": [
       "<div>\n",
       "<style scoped>\n",
       "    .dataframe tbody tr th:only-of-type {\n",
       "        vertical-align: middle;\n",
       "    }\n",
       "\n",
       "    .dataframe tbody tr th {\n",
       "        vertical-align: top;\n",
       "    }\n",
       "\n",
       "    .dataframe thead th {\n",
       "        text-align: right;\n",
       "    }\n",
       "</style>\n",
       "<table border=\"1\" class=\"dataframe\">\n",
       "  <thead>\n",
       "    <tr style=\"text-align: right;\">\n",
       "      <th></th>\n",
       "      <th>Suction Pressure (psig)</th>\n",
       "      <th>Suction Temperature (F)</th>\n",
       "      <th>Total Flow (gpm)</th>\n",
       "      <th>Speed (rpm)</th>\n",
       "      <th>By-pass Valve Position (%)</th>\n",
       "      <th>Discharge Temperature (F)</th>\n",
       "      <th>Run Status</th>\n",
       "    </tr>\n",
       "  </thead>\n",
       "  <tbody>\n",
       "    <tr>\n",
       "      <th>count</th>\n",
       "      <td>296450.000000</td>\n",
       "      <td>296450.000000</td>\n",
       "      <td>296450.000000</td>\n",
       "      <td>296450.000000</td>\n",
       "      <td>296450.000000</td>\n",
       "      <td>296450.000000</td>\n",
       "      <td>0.0</td>\n",
       "    </tr>\n",
       "    <tr>\n",
       "      <th>mean</th>\n",
       "      <td>590.541350</td>\n",
       "      <td>-231.564934</td>\n",
       "      <td>8119.917777</td>\n",
       "      <td>2955.416695</td>\n",
       "      <td>2.005667</td>\n",
       "      <td>-229.764934</td>\n",
       "      <td>NaN</td>\n",
       "    </tr>\n",
       "    <tr>\n",
       "      <th>std</th>\n",
       "      <td>23.216552</td>\n",
       "      <td>3.574107</td>\n",
       "      <td>398.049531</td>\n",
       "      <td>54.201467</td>\n",
       "      <td>2.488568</td>\n",
       "      <td>3.574136</td>\n",
       "      <td>NaN</td>\n",
       "    </tr>\n",
       "    <tr>\n",
       "      <th>min</th>\n",
       "      <td>552.420048</td>\n",
       "      <td>-238.594971</td>\n",
       "      <td>7056.004500</td>\n",
       "      <td>2835.750571</td>\n",
       "      <td>-0.200000</td>\n",
       "      <td>-236.816223</td>\n",
       "      <td>NaN</td>\n",
       "    </tr>\n",
       "    <tr>\n",
       "      <th>25%</th>\n",
       "      <td>572.757269</td>\n",
       "      <td>-234.171427</td>\n",
       "      <td>7916.322054</td>\n",
       "      <td>2906.336126</td>\n",
       "      <td>0.000000</td>\n",
       "      <td>-232.371760</td>\n",
       "      <td>NaN</td>\n",
       "    </tr>\n",
       "    <tr>\n",
       "      <th>50%</th>\n",
       "      <td>586.491792</td>\n",
       "      <td>-230.922352</td>\n",
       "      <td>8144.161813</td>\n",
       "      <td>2961.788792</td>\n",
       "      <td>0.000000</td>\n",
       "      <td>-229.122946</td>\n",
       "      <td>NaN</td>\n",
       "    </tr>\n",
       "    <tr>\n",
       "      <th>75%</th>\n",
       "      <td>605.986608</td>\n",
       "      <td>-229.585168</td>\n",
       "      <td>8388.610374</td>\n",
       "      <td>3000.863611</td>\n",
       "      <td>4.000000</td>\n",
       "      <td>-227.785796</td>\n",
       "      <td>NaN</td>\n",
       "    </tr>\n",
       "    <tr>\n",
       "      <th>max</th>\n",
       "      <td>649.217417</td>\n",
       "      <td>-223.440125</td>\n",
       "      <td>8975.986378</td>\n",
       "      <td>3090.367995</td>\n",
       "      <td>8.026667</td>\n",
       "      <td>-221.617102</td>\n",
       "      <td>NaN</td>\n",
       "    </tr>\n",
       "  </tbody>\n",
       "</table>\n",
       "</div>"
      ],
      "text/plain": [
       "       Suction Pressure (psig)  ...  Run Status\n",
       "count            296450.000000  ...         0.0\n",
       "mean                590.541350  ...         NaN\n",
       "std                  23.216552  ...         NaN\n",
       "min                 552.420048  ...         NaN\n",
       "25%                 572.757269  ...         NaN\n",
       "50%                 586.491792  ...         NaN\n",
       "75%                 605.986608  ...         NaN\n",
       "max                 649.217417  ...         NaN\n",
       "\n",
       "[8 rows x 7 columns]"
      ]
     },
     "execution_count": 104,
     "metadata": {
      "tags": []
     },
     "output_type": "execute_result"
    }
   ],
   "source": [
    "expander.describe()"
   ]
  },
  {
   "cell_type": "markdown",
   "metadata": {
    "colab_type": "text",
    "id": "6GzJaMrfh_QK"
   },
   "source": [
    "For better understanding of the data, lets convert the negative values to positive values."
   ]
  },
  {
   "cell_type": "code",
   "execution_count": 0,
   "metadata": {
    "colab": {},
    "colab_type": "code",
    "id": "Ou3XHePZ_tk0"
   },
   "outputs": [],
   "source": [
    "def neg_to_positive(data,col):\n",
    "  min_val = min(data[col].values)\n",
    "  min_val = abs(min_val)+1\n",
    "  expander[col] += min_val \n",
    "\n",
    "neg_to_positive(expander,\"Suction Temperature (F)\")\n",
    "neg_to_positive(expander,\"Discharge Temperature (F)\")"
   ]
  },
  {
   "cell_type": "code",
   "execution_count": 0,
   "metadata": {
    "colab": {
     "base_uri": "https://localhost:8080/",
     "height": 50
    },
    "colab_type": "code",
    "id": "5OcxIKuz-sWt",
    "outputId": "475aeee6-a31b-4ebb-a13f-628659a099f6"
   },
   "outputs": [
    {
     "name": "stdout",
     "output_type": "stream",
     "text": [
      "1.0 16.15484619999998\n",
      "1.0 16.199120399999998\n"
     ]
    }
   ],
   "source": [
    "print(min(expander[\"Suction Temperature (F)\"].values), max(expander[\"Suction Temperature (F)\"].values))\n",
    "print(min(expander[\"Discharge Temperature (F)\"].values), max(expander[\"Discharge Temperature (F)\"].values))"
   ]
  },
  {
   "cell_type": "code",
   "execution_count": 0,
   "metadata": {
    "colab": {
     "base_uri": "https://localhost:8080/",
     "height": 301
    },
    "colab_type": "code",
    "id": "knAw0TWgBlJ1",
    "outputId": "23fa8428-257f-44a1-fb0e-8449813ce6bd"
   },
   "outputs": [
    {
     "data": {
      "text/html": [
       "<div>\n",
       "<style scoped>\n",
       "    .dataframe tbody tr th:only-of-type {\n",
       "        vertical-align: middle;\n",
       "    }\n",
       "\n",
       "    .dataframe tbody tr th {\n",
       "        vertical-align: top;\n",
       "    }\n",
       "\n",
       "    .dataframe thead th {\n",
       "        text-align: right;\n",
       "    }\n",
       "</style>\n",
       "<table border=\"1\" class=\"dataframe\">\n",
       "  <thead>\n",
       "    <tr style=\"text-align: right;\">\n",
       "      <th></th>\n",
       "      <th>Suction Pressure (psig)</th>\n",
       "      <th>Suction Temperature (F)</th>\n",
       "      <th>Total Flow (gpm)</th>\n",
       "      <th>Speed (rpm)</th>\n",
       "      <th>By-pass Valve Position (%)</th>\n",
       "      <th>Discharge Temperature (F)</th>\n",
       "      <th>Run Status</th>\n",
       "    </tr>\n",
       "  </thead>\n",
       "  <tbody>\n",
       "    <tr>\n",
       "      <th>count</th>\n",
       "      <td>296450.000000</td>\n",
       "      <td>296450.000000</td>\n",
       "      <td>296450.000000</td>\n",
       "      <td>296450.000000</td>\n",
       "      <td>296450.000000</td>\n",
       "      <td>296450.000000</td>\n",
       "      <td>0.0</td>\n",
       "    </tr>\n",
       "    <tr>\n",
       "      <th>mean</th>\n",
       "      <td>590.541350</td>\n",
       "      <td>8.030037</td>\n",
       "      <td>8119.917777</td>\n",
       "      <td>2955.416695</td>\n",
       "      <td>2.005667</td>\n",
       "      <td>8.051288</td>\n",
       "      <td>NaN</td>\n",
       "    </tr>\n",
       "    <tr>\n",
       "      <th>std</th>\n",
       "      <td>23.216552</td>\n",
       "      <td>3.574107</td>\n",
       "      <td>398.049531</td>\n",
       "      <td>54.201467</td>\n",
       "      <td>2.488568</td>\n",
       "      <td>3.574136</td>\n",
       "      <td>NaN</td>\n",
       "    </tr>\n",
       "    <tr>\n",
       "      <th>min</th>\n",
       "      <td>552.420048</td>\n",
       "      <td>1.000000</td>\n",
       "      <td>7056.004500</td>\n",
       "      <td>2835.750571</td>\n",
       "      <td>-0.200000</td>\n",
       "      <td>1.000000</td>\n",
       "      <td>NaN</td>\n",
       "    </tr>\n",
       "    <tr>\n",
       "      <th>25%</th>\n",
       "      <td>572.757269</td>\n",
       "      <td>5.423544</td>\n",
       "      <td>7916.322054</td>\n",
       "      <td>2906.336126</td>\n",
       "      <td>0.000000</td>\n",
       "      <td>5.444463</td>\n",
       "      <td>NaN</td>\n",
       "    </tr>\n",
       "    <tr>\n",
       "      <th>50%</th>\n",
       "      <td>586.491792</td>\n",
       "      <td>8.672619</td>\n",
       "      <td>8144.161813</td>\n",
       "      <td>2961.788792</td>\n",
       "      <td>0.000000</td>\n",
       "      <td>8.693277</td>\n",
       "      <td>NaN</td>\n",
       "    </tr>\n",
       "    <tr>\n",
       "      <th>75%</th>\n",
       "      <td>605.986608</td>\n",
       "      <td>10.009802</td>\n",
       "      <td>8388.610374</td>\n",
       "      <td>3000.863611</td>\n",
       "      <td>4.000000</td>\n",
       "      <td>10.030426</td>\n",
       "      <td>NaN</td>\n",
       "    </tr>\n",
       "    <tr>\n",
       "      <th>max</th>\n",
       "      <td>649.217417</td>\n",
       "      <td>16.154846</td>\n",
       "      <td>8975.986378</td>\n",
       "      <td>3090.367995</td>\n",
       "      <td>8.026667</td>\n",
       "      <td>16.199120</td>\n",
       "      <td>NaN</td>\n",
       "    </tr>\n",
       "  </tbody>\n",
       "</table>\n",
       "</div>"
      ],
      "text/plain": [
       "       Suction Pressure (psig)  ...  Run Status\n",
       "count            296450.000000  ...         0.0\n",
       "mean                590.541350  ...         NaN\n",
       "std                  23.216552  ...         NaN\n",
       "min                 552.420048  ...         NaN\n",
       "25%                 572.757269  ...         NaN\n",
       "50%                 586.491792  ...         NaN\n",
       "75%                 605.986608  ...         NaN\n",
       "max                 649.217417  ...         NaN\n",
       "\n",
       "[8 rows x 7 columns]"
      ]
     },
     "execution_count": 107,
     "metadata": {
      "tags": []
     },
     "output_type": "execute_result"
    }
   ],
   "source": [
    "expander.describe()"
   ]
  },
  {
   "cell_type": "markdown",
   "metadata": {
    "colab_type": "text",
    "id": "EHG2g0OEiHSQ"
   },
   "source": [
    "Dropping Run Status because it has no useful information."
   ]
  },
  {
   "cell_type": "code",
   "execution_count": 0,
   "metadata": {
    "colab": {},
    "colab_type": "code",
    "id": "CJzGTskq8292"
   },
   "outputs": [],
   "source": [
    "expander = expander.drop(['Run Status'], axis=1)"
   ]
  },
  {
   "cell_type": "markdown",
   "metadata": {
    "colab_type": "text",
    "id": "ZdsWnnU-iLkc"
   },
   "source": [
    "Scaling data. "
   ]
  },
  {
   "cell_type": "code",
   "execution_count": 0,
   "metadata": {
    "colab": {},
    "colab_type": "code",
    "id": "cOXwzpYf_TP6"
   },
   "outputs": [],
   "source": [
    "from sklearn.preprocessing import MinMaxScaler\n",
    "\n",
    "scaler = MinMaxScaler(feature_range=(0, 1))\n",
    "expander.iloc[:,1:] = scaler.fit_transform(expander.iloc[:,1:])"
   ]
  },
  {
   "cell_type": "code",
   "execution_count": 0,
   "metadata": {
    "colab": {
     "base_uri": "https://localhost:8080/",
     "height": 203
    },
    "colab_type": "code",
    "id": "oka8RJ8_C5s7",
    "outputId": "d01125c0-7ec0-482e-e2dd-fcf1fe544867"
   },
   "outputs": [
    {
     "data": {
      "text/html": [
       "<div>\n",
       "<style scoped>\n",
       "    .dataframe tbody tr th:only-of-type {\n",
       "        vertical-align: middle;\n",
       "    }\n",
       "\n",
       "    .dataframe tbody tr th {\n",
       "        vertical-align: top;\n",
       "    }\n",
       "\n",
       "    .dataframe thead th {\n",
       "        text-align: right;\n",
       "    }\n",
       "</style>\n",
       "<table border=\"1\" class=\"dataframe\">\n",
       "  <thead>\n",
       "    <tr style=\"text-align: right;\">\n",
       "      <th></th>\n",
       "      <th>Timestamp</th>\n",
       "      <th>Suction Pressure (psig)</th>\n",
       "      <th>Suction Temperature (F)</th>\n",
       "      <th>Total Flow (gpm)</th>\n",
       "      <th>Speed (rpm)</th>\n",
       "      <th>By-pass Valve Position (%)</th>\n",
       "      <th>Discharge Temperature (F)</th>\n",
       "    </tr>\n",
       "  </thead>\n",
       "  <tbody>\n",
       "    <tr>\n",
       "      <th>0</th>\n",
       "      <td>1/4/2020 21:20</td>\n",
       "      <td>0.451260</td>\n",
       "      <td>0.604314</td>\n",
       "      <td>0.453023</td>\n",
       "      <td>0.642770</td>\n",
       "      <td>0.753647</td>\n",
       "      <td>0.605415</td>\n",
       "    </tr>\n",
       "    <tr>\n",
       "      <th>1</th>\n",
       "      <td>1/4/2020 21:20</td>\n",
       "      <td>0.458878</td>\n",
       "      <td>0.537205</td>\n",
       "      <td>0.536418</td>\n",
       "      <td>0.604656</td>\n",
       "      <td>0.753647</td>\n",
       "      <td>0.536056</td>\n",
       "    </tr>\n",
       "    <tr>\n",
       "      <th>2</th>\n",
       "      <td>1/4/2020 21:20</td>\n",
       "      <td>0.455062</td>\n",
       "      <td>0.597143</td>\n",
       "      <td>0.440718</td>\n",
       "      <td>0.669951</td>\n",
       "      <td>0.753647</td>\n",
       "      <td>0.596146</td>\n",
       "    </tr>\n",
       "  </tbody>\n",
       "</table>\n",
       "</div>"
      ],
      "text/plain": [
       "        Timestamp  ...  Discharge Temperature (F)\n",
       "0  1/4/2020 21:20  ...                   0.605415\n",
       "1  1/4/2020 21:20  ...                   0.536056\n",
       "2  1/4/2020 21:20  ...                   0.596146\n",
       "\n",
       "[3 rows x 7 columns]"
      ]
     },
     "execution_count": 110,
     "metadata": {
      "tags": []
     },
     "output_type": "execute_result"
    }
   ],
   "source": [
    "expander.head(3)"
   ]
  },
  {
   "cell_type": "code",
   "execution_count": 0,
   "metadata": {
    "colab": {
     "base_uri": "https://localhost:8080/",
     "height": 34
    },
    "colab_type": "code",
    "id": "DDvWF9QbDlfS",
    "outputId": "a87eb0fd-e2fd-4150-fce2-dae94bae694d"
   },
   "outputs": [
    {
     "data": {
      "text/plain": [
       "((296450,), (296450, 6))"
      ]
     },
     "execution_count": 14,
     "metadata": {
      "tags": []
     },
     "output_type": "execute_result"
    }
   ],
   "source": [
    "X = expander.iloc[:,1:].values\n",
    "Y = y.values\n",
    "y.shape, X.shape"
   ]
  },
  {
   "cell_type": "markdown",
   "metadata": {
    "colab_type": "text",
    "id": "dQwu04b-iRNB"
   },
   "source": [
    "Splitting data. Train and test."
   ]
  },
  {
   "cell_type": "code",
   "execution_count": 0,
   "metadata": {
    "colab": {},
    "colab_type": "code",
    "id": "Vd6uPeXDFYXB"
   },
   "outputs": [],
   "source": [
    "from sklearn.model_selection import train_test_split\n",
    "\n",
    "X_train,X_test,y_train,y_test=train_test_split(X,Y,test_size=0.33,random_state=2, shuffle=True)"
   ]
  },
  {
   "cell_type": "markdown",
   "metadata": {
    "colab_type": "text",
    "id": "B9IqL9kxiUVW"
   },
   "source": [
    "Custom function to calculate RMSE, which will be used for LSTM Model."
   ]
  },
  {
   "cell_type": "code",
   "execution_count": 0,
   "metadata": {
    "colab": {
     "base_uri": "https://localhost:8080/",
     "height": 79
    },
    "colab_type": "code",
    "id": "nqbOzV1rTG3O",
    "outputId": "3cb0924f-e6c5-412a-edcb-e9f73c900e01"
   },
   "outputs": [
    {
     "name": "stderr",
     "output_type": "stream",
     "text": [
      "Using TensorFlow backend.\n"
     ]
    },
    {
     "data": {
      "text/html": [
       "<p style=\"color: red;\">\n",
       "The default version of TensorFlow in Colab will soon switch to TensorFlow 2.x.<br>\n",
       "We recommend you <a href=\"https://www.tensorflow.org/guide/migrate\" target=\"_blank\">upgrade</a> now \n",
       "or ensure your notebook will continue to use TensorFlow 1.x via the <code>%tensorflow_version 1.x</code> magic:\n",
       "<a href=\"https://colab.research.google.com/notebooks/tensorflow_version.ipynb\" target=\"_blank\">more info</a>.</p>\n"
      ],
      "text/plain": [
       "<IPython.core.display.HTML object>"
      ]
     },
     "metadata": {
      "tags": []
     },
     "output_type": "display_data"
    }
   ],
   "source": [
    "from keras import backend as K\n",
    "\n",
    "def root_mean_squared_error(y_true, y_pred):\n",
    "        return K.sqrt(K.mean(K.square(y_pred - y_true))) \n"
   ]
  },
  {
   "cell_type": "markdown",
   "metadata": {
    "colab_type": "text",
    "id": "SMUZL4BXiaXX"
   },
   "source": [
    "A function to calculate RMSE, Accuracy, MAE after the predictions are obtained."
   ]
  },
  {
   "cell_type": "code",
   "execution_count": 0,
   "metadata": {
    "colab": {},
    "colab_type": "code",
    "id": "xza9WleT33-W"
   },
   "outputs": [],
   "source": [
    "def metric_display(preds):\n",
    "  errors = abs(preds - y_test)\n",
    "  final_rmse = np.sqrt(np.mean(errors*errors))\n",
    "  mape = 100 * (errors / y_test)\n",
    "  accuracy = 100 - np.mean(mape)\n",
    "  return \"Mean Absolute Error: \", round(np.mean(errors), 2), \"RMSE: \", final_rmse, \"Accuracy: \", round(accuracy, 2)\n"
   ]
  },
  {
   "cell_type": "markdown",
   "metadata": {
    "colab_type": "text",
    "id": "5Dh8hgxLTQIk"
   },
   "source": [
    "Exploring Machine Learning/Deep Learning Models."
   ]
  },
  {
   "cell_type": "markdown",
   "metadata": {
    "colab_type": "text",
    "id": "weV8UpL_TY1x"
   },
   "source": [
    "1. Random Forest"
   ]
  },
  {
   "cell_type": "code",
   "execution_count": 0,
   "metadata": {
    "colab": {
     "base_uri": "https://localhost:8080/",
     "height": 134
    },
    "colab_type": "code",
    "id": "b28iYiu8Tb54",
    "outputId": "81c2ef07-f7d6-4c76-ca95-c843c2c0741c"
   },
   "outputs": [
    {
     "data": {
      "text/plain": [
       "RandomForestRegressor(bootstrap=True, ccp_alpha=0.0, criterion='mse',\n",
       "                      max_depth=None, max_features='auto', max_leaf_nodes=None,\n",
       "                      max_samples=None, min_impurity_decrease=0.0,\n",
       "                      min_impurity_split=None, min_samples_leaf=1,\n",
       "                      min_samples_split=2, min_weight_fraction_leaf=0.0,\n",
       "                      n_estimators=100, n_jobs=None, oob_score=False,\n",
       "                      random_state=42, verbose=0, warm_start=False)"
      ]
     },
     "execution_count": 20,
     "metadata": {
      "tags": []
     },
     "output_type": "execute_result"
    }
   ],
   "source": [
    "from sklearn.ensemble import RandomForestRegressor\n",
    "rf = RandomForestRegressor(n_estimators= 100, random_state=42)\n",
    "rf.fit(X_train, y_train)"
   ]
  },
  {
   "cell_type": "code",
   "execution_count": 0,
   "metadata": {
    "colab": {
     "base_uri": "https://localhost:8080/",
     "height": 34
    },
    "colab_type": "code",
    "id": "T4tto_flTu1y",
    "outputId": "3a8ee7fb-1583-4668-fdac-9a3e48ac2152"
   },
   "outputs": [
    {
     "name": "stdout",
     "output_type": "stream",
     "text": [
      "('Mean Absolute Error: ', 1.08, 'RMSE: ', 1.342022555464408, 'Accuracy: ', 99.42)\n"
     ]
    }
   ],
   "source": [
    "preds_rf = rf.predict(X_test)\n",
    "scores_rf = metric_display(preds_rf)\n",
    "print(scores_rf)"
   ]
  },
  {
   "cell_type": "markdown",
   "metadata": {
    "colab_type": "text",
    "id": "yPtpE06cb-Mz"
   },
   "source": [
    "2. Gradient Boost"
   ]
  },
  {
   "cell_type": "code",
   "execution_count": 0,
   "metadata": {
    "colab": {
     "base_uri": "https://localhost:8080/",
     "height": 168
    },
    "colab_type": "code",
    "id": "K_D6NZgoUQHj",
    "outputId": "d254b0d9-d387-43cd-ed4d-ed6834c2863d"
   },
   "outputs": [
    {
     "data": {
      "text/plain": [
       "GradientBoostingRegressor(alpha=0.9, ccp_alpha=0.0, criterion='friedman_mse',\n",
       "                          init=None, learning_rate=0.1, loss='ls', max_depth=3,\n",
       "                          max_features=None, max_leaf_nodes=None,\n",
       "                          min_impurity_decrease=0.0, min_impurity_split=None,\n",
       "                          min_samples_leaf=1, min_samples_split=2,\n",
       "                          min_weight_fraction_leaf=0.0, n_estimators=100,\n",
       "                          n_iter_no_change=None, presort='deprecated',\n",
       "                          random_state=42, subsample=1.0, tol=0.0001,\n",
       "                          validation_fraction=0.1, verbose=0, warm_start=False)"
      ]
     },
     "execution_count": 22,
     "metadata": {
      "tags": []
     },
     "output_type": "execute_result"
    }
   ],
   "source": [
    "from sklearn.ensemble import GradientBoostingRegressor\n",
    "gb = GradientBoostingRegressor(n_estimators= 100, random_state=42)\n",
    "gb.fit(X_train, y_train)"
   ]
  },
  {
   "cell_type": "code",
   "execution_count": 0,
   "metadata": {
    "colab": {
     "base_uri": "https://localhost:8080/",
     "height": 34
    },
    "colab_type": "code",
    "id": "5WAJJ102Ur8J",
    "outputId": "98d44699-c947-45c0-cfc2-b2d3e97fdfc9"
   },
   "outputs": [
    {
     "name": "stdout",
     "output_type": "stream",
     "text": [
      "('Mean Absolute Error: ', 1.79, 'RMSE: ', 2.3616757284151517, 'Accuracy: ', 99.01)\n"
     ]
    }
   ],
   "source": [
    "preds_gb = gb.predict(X_test)\n",
    "scores_gb = metric_display(preds_gb)\n",
    "print(scores_gb)"
   ]
  },
  {
   "cell_type": "markdown",
   "metadata": {
    "colab_type": "text",
    "id": "rjO_KJ_ycCD-"
   },
   "source": [
    "3. AdaBoost"
   ]
  },
  {
   "cell_type": "code",
   "execution_count": 0,
   "metadata": {
    "colab": {
     "base_uri": "https://localhost:8080/",
     "height": 50
    },
    "colab_type": "code",
    "id": "oHQfHnXbVEoM",
    "outputId": "55df34fa-7196-4a8e-acd2-fb55f6e41d33"
   },
   "outputs": [
    {
     "data": {
      "text/plain": [
       "AdaBoostRegressor(base_estimator=None, learning_rate=0.1, loss='linear',\n",
       "                  n_estimators=200, random_state=42)"
      ]
     },
     "execution_count": 24,
     "metadata": {
      "tags": []
     },
     "output_type": "execute_result"
    }
   ],
   "source": [
    "from sklearn.ensemble import AdaBoostRegressor\n",
    "ada = AdaBoostRegressor(n_estimators= 200, random_state=42, learning_rate=0.1)\n",
    "ada.fit(X_train, y_train)"
   ]
  },
  {
   "cell_type": "code",
   "execution_count": 0,
   "metadata": {
    "colab": {
     "base_uri": "https://localhost:8080/",
     "height": 34
    },
    "colab_type": "code",
    "id": "Kmf6EABqWIjl",
    "outputId": "258f6d49-63bc-439e-d7ef-9d15f3f47ceb"
   },
   "outputs": [
    {
     "name": "stdout",
     "output_type": "stream",
     "text": [
      "('Mean Absolute Error: ', 6.68, 'RMSE: ', 7.968433090920889, 'Accuracy: ', 96.09)\n"
     ]
    }
   ],
   "source": [
    "preds_ada = ada.predict(X_test)\n",
    "scores_ada = metric_display(preds_ada)\n",
    "print(scores_ada)\n"
   ]
  },
  {
   "cell_type": "markdown",
   "metadata": {
    "colab_type": "text",
    "id": "xyYRTrGdcEex"
   },
   "source": [
    "4. SVM"
   ]
  },
  {
   "cell_type": "code",
   "execution_count": 0,
   "metadata": {
    "colab": {
     "base_uri": "https://localhost:8080/",
     "height": 50
    },
    "colab_type": "code",
    "id": "rR8PkGtjWo8q",
    "outputId": "5392abba-7edc-40ee-fe26-d582dc7c27f9"
   },
   "outputs": [
    {
     "data": {
      "text/plain": [
       "SVR(C=1.0, cache_size=200, coef0=0.0, degree=3, epsilon=0.1, gamma='scale',\n",
       "    kernel='rbf', max_iter=-1, shrinking=True, tol=0.001, verbose=False)"
      ]
     },
     "execution_count": 27,
     "metadata": {
      "tags": []
     },
     "output_type": "execute_result"
    }
   ],
   "source": [
    "from sklearn.svm import SVR\n",
    "svm=SVR()\n",
    "svm.fit(X_train,y_train)"
   ]
  },
  {
   "cell_type": "code",
   "execution_count": 0,
   "metadata": {
    "colab": {
     "base_uri": "https://localhost:8080/",
     "height": 34
    },
    "colab_type": "code",
    "id": "rXWVvFeMZI0s",
    "outputId": "45ee820b-3e63-4e12-892b-64d5113851cb"
   },
   "outputs": [
    {
     "name": "stdout",
     "output_type": "stream",
     "text": [
      "('Mean Absolute Error: ', 1.04, 'RMSE: ', 1.2601093235915026, 'Accuracy: ', 99.43)\n"
     ]
    }
   ],
   "source": [
    "preds_svm = svm.predict(X_test)\n",
    "scores_svm = metric_display(preds_svm)\n",
    "print(scores_svm)\n"
   ]
  },
  {
   "cell_type": "markdown",
   "metadata": {
    "colab_type": "text",
    "id": "akSmH6oycG3W"
   },
   "source": [
    "Deep Learning Model LSTM"
   ]
  },
  {
   "cell_type": "code",
   "execution_count": 0,
   "metadata": {
    "colab": {},
    "colab_type": "code",
    "id": "P1RiFHTtF8xO"
   },
   "outputs": [],
   "source": [
    "X_train_lst=X_train.reshape(X_train.shape[0],X_train.shape[1],1)\n",
    "X_test_lst=X_test.reshape(X_test.shape[0],X_test.shape[1],1)"
   ]
  },
  {
   "cell_type": "code",
   "execution_count": 0,
   "metadata": {
    "colab": {
     "base_uri": "https://localhost:8080/",
     "height": 1000
    },
    "colab_type": "code",
    "id": "-CE9s7AA-lkU",
    "outputId": "f730158e-b597-4ad1-e014-f4fbd7ef7b11"
   },
   "outputs": [
    {
     "name": "stdout",
     "output_type": "stream",
     "text": [
      "WARNING:tensorflow:From /usr/local/lib/python3.6/dist-packages/keras/backend/tensorflow_backend.py:148: The name tf.placeholder_with_default is deprecated. Please use tf.compat.v1.placeholder_with_default instead.\n",
      "\n",
      "WARNING:tensorflow:From /usr/local/lib/python3.6/dist-packages/keras/backend/tensorflow_backend.py:3733: calling dropout (from tensorflow.python.ops.nn_ops) with keep_prob is deprecated and will be removed in a future version.\n",
      "Instructions for updating:\n",
      "Please use `rate` instead of `keep_prob`. Rate should be set to `rate = 1 - keep_prob`.\n",
      "Epoch 1/50\n",
      "198621/198621 [==============================] - 17s 86us/step - loss: 31.1673 - mean_absolute_error: 25.8004\n",
      "Epoch 2/50\n",
      "198621/198621 [==============================] - 16s 83us/step - loss: 8.6681 - mean_absolute_error: 5.5626\n",
      "Epoch 3/50\n",
      "198621/198621 [==============================] - 17s 88us/step - loss: 6.3963 - mean_absolute_error: 4.4562\n",
      "Epoch 4/50\n",
      "198621/198621 [==============================] - 17s 84us/step - loss: 5.2528 - mean_absolute_error: 3.7538\n",
      "Epoch 5/50\n",
      "198621/198621 [==============================] - 16s 82us/step - loss: 4.7517 - mean_absolute_error: 3.3540\n",
      "Epoch 6/50\n",
      "198621/198621 [==============================] - 16s 83us/step - loss: 4.3982 - mean_absolute_error: 3.0911\n",
      "Epoch 7/50\n",
      "198621/198621 [==============================] - 16s 82us/step - loss: 4.0700 - mean_absolute_error: 2.8401\n",
      "Epoch 8/50\n",
      "198621/198621 [==============================] - 17s 87us/step - loss: 3.7713 - mean_absolute_error: 2.6422\n",
      "Epoch 9/50\n",
      "198621/198621 [==============================] - 17s 84us/step - loss: 3.5039 - mean_absolute_error: 2.5067\n",
      "Epoch 10/50\n",
      "198621/198621 [==============================] - 17s 84us/step - loss: 3.2147 - mean_absolute_error: 2.2829\n",
      "Epoch 11/50\n",
      "198621/198621 [==============================] - 16s 82us/step - loss: 2.9598 - mean_absolute_error: 2.1308\n",
      "Epoch 12/50\n",
      "198621/198621 [==============================] - 16s 83us/step - loss: 2.8343 - mean_absolute_error: 2.0544\n",
      "Epoch 13/50\n",
      "198621/198621 [==============================] - 16s 83us/step - loss: 2.6040 - mean_absolute_error: 1.8967\n",
      "Epoch 14/50\n",
      "198621/198621 [==============================] - 16s 82us/step - loss: 2.5327 - mean_absolute_error: 1.8494\n",
      "Epoch 15/50\n",
      "198621/198621 [==============================] - 17s 83us/step - loss: 2.4358 - mean_absolute_error: 1.7709\n",
      "Epoch 16/50\n",
      "198621/198621 [==============================] - 17s 83us/step - loss: 2.4067 - mean_absolute_error: 1.7569\n",
      "Epoch 17/50\n",
      "198621/198621 [==============================] - 17s 84us/step - loss: 2.3305 - mean_absolute_error: 1.7032\n",
      "Epoch 18/50\n",
      "198621/198621 [==============================] - 16s 82us/step - loss: 2.2460 - mean_absolute_error: 1.6576\n",
      "Epoch 19/50\n",
      "198621/198621 [==============================] - 17s 83us/step - loss: 2.2421 - mean_absolute_error: 1.6429\n",
      "Epoch 20/50\n",
      "198621/198621 [==============================] - 17s 84us/step - loss: 2.1827 - mean_absolute_error: 1.6006\n",
      "Epoch 21/50\n",
      "198621/198621 [==============================] - 17s 84us/step - loss: 2.1409 - mean_absolute_error: 1.5803\n",
      "Epoch 22/50\n",
      "198621/198621 [==============================] - 16s 83us/step - loss: 2.1173 - mean_absolute_error: 1.5835\n",
      "Epoch 23/50\n",
      "198621/198621 [==============================] - 16s 83us/step - loss: 2.0691 - mean_absolute_error: 1.5485\n",
      "Epoch 24/50\n",
      "198621/198621 [==============================] - 17s 86us/step - loss: 2.0468 - mean_absolute_error: 1.5222\n",
      "Epoch 25/50\n",
      "198621/198621 [==============================] - 16s 82us/step - loss: 2.0523 - mean_absolute_error: 1.5382\n",
      "Epoch 26/50\n",
      "198621/198621 [==============================] - 17s 84us/step - loss: 2.0180 - mean_absolute_error: 1.5163\n",
      "Epoch 27/50\n",
      "198621/198621 [==============================] - 17s 85us/step - loss: 2.0062 - mean_absolute_error: 1.5049\n",
      "Epoch 28/50\n",
      "198621/198621 [==============================] - 17s 84us/step - loss: 1.9684 - mean_absolute_error: 1.4843\n",
      "Epoch 29/50\n",
      "198621/198621 [==============================] - 16s 82us/step - loss: 1.9088 - mean_absolute_error: 1.4371\n",
      "Epoch 30/50\n",
      "198621/198621 [==============================] - 17s 84us/step - loss: 1.9570 - mean_absolute_error: 1.4732\n",
      "Epoch 31/50\n",
      "198621/198621 [==============================] - 17s 85us/step - loss: 1.9101 - mean_absolute_error: 1.4522\n",
      "Epoch 32/50\n",
      "198621/198621 [==============================] - 16s 83us/step - loss: 1.9046 - mean_absolute_error: 1.4347\n",
      "Epoch 33/50\n",
      "198621/198621 [==============================] - 17s 83us/step - loss: 1.8718 - mean_absolute_error: 1.4196\n",
      "Epoch 34/50\n",
      "198621/198621 [==============================] - 17s 84us/step - loss: 1.8796 - mean_absolute_error: 1.4080\n",
      "Epoch 35/50\n",
      "198621/198621 [==============================] - 18s 90us/step - loss: 1.8577 - mean_absolute_error: 1.4110\n",
      "Epoch 36/50\n",
      "198621/198621 [==============================] - 18s 89us/step - loss: 1.7807 - mean_absolute_error: 1.3611\n",
      "Epoch 37/50\n",
      "198621/198621 [==============================] - 17s 86us/step - loss: 1.8495 - mean_absolute_error: 1.4110\n",
      "Epoch 38/50\n",
      "198621/198621 [==============================] - 17s 84us/step - loss: 1.7470 - mean_absolute_error: 1.3247\n",
      "Epoch 39/50\n",
      "198621/198621 [==============================] - 17s 85us/step - loss: 1.7942 - mean_absolute_error: 1.3633\n",
      "Epoch 40/50\n",
      "198621/198621 [==============================] - 17s 83us/step - loss: 1.8441 - mean_absolute_error: 1.4208\n",
      "Epoch 41/50\n",
      "198621/198621 [==============================] - 17s 85us/step - loss: 1.7272 - mean_absolute_error: 1.3177\n",
      "Epoch 42/50\n",
      "198621/198621 [==============================] - 17s 85us/step - loss: 1.7411 - mean_absolute_error: 1.3294\n",
      "Epoch 43/50\n",
      "198621/198621 [==============================] - 16s 83us/step - loss: 1.7287 - mean_absolute_error: 1.3289\n",
      "Epoch 44/50\n",
      "198621/198621 [==============================] - 17s 84us/step - loss: 1.7528 - mean_absolute_error: 1.3399\n",
      "Epoch 45/50\n",
      "198621/198621 [==============================] - 17s 86us/step - loss: 1.7165 - mean_absolute_error: 1.3189\n",
      "Epoch 46/50\n",
      "198621/198621 [==============================] - 17s 84us/step - loss: 1.6964 - mean_absolute_error: 1.3054\n",
      "Epoch 47/50\n",
      "198621/198621 [==============================] - 17s 83us/step - loss: 1.7099 - mean_absolute_error: 1.3086\n",
      "Epoch 48/50\n",
      "198621/198621 [==============================] - 17s 83us/step - loss: 1.6812 - mean_absolute_error: 1.2904\n",
      "Epoch 49/50\n",
      "198621/198621 [==============================] - 17s 85us/step - loss: 1.6933 - mean_absolute_error: 1.2972\n",
      "Epoch 50/50\n",
      "198621/198621 [==============================] - 16s 83us/step - loss: 1.6996 - mean_absolute_error: 1.3066\n"
     ]
    },
    {
     "data": {
      "text/plain": [
       "<keras.callbacks.History at 0x7f28b227a198>"
      ]
     },
     "execution_count": 47,
     "metadata": {
      "tags": []
     },
     "output_type": "execute_result"
    }
   ],
   "source": [
    "from pandas import read_csv\n",
    "from keras.models import Sequential, Model\n",
    "from keras.layers import Dense, LSTM, Input, Flatten\n",
    "from keras.wrappers.scikit_learn import KerasRegressor\n",
    "from sklearn.model_selection import cross_val_score\n",
    "from sklearn.model_selection import KFold\n",
    "\n",
    "model = Sequential()\n",
    "inp = Input(shape=(6,1))\n",
    "x = LSTM(25, activation='relu', dropout=0.02)(inp)\n",
    "x = Dense(1, kernel_initializer='normal')(x)\n",
    "model = Model(inputs=inp, outputs=x)\n",
    "model.compile(optimizer='adam', loss = root_mean_squared_error, metrics = ['mean_absolute_error'])\n",
    "model.fit(x=X_train_lst, y=y_train, batch_size=150, epochs=50, verbose=1)"
   ]
  },
  {
   "cell_type": "code",
   "execution_count": 0,
   "metadata": {
    "colab": {},
    "colab_type": "code",
    "id": "ts8sKY8kH23R"
   },
   "outputs": [],
   "source": [
    "preds = model.predict(X_test_lst)"
   ]
  },
  {
   "cell_type": "code",
   "execution_count": 0,
   "metadata": {
    "colab": {
     "base_uri": "https://localhost:8080/",
     "height": 34
    },
    "colab_type": "code",
    "id": "_qly9S3MPKbP",
    "outputId": "6aa48b1f-0e49-4d48-e6aa-d17f95d890c1"
   },
   "outputs": [
    {
     "name": "stdout",
     "output_type": "stream",
     "text": [
      "('Mean Absolute Error: ', 1.66, 'RMSE: ', 1.9576741790350358, 'Accuracy: ', 98.93)\n"
     ]
    }
   ],
   "source": [
    "preds = preds.tolist()\n",
    "preds = [item for sublist in preds for item in sublist]\n",
    "preds = np.array(preds)\n",
    "\n",
    "scores_lstm = metric_display(preds)\n",
    "print(scores_lstm)"
   ]
  },
  {
   "cell_type": "code",
   "execution_count": 0,
   "metadata": {
    "colab": {
     "base_uri": "https://localhost:8080/",
     "height": 134
    },
    "colab_type": "code",
    "id": "CibJbJKYPo0_",
    "outputId": "80543a0b-f958-4882-aed5-075aaf3c68a1"
   },
   "outputs": [
    {
     "data": {
      "text/plain": [
       "{'Accuracy': [96.09, 99.01, 98.93, 99.42, 99.43],\n",
       " 'MAE': [6.68, 1.79, 1.66, 1.08, 1.04],\n",
       " 'RMSE': [7.968433090920889,\n",
       "  2.3616757284151517,\n",
       "  1.9576741790350358,\n",
       "  1.342022555464408,\n",
       "  1.2601093235915026]}"
      ]
     },
     "execution_count": 72,
     "metadata": {
      "tags": []
     },
     "output_type": "execute_result"
    }
   ],
   "source": [
    "dictionary = {\"MAE\":[],\"RMSE\":[],\"Accuracy\":[]}\n",
    "scores\n",
    "for i in range(len(scores_ada)):\n",
    "  if i==1:\n",
    "    dictionary[\"MAE\"].append(scores_ada[i])\n",
    "    dictionary[\"MAE\"].append(scores_gb[i])\n",
    "    dictionary[\"MAE\"].append(scores_lstm[i])\n",
    "    dictionary[\"MAE\"].append(scores_rf[i])\n",
    "    dictionary[\"MAE\"].append(scores_svm[i])\n",
    "  elif i==3:\n",
    "    dictionary[\"RMSE\"].append(scores_ada[i])\n",
    "    dictionary[\"RMSE\"].append(scores_gb[i])\n",
    "    dictionary[\"RMSE\"].append(scores_lstm[i])\n",
    "    dictionary[\"RMSE\"].append(scores_rf[i])\n",
    "    dictionary[\"RMSE\"].append(scores_svm[i])\n",
    "  elif i==5:\n",
    "    dictionary[\"Accuracy\"].append(scores_ada[i])\n",
    "    dictionary[\"Accuracy\"].append(scores_gb[i])\n",
    "    dictionary[\"Accuracy\"].append(scores_lstm[i])\n",
    "    dictionary[\"Accuracy\"].append(scores_rf[i])\n",
    "    dictionary[\"Accuracy\"].append(scores_svm[i])\n",
    "\n",
    "dictionary"
   ]
  },
  {
   "cell_type": "code",
   "execution_count": 0,
   "metadata": {
    "colab": {},
    "colab_type": "code",
    "id": "WpPSeRPifd24"
   },
   "outputs": [],
   "source": [
    "models = [\"AdaBoost\",\"GradientBoost\",\"LSTM\",\"RandomForest\",\"SVM\"]\n",
    "result_df = pd.DataFrame.from_dict(dictionary,orient='index').transpose()\n",
    "result_df[\"models\"] = models\n",
    "result_df = result_df[['models', 'MAE', 'RMSE', 'Accuracy',]]\n",
    "result_df = result_df.sort_values('Accuracy')\n"
   ]
  },
  {
   "cell_type": "markdown",
   "metadata": {
    "colab_type": "text",
    "id": "8Cb2xAQ8ilP6"
   },
   "source": [
    "Final result, SVM seems to overperform every other Machine learning model as well as LSTM. Maybe if the dataset had more attributes (or/and) the dataset was larger, LSTM would have obtained better results."
   ]
  },
  {
   "cell_type": "code",
   "execution_count": 0,
   "metadata": {
    "colab": {
     "base_uri": "https://localhost:8080/",
     "height": 195
    },
    "colab_type": "code",
    "id": "g9dTM987e65T",
    "outputId": "3d8eb86c-0b8a-41f2-d73e-4a2cf13b20fe"
   },
   "outputs": [
    {
     "data": {
      "text/html": [
       "<div>\n",
       "<style scoped>\n",
       "    .dataframe tbody tr th:only-of-type {\n",
       "        vertical-align: middle;\n",
       "    }\n",
       "\n",
       "    .dataframe tbody tr th {\n",
       "        vertical-align: top;\n",
       "    }\n",
       "\n",
       "    .dataframe thead th {\n",
       "        text-align: right;\n",
       "    }\n",
       "</style>\n",
       "<table border=\"1\" class=\"dataframe\">\n",
       "  <thead>\n",
       "    <tr style=\"text-align: right;\">\n",
       "      <th></th>\n",
       "      <th>models</th>\n",
       "      <th>MAE</th>\n",
       "      <th>RMSE</th>\n",
       "      <th>Accuracy</th>\n",
       "    </tr>\n",
       "  </thead>\n",
       "  <tbody>\n",
       "    <tr>\n",
       "      <th>0</th>\n",
       "      <td>AdaBoost</td>\n",
       "      <td>6.68</td>\n",
       "      <td>7.968433</td>\n",
       "      <td>96.09</td>\n",
       "    </tr>\n",
       "    <tr>\n",
       "      <th>2</th>\n",
       "      <td>LSTM</td>\n",
       "      <td>1.66</td>\n",
       "      <td>1.957674</td>\n",
       "      <td>98.93</td>\n",
       "    </tr>\n",
       "    <tr>\n",
       "      <th>1</th>\n",
       "      <td>GradientBoost</td>\n",
       "      <td>1.79</td>\n",
       "      <td>2.361676</td>\n",
       "      <td>99.01</td>\n",
       "    </tr>\n",
       "    <tr>\n",
       "      <th>3</th>\n",
       "      <td>RandomForest</td>\n",
       "      <td>1.08</td>\n",
       "      <td>1.342023</td>\n",
       "      <td>99.42</td>\n",
       "    </tr>\n",
       "    <tr>\n",
       "      <th>4</th>\n",
       "      <td>SVM</td>\n",
       "      <td>1.04</td>\n",
       "      <td>1.260109</td>\n",
       "      <td>99.43</td>\n",
       "    </tr>\n",
       "  </tbody>\n",
       "</table>\n",
       "</div>"
      ],
      "text/plain": [
       "          models   MAE      RMSE  Accuracy\n",
       "0       AdaBoost  6.68  7.968433     96.09\n",
       "2           LSTM  1.66  1.957674     98.93\n",
       "1  GradientBoost  1.79  2.361676     99.01\n",
       "3   RandomForest  1.08  1.342023     99.42\n",
       "4            SVM  1.04  1.260109     99.43"
      ]
     },
     "execution_count": 89,
     "metadata": {
      "tags": []
     },
     "output_type": "execute_result"
    }
   ],
   "source": [
    "result_df"
   ]
  }
 ],
 "metadata": {
  "accelerator": "GPU",
  "colab": {
   "collapsed_sections": [],
   "name": "bhuv2.ipynb",
   "provenance": [],
   "toc_visible": true
  },
  "kernelspec": {
   "display_name": "Python 3",
   "language": "python",
   "name": "python3"
  },
  "language_info": {
   "codemirror_mode": {
    "name": "ipython",
    "version": 3
   },
   "file_extension": ".py",
   "mimetype": "text/x-python",
   "name": "python",
   "nbconvert_exporter": "python",
   "pygments_lexer": "ipython3",
   "version": "3.7.3"
  }
 },
 "nbformat": 4,
 "nbformat_minor": 1
}
