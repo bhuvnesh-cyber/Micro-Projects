{
  "nbformat": 4,
  "nbformat_minor": 0,
  "metadata": {
    "colab": {
      "name": "Wine Variety Classification.ipynb",
      "provenance": [],
      "collapsed_sections": []
    },
    "kernelspec": {
      "name": "python3",
      "display_name": "Python 3"
    },
    "accelerator": "GPU"
  },
  "cells": [
    {
      "cell_type": "code",
      "metadata": {
        "id": "wUNWES0XCNtR",
        "colab_type": "code",
        "colab": {
          "base_uri": "https://localhost:8080/",
          "height": 139
        },
        "outputId": "946a74a5-20a7-4b98-e2c7-20a1d8c2680a"
      },
      "source": [
        "from google.colab import drive\n",
        "drive.mount('/gdrive')\n",
        "%cd /gdrive"
      ],
      "execution_count": 1,
      "outputs": [
        {
          "output_type": "stream",
          "text": [
            "Go to this URL in a browser: https://accounts.google.com/o/oauth2/auth?client_id=947318989803-6bn6qk8qdgf4n4g3pfee6491hc0brc4i.apps.googleusercontent.com&redirect_uri=urn%3aietf%3awg%3aoauth%3a2.0%3aoob&response_type=code&scope=email%20https%3a%2f%2fwww.googleapis.com%2fauth%2fdocs.test%20https%3a%2f%2fwww.googleapis.com%2fauth%2fdrive%20https%3a%2f%2fwww.googleapis.com%2fauth%2fdrive.photos.readonly%20https%3a%2f%2fwww.googleapis.com%2fauth%2fpeopleapi.readonly\n",
            "\n",
            "Enter your authorization code:\n",
            "··········\n",
            "Mounted at /gdrive\n",
            "/gdrive\n"
          ],
          "name": "stdout"
        }
      ]
    },
    {
      "cell_type": "markdown",
      "metadata": {
        "id": "Sm9Aj-HJszMu",
        "colab_type": "text"
      },
      "source": [
        "**Data** **Exploration**"
      ]
    },
    {
      "cell_type": "markdown",
      "metadata": {
        "id": "T2AMaDkcr0e8",
        "colab_type": "text"
      },
      "source": [
        "The problem is supervised text classification problem, and our goal is to investigate which supervised machine learning methods are best suited to solve it.\n",
        "Given a new variety comes in, we want to assign it to one of 28 categories. The classifier makes the assumption that each new variety is assigned to one and only one category. This is multi-class text classification problem. Lets Start!"
      ]
    },
    {
      "cell_type": "markdown",
      "metadata": {
        "id": "btKV8L5AxIcb",
        "colab_type": "text"
      },
      "source": [
        "Importing Necessary Libraries"
      ]
    },
    {
      "cell_type": "code",
      "metadata": {
        "id": "6gIGNvAcLo5J",
        "colab_type": "code",
        "colab": {
          "base_uri": "https://localhost:8080/",
          "height": 71
        },
        "outputId": "8575c55f-a253-407f-dfc3-4e098c12f1bd"
      },
      "source": [
        "import pandas as pd \n",
        "import numpy as np\n",
        "import seaborn as sns\n",
        "import matplotlib.pyplot as plt\n",
        "%matplotlib inline"
      ],
      "execution_count": 2,
      "outputs": [
        {
          "output_type": "stream",
          "text": [
            "/usr/local/lib/python3.6/dist-packages/statsmodels/tools/_testing.py:19: FutureWarning: pandas.util.testing is deprecated. Use the functions in the public API at pandas.testing instead.\n",
            "  import pandas.util.testing as tm\n"
          ],
          "name": "stderr"
        }
      ]
    },
    {
      "cell_type": "markdown",
      "metadata": {
        "id": "LzGUAulKxZVv",
        "colab_type": "text"
      },
      "source": [
        "Reading both train and test files"
      ]
    },
    {
      "cell_type": "code",
      "metadata": {
        "id": "PKlwnPsKNDRK",
        "colab_type": "code",
        "colab": {}
      },
      "source": [
        "train=pd.read_csv('/gdrive/My Drive/Knight ML Assignment/Data/train.csv')"
      ],
      "execution_count": 0,
      "outputs": []
    },
    {
      "cell_type": "code",
      "metadata": {
        "id": "_uR6JzuPNSc3",
        "colab_type": "code",
        "colab": {}
      },
      "source": [
        "test=pd.read_csv('/gdrive/My Drive/Knight ML Assignment/Data/test.csv')"
      ],
      "execution_count": 0,
      "outputs": []
    },
    {
      "cell_type": "code",
      "metadata": {
        "id": "Ta7ryes4NYrF",
        "colab_type": "code",
        "colab": {
          "base_uri": "https://localhost:8080/",
          "height": 340
        },
        "outputId": "234ce019-e439-451f-c7fe-25b9a1f758cb"
      },
      "source": [
        "train.head()"
      ],
      "execution_count": 5,
      "outputs": [
        {
          "output_type": "execute_result",
          "data": {
            "text/html": [
              "<div>\n",
              "<style scoped>\n",
              "    .dataframe tbody tr th:only-of-type {\n",
              "        vertical-align: middle;\n",
              "    }\n",
              "\n",
              "    .dataframe tbody tr th {\n",
              "        vertical-align: top;\n",
              "    }\n",
              "\n",
              "    .dataframe thead th {\n",
              "        text-align: right;\n",
              "    }\n",
              "</style>\n",
              "<table border=\"1\" class=\"dataframe\">\n",
              "  <thead>\n",
              "    <tr style=\"text-align: right;\">\n",
              "      <th></th>\n",
              "      <th>user_name</th>\n",
              "      <th>country</th>\n",
              "      <th>review_title</th>\n",
              "      <th>review_description</th>\n",
              "      <th>designation</th>\n",
              "      <th>points</th>\n",
              "      <th>price</th>\n",
              "      <th>province</th>\n",
              "      <th>region_1</th>\n",
              "      <th>region_2</th>\n",
              "      <th>winery</th>\n",
              "      <th>variety</th>\n",
              "    </tr>\n",
              "  </thead>\n",
              "  <tbody>\n",
              "    <tr>\n",
              "      <th>0</th>\n",
              "      <td>NaN</td>\n",
              "      <td>Australia</td>\n",
              "      <td>Andrew Peace 2007 Peace Family Vineyard Chardo...</td>\n",
              "      <td>Classic Chardonnay aromas of apple, pear and h...</td>\n",
              "      <td>Peace Family Vineyard</td>\n",
              "      <td>83</td>\n",
              "      <td>10.0</td>\n",
              "      <td>Australia Other</td>\n",
              "      <td>South Eastern Australia</td>\n",
              "      <td>NaN</td>\n",
              "      <td>Andrew Peace</td>\n",
              "      <td>Chardonnay</td>\n",
              "    </tr>\n",
              "    <tr>\n",
              "      <th>1</th>\n",
              "      <td>@wawinereport</td>\n",
              "      <td>US</td>\n",
              "      <td>North by Northwest 2014 Red (Columbia Valley (...</td>\n",
              "      <td>This wine is near equal parts Syrah and Merlot...</td>\n",
              "      <td>NaN</td>\n",
              "      <td>89</td>\n",
              "      <td>15.0</td>\n",
              "      <td>Washington</td>\n",
              "      <td>Columbia Valley (WA)</td>\n",
              "      <td>Columbia Valley</td>\n",
              "      <td>North by Northwest</td>\n",
              "      <td>Red Blend</td>\n",
              "    </tr>\n",
              "    <tr>\n",
              "      <th>2</th>\n",
              "      <td>NaN</td>\n",
              "      <td>Italy</td>\n",
              "      <td>Renato Ratti 2007 Conca  (Barolo)</td>\n",
              "      <td>Barolo Conca opens with inky dark concentratio...</td>\n",
              "      <td>Conca</td>\n",
              "      <td>94</td>\n",
              "      <td>80.0</td>\n",
              "      <td>Piedmont</td>\n",
              "      <td>Barolo</td>\n",
              "      <td>NaN</td>\n",
              "      <td>Renato Ratti</td>\n",
              "      <td>Nebbiolo</td>\n",
              "    </tr>\n",
              "    <tr>\n",
              "      <th>3</th>\n",
              "      <td>@vossroger</td>\n",
              "      <td>France</td>\n",
              "      <td>Domaine l'Ancienne Cure 2010 L'Abbaye White (B...</td>\n",
              "      <td>It's impressive what a small addition of Sauvi...</td>\n",
              "      <td>L'Abbaye</td>\n",
              "      <td>87</td>\n",
              "      <td>22.0</td>\n",
              "      <td>Southwest France</td>\n",
              "      <td>Bergerac Sec</td>\n",
              "      <td>NaN</td>\n",
              "      <td>Domaine l'Ancienne Cure</td>\n",
              "      <td>Bordeaux-style White Blend</td>\n",
              "    </tr>\n",
              "    <tr>\n",
              "      <th>4</th>\n",
              "      <td>@vossroger</td>\n",
              "      <td>France</td>\n",
              "      <td>Château du Cèdre 2012 Le Cèdre Vintage Malbec ...</td>\n",
              "      <td>This ripe, sweet wine is rich and full of drie...</td>\n",
              "      <td>Le Cèdre Vintage</td>\n",
              "      <td>88</td>\n",
              "      <td>33.0</td>\n",
              "      <td>France Other</td>\n",
              "      <td>Vin de Liqueur</td>\n",
              "      <td>NaN</td>\n",
              "      <td>Château du Cèdre</td>\n",
              "      <td>Malbec</td>\n",
              "    </tr>\n",
              "  </tbody>\n",
              "</table>\n",
              "</div>"
            ],
            "text/plain": [
              "       user_name  ...                     variety\n",
              "0            NaN  ...                  Chardonnay\n",
              "1  @wawinereport  ...                   Red Blend\n",
              "2            NaN  ...                    Nebbiolo\n",
              "3     @vossroger  ...  Bordeaux-style White Blend\n",
              "4     @vossroger  ...                      Malbec\n",
              "\n",
              "[5 rows x 12 columns]"
            ]
          },
          "metadata": {
            "tags": []
          },
          "execution_count": 5
        }
      ]
    },
    {
      "cell_type": "code",
      "metadata": {
        "id": "Mkvv9LOCNazV",
        "colab_type": "code",
        "colab": {
          "base_uri": "https://localhost:8080/",
          "height": 255
        },
        "outputId": "1311fb38-dd67-4128-ed18-ba3f65293c0f"
      },
      "source": [
        "train.info"
      ],
      "execution_count": 6,
      "outputs": [
        {
          "output_type": "execute_result",
          "data": {
            "text/plain": [
              "<bound method DataFrame.info of            user_name  ...                     variety\n",
              "0                NaN  ...                  Chardonnay\n",
              "1      @wawinereport  ...                   Red Blend\n",
              "2                NaN  ...                    Nebbiolo\n",
              "3         @vossroger  ...  Bordeaux-style White Blend\n",
              "4         @vossroger  ...                      Malbec\n",
              "...              ...  ...                         ...\n",
              "82652    @wineschach  ...                 Tempranillo\n",
              "82653            NaN  ...          Cabernet Sauvignon\n",
              "82654     @vossroger  ...                       Gamay\n",
              "82655     @vossroger  ...    Bordeaux-style Red Blend\n",
              "82656            NaN  ...          Cabernet Sauvignon\n",
              "\n",
              "[82657 rows x 12 columns]>"
            ]
          },
          "metadata": {
            "tags": []
          },
          "execution_count": 6
        }
      ]
    },
    {
      "cell_type": "markdown",
      "metadata": {
        "id": "xal27EDoxhnB",
        "colab_type": "text"
      },
      "source": [
        "**Exploratory Data** **Analysis**"
      ]
    },
    {
      "cell_type": "markdown",
      "metadata": {
        "id": "XTqH3KenxvFC",
        "colab_type": "text"
      },
      "source": [
        "At first i should check where values are missing."
      ]
    },
    {
      "cell_type": "code",
      "metadata": {
        "id": "3IAX-pdTyMhA",
        "colab_type": "code",
        "colab": {
          "base_uri": "https://localhost:8080/",
          "height": 238
        },
        "outputId": "f4681364-b0b2-48d3-e908-06a9fe9cb8e1"
      },
      "source": [
        "train.isnull().sum()"
      ],
      "execution_count": 7,
      "outputs": [
        {
          "output_type": "execute_result",
          "data": {
            "text/plain": [
              "user_name             19393\n",
              "country                  35\n",
              "review_title              0\n",
              "review_description        0\n",
              "designation           23647\n",
              "points                    0\n",
              "price                  5569\n",
              "province                 35\n",
              "region_1              12754\n",
              "region_2              46708\n",
              "winery                    0\n",
              "variety                   0\n",
              "dtype: int64"
            ]
          },
          "metadata": {
            "tags": []
          },
          "execution_count": 7
        }
      ]
    },
    {
      "cell_type": "markdown",
      "metadata": {
        "id": "VGuw-fCKyQfZ",
        "colab_type": "text"
      },
      "source": [
        "Luckily there isn't any data missing in the description and variety columns, which are the main columns I need for this analysis. "
      ]
    },
    {
      "cell_type": "markdown",
      "metadata": {
        "id": "3j6Yy_UXyi4M",
        "colab_type": "text"
      },
      "source": [
        "Lets now remove any duplicate fields and check the shape before and after removing duplicates"
      ]
    },
    {
      "cell_type": "code",
      "metadata": {
        "id": "CQviQvFny17e",
        "colab_type": "code",
        "colab": {
          "base_uri": "https://localhost:8080/",
          "height": 34
        },
        "outputId": "86e91b82-07b4-47aa-c2db-fbfcbdde6a70"
      },
      "source": [
        "#Before removing duplicates\n",
        "train.shape"
      ],
      "execution_count": 8,
      "outputs": [
        {
          "output_type": "execute_result",
          "data": {
            "text/plain": [
              "(82657, 12)"
            ]
          },
          "metadata": {
            "tags": []
          },
          "execution_count": 8
        }
      ]
    },
    {
      "cell_type": "code",
      "metadata": {
        "id": "oORieR5ey_g3",
        "colab_type": "code",
        "colab": {
          "base_uri": "https://localhost:8080/",
          "height": 34
        },
        "outputId": "0f3a3f0c-3db2-48b1-f5f6-28b4a87c8e29"
      },
      "source": [
        "#shape after removing duplicates\n",
        "train.drop_duplicates(inplace=True)\n",
        "train.shape"
      ],
      "execution_count": 9,
      "outputs": [
        {
          "output_type": "execute_result",
          "data": {
            "text/plain": [
              "(77641, 12)"
            ]
          },
          "metadata": {
            "tags": []
          },
          "execution_count": 9
        }
      ]
    },
    {
      "cell_type": "markdown",
      "metadata": {
        "id": "nuxOqa8AzjhA",
        "colab_type": "text"
      },
      "source": [
        "If we list unique varieties in this dataset, we find that there are a lot of them here."
      ]
    },
    {
      "cell_type": "code",
      "metadata": {
        "id": "NqvTogTEzs7S",
        "colab_type": "code",
        "colab": {
          "base_uri": "https://localhost:8080/",
          "height": 894
        },
        "outputId": "027ae9e1-f4a4-433a-b8f3-b9a6ab8c971f"
      },
      "source": [
        "plt.figure(figsize=(12,15)) \n",
        "sns.countplot(data=train, y = \"variety\") \n"
      ],
      "execution_count": 10,
      "outputs": [
        {
          "output_type": "execute_result",
          "data": {
            "text/plain": [
              "<matplotlib.axes._subplots.AxesSubplot at 0x7ff56ddc8080>"
            ]
          },
          "metadata": {
            "tags": []
          },
          "execution_count": 10
        },
        {
          "output_type": "display_data",
          "data": {
            "image/png": "[encoded data removed]",
            "text/plain": [
              "<Figure size 864x1080 with 1 Axes>"
            ]
          },
          "metadata": {
            "tags": [],
            "needs_background": "light"
          }
        }
      ]
    },
    {
      "cell_type": "markdown",
      "metadata": {
        "id": "-vNow6pFtEvB",
        "colab_type": "text"
      },
      "source": [
        "We see that the number of varieties are imbalanced. When we encounter such problems, we are bound to have difficulties solving them with standard algorithms. Conventional algorithms are often biased towards the majority class, not taking the data distribution into consideration. In the worst case, minority classes are treated as outliers and ignored. \n",
        "However, in our case of learning imbalanced data, the majority classes might be of our great interest. It is desirable to have a classifier that gives high prediction accuracy over the majority class, while maintaining reasonable accuracy for the minority classes. Therefore, we will leave it as it is."
      ]
    },
    {
      "cell_type": "markdown",
      "metadata": {
        "id": "UxOy3TVF08sr",
        "colab_type": "text"
      },
      "source": [
        "Lets know the number of unique varieties"
      ]
    },
    {
      "cell_type": "code",
      "metadata": {
        "id": "Xqc8iyj-1FGY",
        "colab_type": "code",
        "colab": {
          "base_uri": "https://localhost:8080/",
          "height": 34
        },
        "outputId": "b7ac0b2c-44a3-40d3-c109-8388c2190925"
      },
      "source": [
        "train['variety'].nunique()"
      ],
      "execution_count": 11,
      "outputs": [
        {
          "output_type": "execute_result",
          "data": {
            "text/plain": [
              "28"
            ]
          },
          "metadata": {
            "tags": []
          },
          "execution_count": 11
        }
      ]
    },
    {
      "cell_type": "markdown",
      "metadata": {
        "id": "IAH7yUPn03t3",
        "colab_type": "text"
      },
      "source": [
        "so we need a multi classification technique to classify these 28 labels lets now look at which countries are the major producers of the wine?"
      ]
    },
    {
      "cell_type": "code",
      "metadata": {
        "id": "4behGiM20PTV",
        "colab_type": "code",
        "colab": {
          "base_uri": "https://localhost:8080/",
          "height": 697
        },
        "outputId": "a662a491-dcd8-4e5a-ea3f-696e21e83035"
      },
      "source": [
        "countries = train['country'].value_counts(ascending=False)\n",
        "print(\"total number of countries: \", len(countries))\n",
        "countries"
      ],
      "execution_count": 12,
      "outputs": [
        {
          "output_type": "stream",
          "text": [
            "total number of countries:  38\n"
          ],
          "name": "stdout"
        },
        {
          "output_type": "execute_result",
          "data": {
            "text/plain": [
              "US                36269\n",
              "France            14968\n",
              "Italy              8544\n",
              "Portugal           2998\n",
              "Chile              2740\n",
              "Spain              2583\n",
              "Argentina          2433\n",
              "Austria            1770\n",
              "Germany            1466\n",
              "New Zealand        1033\n",
              "Australia           976\n",
              "South Africa        678\n",
              "Israel              303\n",
              "Canada              153\n",
              "Greece              135\n",
              "Bulgaria             91\n",
              "Romania              69\n",
              "England              55\n",
              "Mexico               38\n",
              "Slovenia             38\n",
              "Moldova              34\n",
              "Hungary              32\n",
              "Turkey               32\n",
              "Uruguay              29\n",
              "Brazil               28\n",
              "Lebanon              27\n",
              "Morocco              19\n",
              "Croatia              12\n",
              "Georgia              11\n",
              "Ukraine              11\n",
              "Peru                  8\n",
              "Cyprus                6\n",
              "Macedonia             4\n",
              "Switzerland           4\n",
              "Luxembourg            4\n",
              "Czech Republic        3\n",
              "Serbia                3\n",
              "India                 1\n",
              "Name: country, dtype: int64"
            ]
          },
          "metadata": {
            "tags": []
          },
          "execution_count": 12
        }
      ]
    },
    {
      "cell_type": "markdown",
      "metadata": {
        "id": "lVeiT7-a1ycq",
        "colab_type": "text"
      },
      "source": [
        "We will create barplot of major wine producers that produce more than 1000 different wines"
      ]
    },
    {
      "cell_type": "code",
      "metadata": {
        "id": "1d_swCh311aL",
        "colab_type": "code",
        "colab": {
          "base_uri": "https://localhost:8080/",
          "height": 402
        },
        "outputId": "82278fd5-2a2f-4648-8a66-452a6806871d"
      },
      "source": [
        "countries[:12].plot(kind='bar')\n",
        "plt.title(\"Major wine producers\")\n",
        "plt.ylabel(\"Number of wines\")\n",
        "plt.xlabel(\"Country\")\n",
        "major= countries[:12].index\n",
        "print(\"Major wine producers:\", major)\n"
      ],
      "execution_count": 13,
      "outputs": [
        {
          "output_type": "stream",
          "text": [
            "Major wine producers: Index(['US', 'France', 'Italy', 'Portugal', 'Chile', 'Spain', 'Argentina',\n",
            "       'Austria', 'Germany', 'New Zealand', 'Australia', 'South Africa'],\n",
            "      dtype='object')\n"
          ],
          "name": "stdout"
        },
        {
          "output_type": "display_data",
          "data": {
            "image/png": "[encoded data removed]",
            "text/plain": [
              "<Figure size 432x288 with 1 Axes>"
            ]
          },
          "metadata": {
            "tags": [],
            "needs_background": "light"
          }
        }
      ]
    },
    {
      "cell_type": "markdown",
      "metadata": {
        "id": "UEAOlhkI29zV",
        "colab_type": "text"
      },
      "source": [
        "Let's see which Province had the most reviews in the dataset."
      ]
    },
    {
      "cell_type": "code",
      "metadata": {
        "id": "pbhSJCul3Eb9",
        "colab_type": "code",
        "colab": {
          "base_uri": "https://localhost:8080/",
          "height": 363
        },
        "outputId": "c0c2e880-70b8-4ccf-dcbd-74fb93d7fbe5"
      },
      "source": [
        "train['province'].value_counts().head(10).plot.bar()"
      ],
      "execution_count": 14,
      "outputs": [
        {
          "output_type": "execute_result",
          "data": {
            "text/plain": [
              "<matplotlib.axes._subplots.AxesSubplot at 0x7ff55e3d9470>"
            ]
          },
          "metadata": {
            "tags": []
          },
          "execution_count": 14
        },
        {
          "output_type": "display_data",
          "data": {
            "image/png": "[encoded data removed]",
            "text/plain": [
              "<Figure size 432x288 with 1 Axes>"
            ]
          },
          "metadata": {
            "tags": [],
            "needs_background": "light"
          }
        }
      ]
    },
    {
      "cell_type": "markdown",
      "metadata": {
        "id": "JGSUiIpL3WiZ",
        "colab_type": "text"
      },
      "source": [
        "we plot a distribution of the points plotted by the review counts."
      ]
    },
    {
      "cell_type": "code",
      "metadata": {
        "id": "ATZ39Ux_3W3c",
        "colab_type": "code",
        "colab": {
          "base_uri": "https://localhost:8080/",
          "height": 294
        },
        "outputId": "30e1b430-bc47-44f1-b0de-507db6528743"
      },
      "source": [
        "# Bar plot - points/reviews\n",
        "train['points'].value_counts().sort_index().plot.bar()"
      ],
      "execution_count": 15,
      "outputs": [
        {
          "output_type": "execute_result",
          "data": {
            "text/plain": [
              "<matplotlib.axes._subplots.AxesSubplot at 0x7ff55e3d9630>"
            ]
          },
          "metadata": {
            "tags": []
          },
          "execution_count": 15
        },
        {
          "output_type": "display_data",
          "data": {
            "image/png": "[encoded data removed]",
            "text/plain": [
              "<Figure size 432x288 with 1 Axes>"
            ]
          },
          "metadata": {
            "tags": [],
            "needs_background": "light"
          }
        }
      ]
    },
    {
      "cell_type": "markdown",
      "metadata": {
        "id": "A7H_DH8e30y8",
        "colab_type": "text"
      },
      "source": [
        ""
      ]
    },
    {
      "cell_type": "code",
      "metadata": {
        "id": "TBB_DkcL31k6",
        "colab_type": "code",
        "colab": {
          "base_uri": "https://localhost:8080/",
          "height": 339
        },
        "outputId": "77178efa-636d-4458-aca1-105a0d0659f7"
      },
      "source": [
        "sns.kdeplot(train[train['price'] < 50].loc[:, ['price', 'points']].dropna().sample(5000))"
      ],
      "execution_count": 16,
      "outputs": [
        {
          "output_type": "stream",
          "text": [
            "/usr/local/lib/python3.6/dist-packages/seaborn/distributions.py:690: UserWarning: Passing a 2D dataset for a bivariate plot is deprecated in favor of kdeplot(x, y), and it will cause an error in future versions. Please update your code.\n",
            "  warnings.warn(warn_msg, UserWarning)\n"
          ],
          "name": "stderr"
        },
        {
          "output_type": "execute_result",
          "data": {
            "text/plain": [
              "<matplotlib.axes._subplots.AxesSubplot at 0x7ff55e2da898>"
            ]
          },
          "metadata": {
            "tags": []
          },
          "execution_count": 16
        },
        {
          "output_type": "display_data",
          "data": {
            "image/png": "[encoded data removed]",
            "text/plain": [
              "<Figure size 432x288 with 1 Axes>"
            ]
          },
          "metadata": {
            "tags": [],
            "needs_background": "light"
          }
        }
      ]
    },
    {
      "cell_type": "markdown",
      "metadata": {
        "id": "HyHz7JoP32ju",
        "colab_type": "text"
      },
      "source": [
        "A Hex grid allows us to visualize the data from the KDE and jointplots.\n",
        "\n",
        "Here we can clearly see the density of point and pricing and how they interact.\n",
        "\n",
        "It appears that the wines in the 10.00 - 20.00 range have the highest concentration of consistent points.\n",
        "\n",
        "This means that overall, wines in the 10.00 - 20.00 range have frequently better ratings when compared to more expensive wines.\n",
        "\n",
        "This could be due to the price point of these wines, or the fact that most consumers drink expensive wines less frequently for special occasions.\n",
        "\n",
        "It makes sense for the wine producers to focus on the market demand for their products and target their resources towards the taste of the public."
      ]
    },
    {
      "cell_type": "markdown",
      "metadata": {
        "id": "HpG4HsDA4l_3",
        "colab_type": "text"
      },
      "source": [
        "Lets do one hot encoding on the variety coloumn"
      ]
    },
    {
      "cell_type": "code",
      "metadata": {
        "id": "ZANKUfJuNuOE",
        "colab_type": "code",
        "colab": {}
      },
      "source": [
        "from sklearn import preprocessing\n",
        "le = preprocessing.LabelEncoder()\n",
        "le.fit(train['variety'])\n",
        "train['labels']=le.transform(train['variety']) \n"
      ],
      "execution_count": 0,
      "outputs": []
    },
    {
      "cell_type": "code",
      "metadata": {
        "id": "ikxvn2YTSa2W",
        "colab_type": "code",
        "colab": {}
      },
      "source": [
        "train['labels'].value_counts()\n",
        "y=train['labels']"
      ],
      "execution_count": 0,
      "outputs": []
    },
    {
      "cell_type": "markdown",
      "metadata": {
        "id": "__jeFdpT40gs",
        "colab_type": "text"
      },
      "source": [
        "**Natural Language Processing**"
      ]
    },
    {
      "cell_type": "markdown",
      "metadata": {
        "id": "gZVlUMh547d2",
        "colab_type": "text"
      },
      "source": [
        "Importing Necessary libraries"
      ]
    },
    {
      "cell_type": "code",
      "metadata": {
        "id": "u10F2rVUSfYr",
        "colab_type": "code",
        "colab": {}
      },
      "source": [
        "import nltk\n",
        "import re\n",
        "from sklearn.feature_extraction.text import TfidfVectorizer\n",
        "from sklearn.model_selection import train_test_split"
      ],
      "execution_count": 0,
      "outputs": []
    },
    {
      "cell_type": "markdown",
      "metadata": {
        "id": "QCAPcZ5t5i60",
        "colab_type": "text"
      },
      "source": [
        "Data cleaning like removing spaces,numbers and special characters and also converting the text into lower case."
      ]
    },
    {
      "cell_type": "code",
      "metadata": {
        "id": "lcApy4LRTdbY",
        "colab_type": "code",
        "colab": {}
      },
      "source": [
        "# function for text cleaning \n",
        "def clean_text(text):\n",
        "    # remove backslash-apostrophe \n",
        "    text = re.sub(\"\\'\", \"\", text) \n",
        "    # remove everything except alphabets \n",
        "    text = re.sub(\"[^a-zA-Z]\",\" \",text) \n",
        "    # remove whitespaces \n",
        "    text = ' '.join(text.split()) \n",
        "    # convert text to lowercase \n",
        "    text = text.lower() \n",
        "    # split text\n",
        "    text = text.split()\n",
        "    \n",
        "    return text"
      ],
      "execution_count": 0,
      "outputs": []
    },
    {
      "cell_type": "markdown",
      "metadata": {
        "id": "PMobqmja55-f",
        "colab_type": "text"
      },
      "source": [
        "Mapping cleaning function on review description "
      ]
    },
    {
      "cell_type": "code",
      "metadata": {
        "id": "axbPUHL-Ts_F",
        "colab_type": "code",
        "colab": {}
      },
      "source": [
        "train['clean_desc'] = train['review_description'].apply(lambda x: clean_text(x))"
      ],
      "execution_count": 0,
      "outputs": []
    },
    {
      "cell_type": "markdown",
      "metadata": {
        "id": "NeNYd0nP6FSw",
        "colab_type": "text"
      },
      "source": [
        "Now the text is cleaned lets have a look"
      ]
    },
    {
      "cell_type": "code",
      "metadata": {
        "id": "9zhs7jJ8Ts77",
        "colab_type": "code",
        "colab": {
          "base_uri": "https://localhost:8080/",
          "height": 561
        },
        "outputId": "a32a51e0-c2ca-46cb-8bd9-686cddb7c59e"
      },
      "source": [
        "train['clean_desc'][0]"
      ],
      "execution_count": 22,
      "outputs": [
        {
          "output_type": "execute_result",
          "data": {
            "text/plain": [
              "['classic',\n",
              " 'chardonnay',\n",
              " 'aromas',\n",
              " 'of',\n",
              " 'apple',\n",
              " 'pear',\n",
              " 'and',\n",
              " 'hay',\n",
              " 'lead',\n",
              " 'into',\n",
              " 'a',\n",
              " 'palate',\n",
              " 'marked',\n",
              " 'by',\n",
              " 'decent',\n",
              " 'intensity',\n",
              " 'but',\n",
              " 'also',\n",
              " 'a',\n",
              " 'bit',\n",
              " 'of',\n",
              " 'sweetness',\n",
              " 'orange',\n",
              " 'and',\n",
              " 'candy',\n",
              " 'notes',\n",
              " 'run',\n",
              " 'through',\n",
              " 'the',\n",
              " 'rather',\n",
              " 'short',\n",
              " 'finish']"
            ]
          },
          "metadata": {
            "tags": []
          },
          "execution_count": 22
        }
      ]
    },
    {
      "cell_type": "code",
      "metadata": {
        "id": "wJlvTaQPT1Lb",
        "colab_type": "code",
        "colab": {
          "base_uri": "https://localhost:8080/",
          "height": 54
        },
        "outputId": "e8c8ce41-b904-4ea2-f80f-1cc1719c8129"
      },
      "source": [
        "train['review_description'][0]"
      ],
      "execution_count": 23,
      "outputs": [
        {
          "output_type": "execute_result",
          "data": {
            "text/plain": [
              "'Classic Chardonnay aromas of apple, pear and hay lead into a palate marked by decent intensity but also a bit of sweetness. Orange and candy notes run through the rather short finish.'"
            ]
          },
          "metadata": {
            "tags": []
          },
          "execution_count": 23
        }
      ]
    },
    {
      "cell_type": "markdown",
      "metadata": {
        "id": "E9iSWUbp6Nzb",
        "colab_type": "text"
      },
      "source": [
        "Importing Stopwords"
      ]
    },
    {
      "cell_type": "code",
      "metadata": {
        "id": "IiAtgkXpT1S0",
        "colab_type": "code",
        "colab": {
          "base_uri": "https://localhost:8080/",
          "height": 68
        },
        "outputId": "83e8b84e-82fc-46ad-f558-af916c2fb649"
      },
      "source": [
        "nltk.download('stopwords')"
      ],
      "execution_count": 24,
      "outputs": [
        {
          "output_type": "stream",
          "text": [
            "[nltk_data] Downloading package stopwords to /root/nltk_data...\n",
            "[nltk_data]   Unzipping corpora/stopwords.zip.\n"
          ],
          "name": "stdout"
        },
        {
          "output_type": "execute_result",
          "data": {
            "text/plain": [
              "True"
            ]
          },
          "metadata": {
            "tags": []
          },
          "execution_count": 24
        }
      ]
    },
    {
      "cell_type": "code",
      "metadata": {
        "id": "Lg7tx2lvT74X",
        "colab_type": "code",
        "colab": {}
      },
      "source": [
        "from nltk.corpus import stopwords\n",
        "stop_words = set(stopwords.words('english'))\n"
      ],
      "execution_count": 0,
      "outputs": []
    },
    {
      "cell_type": "markdown",
      "metadata": {
        "id": "DmUhk7gi6VIR",
        "colab_type": "text"
      },
      "source": [
        "Importing stemmer to convert words into their stem form"
      ]
    },
    {
      "cell_type": "code",
      "metadata": {
        "id": "gUK7nL22t4dQ",
        "colab_type": "code",
        "colab": {}
      },
      "source": [
        "from nltk.stem import PorterStemmer\n",
        "stemmer = PorterStemmer()"
      ],
      "execution_count": 0,
      "outputs": []
    },
    {
      "cell_type": "markdown",
      "metadata": {
        "id": "qgpNCzNz6fWz",
        "colab_type": "text"
      },
      "source": [
        "Creating a function to remove stopwords and doing stemming"
      ]
    },
    {
      "cell_type": "code",
      "metadata": {
        "id": "LA9B3QHAvd6a",
        "colab_type": "code",
        "colab": {}
      },
      "source": [
        "def remove_stopwords(text):\n",
        "    no_stopword_text = [stemmer.stem(word) for word in text if not word in set(stopwords.words('english'))]\n",
        "    return ' '.join(no_stopword_text)\n"
      ],
      "execution_count": 0,
      "outputs": []
    },
    {
      "cell_type": "markdown",
      "metadata": {
        "id": "RxhyqShM6sY1",
        "colab_type": "text"
      },
      "source": [
        "Mapping the function on cleaned Text"
      ]
    },
    {
      "cell_type": "code",
      "metadata": {
        "id": "Uik2tW-a7PIU",
        "colab_type": "code",
        "colab": {}
      },
      "source": [
        "train['clean_desc'] = train['clean_desc'].apply(lambda x: remove_stopwords(x))"
      ],
      "execution_count": 0,
      "outputs": []
    },
    {
      "cell_type": "markdown",
      "metadata": {
        "id": "VKEPYduR6yNw",
        "colab_type": "text"
      },
      "source": [
        "Let's have a look Everything seems to be working fine"
      ]
    },
    {
      "cell_type": "code",
      "metadata": {
        "id": "ZxahLl14-dV8",
        "colab_type": "code",
        "colab": {
          "base_uri": "https://localhost:8080/",
          "height": 306
        },
        "outputId": "d7282413-078b-4242-aee7-6d976319b3bc"
      },
      "source": [
        "train['clean_desc'][4:20]"
      ],
      "execution_count": 29,
      "outputs": [
        {
          "output_type": "execute_result",
          "data": {
            "text/plain": [
              "4     ripe sweet wine rich full dri fresh fruit flav...\n",
              "5     strident aroma licoric herb berri mint make in...\n",
              "6     half syrah half cabernet sauvignon new french ...\n",
              "7     high tone red fruit star wine nice show sought...\n",
              "8     display typic mcminnvil ava subtleti frame tig...\n",
              "9     blend sangioves merlot open aroma forest floor...\n",
              "10    allur bouquet fresh cut jasmin citru light vib...\n",
              "11    start bit funki struck match aroma partial obs...\n",
              "12    produc henri fessi cru vineyard wine fruiti ac...\n",
              "13    creami round note hit nose first follow aroma ...\n",
              "14    outstand alway right first take elev sens nose...\n",
              "15    solid tannin mark wine need age structur domin...\n",
              "16    ripe dark fruit leather chocol aroma lead nose...\n",
              "17    leesi aroma tropic fruit banana can peach swee...\n",
              "18    aroma suggest underbrush aromat herb violet ne...\n",
              "19    aroma stew prune fig follow evolv palat along ...\n",
              "Name: clean_desc, dtype: object"
            ]
          },
          "metadata": {
            "tags": []
          },
          "execution_count": 29
        }
      ]
    },
    {
      "cell_type": "markdown",
      "metadata": {
        "id": "vhEayMu0676k",
        "colab_type": "text"
      },
      "source": [
        "Now lets import Tfidf vectorizer "
      ]
    },
    {
      "cell_type": "code",
      "metadata": {
        "id": "OmmXtYDs-k5I",
        "colab_type": "code",
        "colab": {
          "base_uri": "https://localhost:8080/",
          "height": 884
        },
        "outputId": "92bd41f8-aaa9-4c03-c77f-5edf7b9ad0b1"
      },
      "source": [
        "from sklearn.feature_extraction.text import TfidfVectorizer\n",
        "vectorizer = TfidfVectorizer()\n",
        "X = vectorizer.fit_transform(train['clean_desc'])\n",
        "\n",
        "print(X)"
      ],
      "execution_count": 30,
      "outputs": [
        {
          "output_type": "stream",
          "text": [
            "  (0, 5876)\t0.10946061998598532\n",
            "  (0, 14313)\t0.27918547771267516\n",
            "  (0, 12839)\t0.24912717010376745\n",
            "  (0, 13593)\t0.2887712907007304\n",
            "  (0, 10848)\t0.13737580044573572\n",
            "  (0, 2438)\t0.22951303963689193\n",
            "  (0, 11114)\t0.20372055104633177\n",
            "  (0, 15608)\t0.157207040805165\n",
            "  (0, 1551)\t0.20196091665768928\n",
            "  (0, 410)\t0.19960613544841962\n",
            "  (0, 7942)\t0.19766424420215775\n",
            "  (0, 4300)\t0.3143136029248507\n",
            "  (0, 9554)\t0.25082133701762044\n",
            "  (0, 11398)\t0.11384040164835926\n",
            "  (0, 8795)\t0.1993410026313348\n",
            "  (0, 7317)\t0.33649649639248747\n",
            "  (0, 11611)\t0.1891612062448608\n",
            "  (0, 663)\t0.163658310290327\n",
            "  (0, 773)\t0.11245833628028028\n",
            "  (0, 2897)\t0.20229663697665495\n",
            "  (0, 3229)\t0.25176703442691456\n",
            "  (1, 13111)\t0.35876109129791\n",
            "  (1, 7263)\t0.21926881055684738\n",
            "  (1, 4369)\t0.18091315656259477\n",
            "  (1, 14128)\t0.2340261767198523\n",
            "  :\t:\n",
            "  (77640, 9153)\t0.22033902065991479\n",
            "  (77640, 7742)\t0.1828155870721297\n",
            "  (77640, 10693)\t0.1602274402407175\n",
            "  (77640, 5435)\t0.15942336801272441\n",
            "  (77640, 8109)\t0.1606482695049816\n",
            "  (77640, 9825)\t0.1864743170750718\n",
            "  (77640, 15538)\t0.21596340280078508\n",
            "  (77640, 1465)\t0.14503456930145045\n",
            "  (77640, 17966)\t0.22658041925333197\n",
            "  (77640, 9703)\t0.2176169590293739\n",
            "  (77640, 5387)\t0.15418527314517763\n",
            "  (77640, 2510)\t0.15227278155870838\n",
            "  (77640, 1506)\t0.1434924632608136\n",
            "  (77640, 13508)\t0.1274068135946565\n",
            "  (77640, 891)\t0.14076939441990163\n",
            "  (77640, 14689)\t0.1724408470720143\n",
            "  (77640, 5250)\t0.14858868558197355\n",
            "  (77640, 10921)\t0.09688935206354912\n",
            "  (77640, 4086)\t0.11615357781191685\n",
            "  (77640, 12925)\t0.09263830820875131\n",
            "  (77640, 13222)\t0.17912317812649378\n",
            "  (77640, 1564)\t0.08523294694179757\n",
            "  (77640, 2977)\t0.07667205613763302\n",
            "  (77640, 2291)\t0.22456005788116143\n",
            "  (77640, 5876)\t0.07140159697099888\n"
          ],
          "name": "stdout"
        }
      ]
    },
    {
      "cell_type": "markdown",
      "metadata": {
        "id": "EwIq2EEVt-Xr",
        "colab_type": "text"
      },
      "source": [
        "**Model** **Selction**"
      ]
    },
    {
      "cell_type": "markdown",
      "metadata": {
        "id": "p84t40rFuMYN",
        "colab_type": "text"
      },
      "source": [
        "After all the above data transformation, now that we have all the features and labels, it is time to train the classifiers. There are a number of algorithms we can use for this type of problem."
      ]
    },
    {
      "cell_type": "markdown",
      "metadata": {
        "id": "nMJ0OaYHuUJy",
        "colab_type": "text"
      },
      "source": [
        "Lets Start with Logistic Regression\n"
      ]
    },
    {
      "cell_type": "code",
      "metadata": {
        "id": "sdz5DlvqCYJe",
        "colab_type": "code",
        "colab": {
          "base_uri": "https://localhost:8080/",
          "height": 170
        },
        "outputId": "5b6dc92f-2564-409d-8e47-a477ef0f2627"
      },
      "source": [
        "from sklearn.metrics import accuracy_score,classification_report\n",
        "from sklearn.linear_model import LogisticRegression\n",
        "logisticRegr = LogisticRegression()\n",
        "logisticRegr.fit(X_train, y_train)\n",
        "y_pred = logisticRegr.predict(X_test)\n",
        "print(accuracy_score(y_test,y_pred)*100)"
      ],
      "execution_count": 36,
      "outputs": [
        {
          "output_type": "stream",
          "text": [
            "68.63931998196921\n"
          ],
          "name": "stdout"
        },
        {
          "output_type": "stream",
          "text": [
            "/usr/local/lib/python3.6/dist-packages/sklearn/linear_model/_logistic.py:940: ConvergenceWarning: lbfgs failed to converge (status=1):\n",
            "STOP: TOTAL NO. of ITERATIONS REACHED LIMIT.\n",
            "\n",
            "Increase the number of iterations (max_iter) or scale the data as shown in:\n",
            "    https://scikit-learn.org/stable/modules/preprocessing.html\n",
            "Please also refer to the documentation for alternative solver options:\n",
            "    https://scikit-learn.org/stable/modules/linear_model.html#logistic-regression\n",
            "  extra_warning_msg=_LOGISTIC_SOLVER_CONVERGENCE_MSG)\n"
          ],
          "name": "stderr"
        }
      ]
    },
    {
      "cell_type": "markdown",
      "metadata": {
        "id": "dc-CKTKHuc1r",
        "colab_type": "text"
      },
      "source": [
        "It sure gives a decent score now lets try LinearSVC"
      ]
    },
    {
      "cell_type": "code",
      "metadata": {
        "id": "RQk2mUmN-C9K",
        "colab_type": "code",
        "colab": {
          "base_uri": "https://localhost:8080/",
          "height": 34
        },
        "outputId": "7518093e-a514-405a-d170-a0d13c79709b"
      },
      "source": [
        "from sklearn.svm import LinearSVC\n",
        "model = LinearSVC()\n",
        "model.fit(X_train, y_train)\n",
        "y_pred = model.predict(X_test)\n",
        "print(accuracy_score(y_test,y_pred)*100)"
      ],
      "execution_count": 41,
      "outputs": [
        {
          "output_type": "stream",
          "text": [
            "68.6135617232275\n"
          ],
          "name": "stdout"
        }
      ]
    },
    {
      "cell_type": "markdown",
      "metadata": {
        "id": "EiWs58NFurtI",
        "colab_type": "text"
      },
      "source": [
        "Score is almost similar to that of logistic regression lets generate a classification Report"
      ]
    },
    {
      "cell_type": "code",
      "metadata": {
        "id": "MyVTjt3Kf25C",
        "colab_type": "code",
        "colab": {
          "base_uri": "https://localhost:8080/",
          "height": 612
        },
        "outputId": "7c0cc677-90ff-44d3-e400-a3fae7c496c0"
      },
      "source": [
        "\n",
        "print(classification_report(y_test, y_pred))"
      ],
      "execution_count": 45,
      "outputs": [
        {
          "output_type": "stream",
          "text": [
            "              precision    recall  f1-score   support\n",
            "\n",
            "           0       0.65      0.76      0.70      1009\n",
            "           1       0.58      0.44      0.50       159\n",
            "           2       0.60      0.31      0.41       221\n",
            "           3       0.61      0.71      0.65      1415\n",
            "           4       0.76      0.61      0.68       229\n",
            "           5       0.74      0.87      0.80      1743\n",
            "           6       0.67      0.59      0.63       163\n",
            "           7       0.78      0.65      0.71       170\n",
            "           8       0.78      0.73      0.75       191\n",
            "           9       0.53      0.45      0.49       377\n",
            "          10       0.59      0.39      0.47       479\n",
            "          11       0.77      0.82      0.79       428\n",
            "          12       0.71      0.57      0.64       187\n",
            "          13       0.67      0.44      0.53       239\n",
            "          14       0.73      0.82      0.77      1994\n",
            "          15       0.65      0.65      0.65       368\n",
            "          16       0.64      0.41      0.50       169\n",
            "          17       0.70      0.63      0.66      1334\n",
            "          18       0.65      0.56      0.60       208\n",
            "          19       0.78      0.84      0.81       751\n",
            "          20       0.72      0.73      0.72       523\n",
            "          21       0.58      0.55      0.56       405\n",
            "          22       0.69      0.68      0.69       757\n",
            "          23       0.73      0.66      0.69       343\n",
            "          24       0.66      0.60      0.63       622\n",
            "          25       0.53      0.47      0.50       289\n",
            "          26       0.77      0.60      0.67       356\n",
            "          27       0.65      0.60      0.63       400\n",
            "\n",
            "    accuracy                           0.69     15529\n",
            "   macro avg       0.67      0.61      0.64     15529\n",
            "weighted avg       0.68      0.69      0.68     15529\n",
            "\n"
          ],
          "name": "stdout"
        }
      ]
    },
    {
      "cell_type": "markdown",
      "metadata": {
        "id": "-27epB8lu60z",
        "colab_type": "text"
      },
      "source": [
        "Our both models have done a very good job a little hyperparameter tuning and Further NLP processing would improve the accuracy even more so lets try our final model MultinomialNB."
      ]
    },
    {
      "cell_type": "code",
      "metadata": {
        "id": "A5XjC2rGgGmv",
        "colab_type": "code",
        "colab": {
          "base_uri": "https://localhost:8080/",
          "height": 34
        },
        "outputId": "df126d5d-2340-43db-d409-573bf7b636e1"
      },
      "source": [
        "from sklearn.naive_bayes import MultinomialNB\n",
        "cf = MultinomialNB().fit(X_train, y_train)\n",
        "y_pred = cf.predict(X_test)\n",
        "print(accuracy_score(y_test,y_pred)*100)"
      ],
      "execution_count": 54,
      "outputs": [
        {
          "output_type": "stream",
          "text": [
            "45.41181016163308\n"
          ],
          "name": "stdout"
        }
      ]
    },
    {
      "cell_type": "markdown",
      "metadata": {
        "id": "7cowytlqwMLE",
        "colab_type": "text"
      },
      "source": [
        "**Model** **Evaluation**"
      ]
    },
    {
      "cell_type": "markdown",
      "metadata": {
        "id": "wp0lD1o9vUQq",
        "colab_type": "text"
      },
      "source": [
        "It surely fails as compared to previous models. so we can freely declare Logistic Regression as our required model with maximum accuracy.\n",
        "Lets put it on a test for first 10 reviews of our test dataset and see if its working fine."
      ]
    },
    {
      "cell_type": "code",
      "metadata": {
        "id": "sZ-v_mC8hTct",
        "colab_type": "code",
        "colab": {
          "base_uri": "https://localhost:8080/",
          "height": 187
        },
        "outputId": "c9902bf8-1cd7-40df-c056-2fabcf78a0b1"
      },
      "source": [
        "\n",
        "for i in range (0,10):\n",
        "  rew=logisticRegr.predict(vectorizer.transform([test['review_description'][i]]))\n",
        "  print(rew)"
      ],
      "execution_count": 70,
      "outputs": [
        {
          "output_type": "stream",
          "text": [
            "[5]\n",
            "[9]\n",
            "[5]\n",
            "[9]\n",
            "[17]\n",
            "[5]\n",
            "[14]\n",
            "[3]\n",
            "[17]\n",
            "[14]\n"
          ],
          "name": "stdout"
        }
      ]
    },
    {
      "cell_type": "code",
      "metadata": {
        "id": "R06kyE8G1AqD",
        "colab_type": "code",
        "colab": {}
      },
      "source": [
        ""
      ],
      "execution_count": 0,
      "outputs": []
    }
  ]
}