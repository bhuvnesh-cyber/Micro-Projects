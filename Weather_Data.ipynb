{
 "cells": [
  {
   "cell_type": "code",
   "execution_count": 2,
   "metadata": {
    "colab": {
     "base_uri": "https://localhost:8080/",
     "height": 121
    },
    "colab_type": "code",
    "id": "WLVTs8ueozul",
    "outputId": "969db14f-88ae-4f14-8264-f44074ec3a9c"
   },
   "outputs": [
    {
     "name": "stdout",
     "output_type": "stream",
     "text": [
      "Go to this URL in a browser: https://accounts.google.com/o/oauth2/auth?client_id=947318989803-6bn6qk8qdgf4n4g3pfee6491hc0brc4i.apps.googleusercontent.com&redirect_uri=urn%3aietf%3awg%3aoauth%3a2.0%3aoob&response_type=code&scope=email%20https%3a%2f%2fwww.googleapis.com%2fauth%2fdocs.test%20https%3a%2f%2fwww.googleapis.com%2fauth%2fdrive%20https%3a%2f%2fwww.googleapis.com%2fauth%2fdrive.photos.readonly%20https%3a%2f%2fwww.googleapis.com%2fauth%2fpeopleapi.readonly\n",
      "\n",
      "Enter your authorization code:\n",
      "··········\n",
      "Mounted at /content/gdrive\n"
     ]
    }
   ],
   "source": [
    "from google.colab import drive\n",
    "drive.mount('/content/gdrive')"
   ]
  },
  {
   "cell_type": "code",
   "execution_count": 3,
   "metadata": {
    "colab": {
     "base_uri": "https://localhost:8080/",
     "height": 302
    },
    "colab_type": "code",
    "id": "fzSfQtlQpQyX",
    "outputId": "3afa6e03-55e9-4ec1-fe5c-68941a50cad9"
   },
   "outputs": [
    {
     "name": "stdout",
     "output_type": "stream",
     "text": [
      "Mon Jan 27 17:13:17 2020       \n",
      "+-----------------------------------------------------------------------------+\n",
      "| NVIDIA-SMI 440.44       Driver Version: 418.67       CUDA Version: 10.1     |\n",
      "|-------------------------------+----------------------+----------------------+\n",
      "| GPU  Name        Persistence-M| Bus-Id        Disp.A | Volatile Uncorr. ECC |\n",
      "| Fan  Temp  Perf  Pwr:Usage/Cap|         Memory-Usage | GPU-Util  Compute M. |\n",
      "|===============================+======================+======================|\n",
      "|   0  Tesla T4            Off  | 00000000:00:04.0 Off |                    0 |\n",
      "| N/A   46C    P8    10W /  70W |      0MiB / 15079MiB |      0%      Default |\n",
      "+-------------------------------+----------------------+----------------------+\n",
      "                                                                               \n",
      "+-----------------------------------------------------------------------------+\n",
      "| Processes:                                                       GPU Memory |\n",
      "|  GPU       PID   Type   Process name                             Usage      |\n",
      "|=============================================================================|\n",
      "|  No running processes found                                                 |\n",
      "+-----------------------------------------------------------------------------+\n"
     ]
    }
   ],
   "source": [
    "!nvidia-smi"
   ]
  },
  {
   "cell_type": "markdown",
   "metadata": {
    "colab_type": "text",
    "id": "cegZD5z8Bq9f"
   },
   "source": [
    "Loading the required dataset."
   ]
  },
  {
   "cell_type": "code",
   "execution_count": 0,
   "metadata": {
    "colab": {},
    "colab_type": "code",
    "id": "UyeNRdhWpcLX"
   },
   "outputs": [],
   "source": [
    "\n",
    "import pandas as pd\n",
    "import numpy as np\n",
    "\n",
    "weather = pd.read_csv('gdrive/My Drive/Weather_data.csv')\n"
   ]
  },
  {
   "cell_type": "code",
   "execution_count": 61,
   "metadata": {
    "colab": {
     "base_uri": "https://localhost:8080/",
     "height": 206
    },
    "colab_type": "code",
    "id": "3lv6IBAUs4D4",
    "outputId": "c57af966-e026-425e-f00b-1c97f20b0814"
   },
   "outputs": [
    {
     "data": {
      "text/html": [
       "<div>\n",
       "<style scoped>\n",
       "    .dataframe tbody tr th:only-of-type {\n",
       "        vertical-align: middle;\n",
       "    }\n",
       "\n",
       "    .dataframe tbody tr th {\n",
       "        vertical-align: top;\n",
       "    }\n",
       "\n",
       "    .dataframe thead th {\n",
       "        text-align: right;\n",
       "    }\n",
       "</style>\n",
       "<table border=\"1\" class=\"dataframe\">\n",
       "  <thead>\n",
       "    <tr style=\"text-align: right;\">\n",
       "      <th></th>\n",
       "      <th>datetime_utc</th>\n",
       "      <th>_conds</th>\n",
       "      <th>_dewptm</th>\n",
       "      <th>_fog</th>\n",
       "      <th>_hail</th>\n",
       "      <th>_heatindexm</th>\n",
       "      <th>_hum</th>\n",
       "      <th>_precipm</th>\n",
       "      <th>_pressurem</th>\n",
       "      <th>_rain</th>\n",
       "      <th>_snow</th>\n",
       "      <th>_tempm</th>\n",
       "      <th>_thunder</th>\n",
       "      <th>_tornado</th>\n",
       "      <th>_vism</th>\n",
       "      <th>_wdird</th>\n",
       "      <th>_wdire</th>\n",
       "      <th>_wgustm</th>\n",
       "      <th>_windchillm</th>\n",
       "      <th>_wspdm</th>\n",
       "    </tr>\n",
       "  </thead>\n",
       "  <tbody>\n",
       "    <tr>\n",
       "      <th>0</th>\n",
       "      <td>19961101-11:00</td>\n",
       "      <td>Smoke</td>\n",
       "      <td>9.0</td>\n",
       "      <td>0</td>\n",
       "      <td>0</td>\n",
       "      <td>NaN</td>\n",
       "      <td>27.0</td>\n",
       "      <td>NaN</td>\n",
       "      <td>1010.0</td>\n",
       "      <td>0</td>\n",
       "      <td>0</td>\n",
       "      <td>30.0</td>\n",
       "      <td>0</td>\n",
       "      <td>0</td>\n",
       "      <td>5.0</td>\n",
       "      <td>280.0</td>\n",
       "      <td>West</td>\n",
       "      <td>NaN</td>\n",
       "      <td>NaN</td>\n",
       "      <td>7.4</td>\n",
       "    </tr>\n",
       "    <tr>\n",
       "      <th>1</th>\n",
       "      <td>19961101-12:00</td>\n",
       "      <td>Smoke</td>\n",
       "      <td>10.0</td>\n",
       "      <td>0</td>\n",
       "      <td>0</td>\n",
       "      <td>NaN</td>\n",
       "      <td>32.0</td>\n",
       "      <td>NaN</td>\n",
       "      <td>-9999.0</td>\n",
       "      <td>0</td>\n",
       "      <td>0</td>\n",
       "      <td>28.0</td>\n",
       "      <td>0</td>\n",
       "      <td>0</td>\n",
       "      <td>NaN</td>\n",
       "      <td>0.0</td>\n",
       "      <td>North</td>\n",
       "      <td>NaN</td>\n",
       "      <td>NaN</td>\n",
       "      <td>NaN</td>\n",
       "    </tr>\n",
       "    <tr>\n",
       "      <th>2</th>\n",
       "      <td>19961101-13:00</td>\n",
       "      <td>Smoke</td>\n",
       "      <td>11.0</td>\n",
       "      <td>0</td>\n",
       "      <td>0</td>\n",
       "      <td>NaN</td>\n",
       "      <td>44.0</td>\n",
       "      <td>NaN</td>\n",
       "      <td>-9999.0</td>\n",
       "      <td>0</td>\n",
       "      <td>0</td>\n",
       "      <td>24.0</td>\n",
       "      <td>0</td>\n",
       "      <td>0</td>\n",
       "      <td>NaN</td>\n",
       "      <td>0.0</td>\n",
       "      <td>North</td>\n",
       "      <td>NaN</td>\n",
       "      <td>NaN</td>\n",
       "      <td>NaN</td>\n",
       "    </tr>\n",
       "  </tbody>\n",
       "</table>\n",
       "</div>"
      ],
      "text/plain": [
       "     datetime_utc  _conds   _dewptm  ...   _wgustm   _windchillm   _wspdm\n",
       "0  19961101-11:00   Smoke       9.0  ...       NaN           NaN      7.4\n",
       "1  19961101-12:00   Smoke      10.0  ...       NaN           NaN      NaN\n",
       "2  19961101-13:00   Smoke      11.0  ...       NaN           NaN      NaN\n",
       "\n",
       "[3 rows x 20 columns]"
      ]
     },
     "execution_count": 61,
     "metadata": {
      "tags": []
     },
     "output_type": "execute_result"
    }
   ],
   "source": [
    "weather.head(3)"
   ]
  },
  {
   "cell_type": "code",
   "execution_count": 0,
   "metadata": {
    "colab": {},
    "colab_type": "code",
    "id": "pDx-z857p2qS"
   },
   "outputs": [],
   "source": [
    "cols = weather.columns.tolist()"
   ]
  },
  {
   "cell_type": "markdown",
   "metadata": {
    "colab_type": "text",
    "id": "jnBIO0roBvx0"
   },
   "source": [
    "Lets clean the column names for easier retrieval."
   ]
  },
  {
   "cell_type": "code",
   "execution_count": 0,
   "metadata": {
    "colab": {},
    "colab_type": "code",
    "id": "Qqi2yj8ZqamL"
   },
   "outputs": [],
   "source": [
    "for i in range(len(cols)):\n",
    "  if cols[i][1]==\"_\":\n",
    "    cols[i] = cols[i][2:]\n"
   ]
  },
  {
   "cell_type": "code",
   "execution_count": 0,
   "metadata": {
    "colab": {},
    "colab_type": "code",
    "id": "ZTUmzMINrCxq"
   },
   "outputs": [],
   "source": [
    "weather.columns = cols"
   ]
  },
  {
   "cell_type": "code",
   "execution_count": 65,
   "metadata": {
    "colab": {
     "base_uri": "https://localhost:8080/",
     "height": 206
    },
    "colab_type": "code",
    "id": "rmnkRIjsrDP-",
    "outputId": "aaf9dc4b-cc5a-4914-9d54-d945c5656b04"
   },
   "outputs": [
    {
     "data": {
      "text/html": [
       "<div>\n",
       "<style scoped>\n",
       "    .dataframe tbody tr th:only-of-type {\n",
       "        vertical-align: middle;\n",
       "    }\n",
       "\n",
       "    .dataframe tbody tr th {\n",
       "        vertical-align: top;\n",
       "    }\n",
       "\n",
       "    .dataframe thead th {\n",
       "        text-align: right;\n",
       "    }\n",
       "</style>\n",
       "<table border=\"1\" class=\"dataframe\">\n",
       "  <thead>\n",
       "    <tr style=\"text-align: right;\">\n",
       "      <th></th>\n",
       "      <th>datetime_utc</th>\n",
       "      <th>conds</th>\n",
       "      <th>dewptm</th>\n",
       "      <th>fog</th>\n",
       "      <th>hail</th>\n",
       "      <th>heatindexm</th>\n",
       "      <th>hum</th>\n",
       "      <th>precipm</th>\n",
       "      <th>pressurem</th>\n",
       "      <th>rain</th>\n",
       "      <th>snow</th>\n",
       "      <th>tempm</th>\n",
       "      <th>thunder</th>\n",
       "      <th>tornado</th>\n",
       "      <th>vism</th>\n",
       "      <th>wdird</th>\n",
       "      <th>wdire</th>\n",
       "      <th>wgustm</th>\n",
       "      <th>windchillm</th>\n",
       "      <th>wspdm</th>\n",
       "    </tr>\n",
       "  </thead>\n",
       "  <tbody>\n",
       "    <tr>\n",
       "      <th>0</th>\n",
       "      <td>19961101-11:00</td>\n",
       "      <td>Smoke</td>\n",
       "      <td>9.0</td>\n",
       "      <td>0</td>\n",
       "      <td>0</td>\n",
       "      <td>NaN</td>\n",
       "      <td>27.0</td>\n",
       "      <td>NaN</td>\n",
       "      <td>1010.0</td>\n",
       "      <td>0</td>\n",
       "      <td>0</td>\n",
       "      <td>30.0</td>\n",
       "      <td>0</td>\n",
       "      <td>0</td>\n",
       "      <td>5.0</td>\n",
       "      <td>280.0</td>\n",
       "      <td>West</td>\n",
       "      <td>NaN</td>\n",
       "      <td>NaN</td>\n",
       "      <td>7.4</td>\n",
       "    </tr>\n",
       "    <tr>\n",
       "      <th>1</th>\n",
       "      <td>19961101-12:00</td>\n",
       "      <td>Smoke</td>\n",
       "      <td>10.0</td>\n",
       "      <td>0</td>\n",
       "      <td>0</td>\n",
       "      <td>NaN</td>\n",
       "      <td>32.0</td>\n",
       "      <td>NaN</td>\n",
       "      <td>-9999.0</td>\n",
       "      <td>0</td>\n",
       "      <td>0</td>\n",
       "      <td>28.0</td>\n",
       "      <td>0</td>\n",
       "      <td>0</td>\n",
       "      <td>NaN</td>\n",
       "      <td>0.0</td>\n",
       "      <td>North</td>\n",
       "      <td>NaN</td>\n",
       "      <td>NaN</td>\n",
       "      <td>NaN</td>\n",
       "    </tr>\n",
       "    <tr>\n",
       "      <th>2</th>\n",
       "      <td>19961101-13:00</td>\n",
       "      <td>Smoke</td>\n",
       "      <td>11.0</td>\n",
       "      <td>0</td>\n",
       "      <td>0</td>\n",
       "      <td>NaN</td>\n",
       "      <td>44.0</td>\n",
       "      <td>NaN</td>\n",
       "      <td>-9999.0</td>\n",
       "      <td>0</td>\n",
       "      <td>0</td>\n",
       "      <td>24.0</td>\n",
       "      <td>0</td>\n",
       "      <td>0</td>\n",
       "      <td>NaN</td>\n",
       "      <td>0.0</td>\n",
       "      <td>North</td>\n",
       "      <td>NaN</td>\n",
       "      <td>NaN</td>\n",
       "      <td>NaN</td>\n",
       "    </tr>\n",
       "  </tbody>\n",
       "</table>\n",
       "</div>"
      ],
      "text/plain": [
       "     datetime_utc  conds  dewptm  fog  ...  wdire  wgustm  windchillm  wspdm\n",
       "0  19961101-11:00  Smoke     9.0    0  ...   West     NaN         NaN    7.4\n",
       "1  19961101-12:00  Smoke    10.0    0  ...  North     NaN         NaN    NaN\n",
       "2  19961101-13:00  Smoke    11.0    0  ...  North     NaN         NaN    NaN\n",
       "\n",
       "[3 rows x 20 columns]"
      ]
     },
     "execution_count": 65,
     "metadata": {
      "tags": []
     },
     "output_type": "execute_result"
    }
   ],
   "source": [
    "weather.head(3)"
   ]
  },
  {
   "cell_type": "markdown",
   "metadata": {
    "colab_type": "text",
    "id": "Nb8ngDoQHLLx"
   },
   "source": [
    "Checking null values, looks like many columns have null values."
   ]
  },
  {
   "cell_type": "code",
   "execution_count": 66,
   "metadata": {
    "colab": {
     "base_uri": "https://localhost:8080/",
     "height": 67
    },
    "colab_type": "code",
    "id": "c58dmF99roQQ",
    "outputId": "f1952e2e-0b99-4475-ad98-a2dbcef97fcd"
   },
   "outputs": [
    {
     "data": {
      "text/plain": [
       "Index(['conds', 'dewptm', 'heatindexm', 'hum', 'precipm', 'pressurem', 'tempm',\n",
       "       'vism', 'wdird', 'wdire', 'wgustm', 'windchillm', 'wspdm'],\n",
       "      dtype='object')"
      ]
     },
     "execution_count": 66,
     "metadata": {
      "tags": []
     },
     "output_type": "execute_result"
    }
   ],
   "source": [
    "weather.columns[weather.isna().any()]"
   ]
  },
  {
   "cell_type": "code",
   "execution_count": 67,
   "metadata": {
    "colab": {
     "base_uri": "https://localhost:8080/",
     "height": 304
    },
    "colab_type": "code",
    "id": "A60HXM8Er8hW",
    "outputId": "edd3a2cc-ca71-4bfc-dba2-0f740bc96c4e"
   },
   "outputs": [
    {
     "data": {
      "text/html": [
       "<div>\n",
       "<style scoped>\n",
       "    .dataframe tbody tr th:only-of-type {\n",
       "        vertical-align: middle;\n",
       "    }\n",
       "\n",
       "    .dataframe tbody tr th {\n",
       "        vertical-align: top;\n",
       "    }\n",
       "\n",
       "    .dataframe thead th {\n",
       "        text-align: right;\n",
       "    }\n",
       "</style>\n",
       "<table border=\"1\" class=\"dataframe\">\n",
       "  <thead>\n",
       "    <tr style=\"text-align: right;\">\n",
       "      <th></th>\n",
       "      <th>dewptm</th>\n",
       "      <th>fog</th>\n",
       "      <th>hail</th>\n",
       "      <th>heatindexm</th>\n",
       "      <th>hum</th>\n",
       "      <th>precipm</th>\n",
       "      <th>pressurem</th>\n",
       "      <th>rain</th>\n",
       "      <th>snow</th>\n",
       "      <th>tempm</th>\n",
       "      <th>thunder</th>\n",
       "      <th>tornado</th>\n",
       "      <th>vism</th>\n",
       "      <th>wdird</th>\n",
       "      <th>wgustm</th>\n",
       "      <th>windchillm</th>\n",
       "      <th>wspdm</th>\n",
       "    </tr>\n",
       "  </thead>\n",
       "  <tbody>\n",
       "    <tr>\n",
       "      <th>count</th>\n",
       "      <td>98294.000000</td>\n",
       "      <td>98913.000000</td>\n",
       "      <td>98913.000000</td>\n",
       "      <td>29111.000000</td>\n",
       "      <td>98160.000000</td>\n",
       "      <td>0.0</td>\n",
       "      <td>9.868200e+04</td>\n",
       "      <td>98913.000000</td>\n",
       "      <td>98913.00000</td>\n",
       "      <td>98244.000000</td>\n",
       "      <td>98913.000000</td>\n",
       "      <td>98913.000000</td>\n",
       "      <td>94497.000000</td>\n",
       "      <td>84533.000000</td>\n",
       "      <td>1063.000000</td>\n",
       "      <td>573.000000</td>\n",
       "      <td>96560.000000</td>\n",
       "    </tr>\n",
       "    <tr>\n",
       "      <th>mean</th>\n",
       "      <td>15.817130</td>\n",
       "      <td>0.067109</td>\n",
       "      <td>0.000131</td>\n",
       "      <td>35.659606</td>\n",
       "      <td>57.774358</td>\n",
       "      <td>NaN</td>\n",
       "      <td>1.951861e+03</td>\n",
       "      <td>0.026498</td>\n",
       "      <td>0.00001</td>\n",
       "      <td>25.578427</td>\n",
       "      <td>0.009362</td>\n",
       "      <td>0.000020</td>\n",
       "      <td>2.419885</td>\n",
       "      <td>162.550980</td>\n",
       "      <td>37.704516</td>\n",
       "      <td>5.708202</td>\n",
       "      <td>7.685854</td>\n",
       "    </tr>\n",
       "    <tr>\n",
       "      <th>std</th>\n",
       "      <td>7.096917</td>\n",
       "      <td>0.250213</td>\n",
       "      <td>0.011464</td>\n",
       "      <td>5.013579</td>\n",
       "      <td>23.754463</td>\n",
       "      <td>NaN</td>\n",
       "      <td>3.217101e+05</td>\n",
       "      <td>0.160612</td>\n",
       "      <td>0.00318</td>\n",
       "      <td>8.464732</td>\n",
       "      <td>0.096303</td>\n",
       "      <td>0.004497</td>\n",
       "      <td>20.970678</td>\n",
       "      <td>120.019889</td>\n",
       "      <td>6.841070</td>\n",
       "      <td>1.205967</td>\n",
       "      <td>11.995965</td>\n",
       "    </tr>\n",
       "    <tr>\n",
       "      <th>min</th>\n",
       "      <td>-24.000000</td>\n",
       "      <td>0.000000</td>\n",
       "      <td>0.000000</td>\n",
       "      <td>26.800000</td>\n",
       "      <td>4.000000</td>\n",
       "      <td>NaN</td>\n",
       "      <td>-9.999000e+03</td>\n",
       "      <td>0.000000</td>\n",
       "      <td>0.00000</td>\n",
       "      <td>1.000000</td>\n",
       "      <td>0.000000</td>\n",
       "      <td>0.000000</td>\n",
       "      <td>0.000000</td>\n",
       "      <td>0.000000</td>\n",
       "      <td>25.900000</td>\n",
       "      <td>2.100000</td>\n",
       "      <td>0.000000</td>\n",
       "    </tr>\n",
       "    <tr>\n",
       "      <th>25%</th>\n",
       "      <td>10.000000</td>\n",
       "      <td>0.000000</td>\n",
       "      <td>0.000000</td>\n",
       "      <td>31.700000</td>\n",
       "      <td>39.000000</td>\n",
       "      <td>NaN</td>\n",
       "      <td>1.002000e+03</td>\n",
       "      <td>0.000000</td>\n",
       "      <td>0.00000</td>\n",
       "      <td>19.000000</td>\n",
       "      <td>0.000000</td>\n",
       "      <td>0.000000</td>\n",
       "      <td>1.500000</td>\n",
       "      <td>50.000000</td>\n",
       "      <td>33.300000</td>\n",
       "      <td>4.900000</td>\n",
       "      <td>0.000000</td>\n",
       "    </tr>\n",
       "    <tr>\n",
       "      <th>50%</th>\n",
       "      <td>15.000000</td>\n",
       "      <td>0.000000</td>\n",
       "      <td>0.000000</td>\n",
       "      <td>35.100000</td>\n",
       "      <td>58.000000</td>\n",
       "      <td>NaN</td>\n",
       "      <td>1.008000e+03</td>\n",
       "      <td>0.000000</td>\n",
       "      <td>0.00000</td>\n",
       "      <td>27.000000</td>\n",
       "      <td>0.000000</td>\n",
       "      <td>0.000000</td>\n",
       "      <td>2.000000</td>\n",
       "      <td>150.000000</td>\n",
       "      <td>37.000000</td>\n",
       "      <td>6.100000</td>\n",
       "      <td>7.400000</td>\n",
       "    </tr>\n",
       "    <tr>\n",
       "      <th>75%</th>\n",
       "      <td>22.000000</td>\n",
       "      <td>0.000000</td>\n",
       "      <td>0.000000</td>\n",
       "      <td>39.200000</td>\n",
       "      <td>77.000000</td>\n",
       "      <td>NaN</td>\n",
       "      <td>1.014000e+03</td>\n",
       "      <td>0.000000</td>\n",
       "      <td>0.00000</td>\n",
       "      <td>32.000000</td>\n",
       "      <td>0.000000</td>\n",
       "      <td>0.000000</td>\n",
       "      <td>3.000000</td>\n",
       "      <td>270.000000</td>\n",
       "      <td>40.700000</td>\n",
       "      <td>6.800000</td>\n",
       "      <td>11.100000</td>\n",
       "    </tr>\n",
       "    <tr>\n",
       "      <th>max</th>\n",
       "      <td>75.000000</td>\n",
       "      <td>1.000000</td>\n",
       "      <td>1.000000</td>\n",
       "      <td>73.600000</td>\n",
       "      <td>243.000000</td>\n",
       "      <td>NaN</td>\n",
       "      <td>1.010614e+08</td>\n",
       "      <td>1.000000</td>\n",
       "      <td>1.00000</td>\n",
       "      <td>90.000000</td>\n",
       "      <td>1.000000</td>\n",
       "      <td>1.000000</td>\n",
       "      <td>6436.000000</td>\n",
       "      <td>960.000000</td>\n",
       "      <td>92.600000</td>\n",
       "      <td>7.300000</td>\n",
       "      <td>1514.900000</td>\n",
       "    </tr>\n",
       "  </tbody>\n",
       "</table>\n",
       "</div>"
      ],
      "text/plain": [
       "             dewptm           fog  ...  windchillm         wspdm\n",
       "count  98294.000000  98913.000000  ...  573.000000  96560.000000\n",
       "mean      15.817130      0.067109  ...    5.708202      7.685854\n",
       "std        7.096917      0.250213  ...    1.205967     11.995965\n",
       "min      -24.000000      0.000000  ...    2.100000      0.000000\n",
       "25%       10.000000      0.000000  ...    4.900000      0.000000\n",
       "50%       15.000000      0.000000  ...    6.100000      7.400000\n",
       "75%       22.000000      0.000000  ...    6.800000     11.100000\n",
       "max       75.000000      1.000000  ...    7.300000   1514.900000\n",
       "\n",
       "[8 rows x 17 columns]"
      ]
     },
     "execution_count": 67,
     "metadata": {
      "tags": []
     },
     "output_type": "execute_result"
    }
   ],
   "source": [
    "weather.describe()"
   ]
  },
  {
   "cell_type": "markdown",
   "metadata": {
    "colab_type": "text",
    "id": "4OWMj_n1B9NP"
   },
   "source": [
    "\n",
    "*   Since 'tempm' is our target column and if the target column itself is null, then the corresponding samples are irrelevant.\n",
    "*   And precipm column has all Na values. So we are dropping it. \n",
    "\n",
    "\n"
   ]
  },
  {
   "cell_type": "code",
   "execution_count": 0,
   "metadata": {
    "colab": {},
    "colab_type": "code",
    "id": "2r9KgZ8msSst"
   },
   "outputs": [],
   "source": [
    "weather = weather.dropna(axis=0, subset=['tempm'])\n",
    "weather = weather.drop([\"precipm\"],axis=1)"
   ]
  },
  {
   "cell_type": "markdown",
   "metadata": {
    "colab_type": "text",
    "id": "SugxILNhCWNf"
   },
   "source": [
    "Lets have a look at the 'conds' column (The condition during the day)."
   ]
  },
  {
   "cell_type": "code",
   "execution_count": 69,
   "metadata": {
    "colab": {
     "base_uri": "https://localhost:8080/",
     "height": 672
    },
    "colab_type": "code",
    "id": "AFO4hYnCucwR",
    "outputId": "cb0702ba-9fd6-4106-fa69-f84d4f00a741"
   },
   "outputs": [
    {
     "data": {
      "text/plain": [
       "Counter({'Blowing Sand': 357,\n",
       "         'Clear': 3111,\n",
       "         'Drizzle': 109,\n",
       "         'Fog': 2511,\n",
       "         'Funnel Cloud': 2,\n",
       "         'Haze': 46654,\n",
       "         'Heavy Fog': 407,\n",
       "         'Heavy Rain': 28,\n",
       "         'Heavy Thunderstorms and Rain': 18,\n",
       "         'Heavy Thunderstorms with Hail': 1,\n",
       "         'Light Drizzle': 406,\n",
       "         'Light Fog': 51,\n",
       "         'Light Hail Showers': 1,\n",
       "         'Light Haze': 4,\n",
       "         'Light Rain': 1291,\n",
       "         'Light Rain Showers': 5,\n",
       "         'Light Sandstorm': 6,\n",
       "         'Light Thunderstorm': 63,\n",
       "         'Light Thunderstorms and Rain': 169,\n",
       "         'Mist': 8977,\n",
       "         'Mostly Cloudy': 1515,\n",
       "         'Overcast': 311,\n",
       "         'Partial Fog': 958,\n",
       "         'Partly Cloudy': 2052,\n",
       "         'Patches of Fog': 813,\n",
       "         'Rain': 389,\n",
       "         'Rain Showers': 2,\n",
       "         'Sandstorm': 1,\n",
       "         'Scattered Clouds': 2182,\n",
       "         'Shallow Fog': 1842,\n",
       "         'Smoke': 20200,\n",
       "         'Squalls': 6,\n",
       "         'Thunderstorm': 189,\n",
       "         'Thunderstorms and Rain': 466,\n",
       "         'Thunderstorms with Hail': 11,\n",
       "         'Unknown': 276,\n",
       "         'Volcanic Ash': 1,\n",
       "         'Widespread Dust': 2819,\n",
       "         nan: 40})"
      ]
     },
     "execution_count": 69,
     "metadata": {
      "tags": []
     },
     "output_type": "execute_result"
    }
   ],
   "source": [
    "from collections import Counter\n",
    "Counter(weather.conds.values)"
   ]
  },
  {
   "cell_type": "markdown",
   "metadata": {
    "colab_type": "text",
    "id": "VucshwpQCdB0"
   },
   "source": [
    "If we inspect our dataset closely, we notice that we have columns such as 'fog', 'hail','rain','snow','thunder','tornado'.\n",
    "These columns are similar to a one hot encoded one. So we must find a method to group other conditions so that they fall under these main (lets call them master conditions) conditions."
   ]
  },
  {
   "cell_type": "code",
   "execution_count": 0,
   "metadata": {
    "colab": {},
    "colab_type": "code",
    "id": "Mz7t9lMbvAj7"
   },
   "outputs": [],
   "source": [
    "def generalize_conditions(dataset):   \n",
    "  weather_conds = dataset.conds.values.tolist()\n",
    "  for i in range(len(weather_conds)):\n",
    "    if type(weather_conds[i])!=float:\n",
    "      if weather_conds[i].__contains__(\"Hail\"):\n",
    "        weather_conds[i] = \"hail\"\n",
    "      elif weather_conds[i].__contains__(\"Thunder\") or weather_conds[i].__contains__(\"Squalls\") or weather_conds[i].__contains__(\"Cloud\") or weather_conds[i].__contains__(\"Overcast\"):\n",
    "        weather_conds[i] = \"thunder\"\n",
    "      elif weather_conds[i].__contains__(\"Rain\") or weather_conds[i].__contains__(\"Drizzle\") or weather_conds[i].__contains__(\"Showers\"):\n",
    "        weather_conds[i] = \"rain\"\n",
    "      elif weather_conds[i].__contains__(\"Mist\") or weather_conds[i].__contains__(\"Showers\"):\n",
    "        weather_conds[i] = \"snow\"\n",
    "      elif weather_conds[i].__contains__(\"Fog\"):\n",
    "        weather_conds[i] = \"fog\"\n",
    "      elif weather_conds[i].__contains__(\"Sand\") or weather_conds[i].__contains__(\"Haze\") or weather_conds[i].__contains__(\"Dust\") or weather_conds[i].__contains__(\"Smoke\") or weather_conds[i].__contains__(\"Ash\"):\n",
    "        weather_conds[i] = \"haze\"\n",
    "  dataset[\"conds\"] = weather_conds\n",
    "\n",
    "generalize_conditions(weather)"
   ]
  },
  {
   "cell_type": "markdown",
   "metadata": {
    "colab_type": "text",
    "id": "irvkgilCC4dy"
   },
   "source": [
    "We have cleaned the conds column."
   ]
  },
  {
   "cell_type": "code",
   "execution_count": 71,
   "metadata": {
    "colab": {
     "base_uri": "https://localhost:8080/",
     "height": 168
    },
    "colab_type": "code",
    "id": "cOYUCTdi7wLv",
    "outputId": "e55dab22-d205-4ffc-eeac-5e00ed09a1c9"
   },
   "outputs": [
    {
     "data": {
      "text/plain": [
       "Counter({'Clear': 3111,\n",
       "         'Unknown': 276,\n",
       "         'fog': 6582,\n",
       "         'hail': 13,\n",
       "         'haze': 70042,\n",
       "         nan: 40,\n",
       "         'rain': 2230,\n",
       "         'snow': 8977,\n",
       "         'thunder': 6973})"
      ]
     },
     "execution_count": 71,
     "metadata": {
      "tags": []
     },
     "output_type": "execute_result"
    }
   ],
   "source": [
    "Counter(weather.conds.values)"
   ]
  },
  {
   "cell_type": "code",
   "execution_count": 72,
   "metadata": {
    "colab": {
     "base_uri": "https://localhost:8080/",
     "height": 67
    },
    "colab_type": "code",
    "id": "wSx-gIy3w_Fd",
    "outputId": "770b9e7d-82e0-4a24-9cfb-6a0ca7336932"
   },
   "outputs": [
    {
     "data": {
      "text/plain": [
       "Index(['conds', 'dewptm', 'heatindexm', 'hum', 'pressurem', 'vism', 'wdird',\n",
       "       'wdire', 'wgustm', 'windchillm', 'wspdm'],\n",
       "      dtype='object')"
      ]
     },
     "execution_count": 72,
     "metadata": {
      "tags": []
     },
     "output_type": "execute_result"
    }
   ],
   "source": [
    "weather.columns[weather.isna().any()]"
   ]
  },
  {
   "cell_type": "markdown",
   "metadata": {
    "colab_type": "text",
    "id": "f3Emg6iOC-xh"
   },
   "source": [
    "Lets fill 'conds' column. How we do that is:\n",
    "\n",
    "\n",
    "1.   We separate our dataset into two, one which has no null value in the conds column and the other which has only null values in conds column.\n",
    "2.   We make use of this non-null dataset to fill dewptm column. \n",
    "3.   Next we extract the max dew and min dew & max vism and min vism for every condition.\n",
    "4.   Next we extract the dew and vism columns from the null datset.\n",
    "5.   Based on the range of dew and vism, we will impute values.\n",
    "\n"
   ]
  },
  {
   "cell_type": "code",
   "execution_count": 0,
   "metadata": {
    "colab": {},
    "colab_type": "code",
    "id": "tJDP1n8QChHX"
   },
   "outputs": [],
   "source": [
    "def convert_na_to_list(dew,dew_range_max,dew_range_min,vism,vism_range_max,vism_range_min):  \n",
    "  li = []\n",
    "  for i in range(len(dew)):\n",
    "    if dew[i] >= dew_range_min[0] and dew[i] <= dew_range_max[0] and vism[i] >= vism_range_min[0] and vism[i] <= vism_range_max[0]:\n",
    "      li.append('Clear')\n",
    "    elif dew[i] >= dew_range_min[1] and dew[i] <= dew_range_max[1] and vism[i] >= vism_range_min[1] and vism[i] <= vism_range_max[1]:\n",
    "      li.append('Unknown')\n",
    "    elif dew[i] >= dew_range_min[4] and dew[i] <= dew_range_max[4] and vism[i] >= vism_range_min[4] and vism[i] <= vism_range_max[4]:\n",
    "      li.append('haze')\n",
    "  return li "
   ]
  },
  {
   "cell_type": "code",
   "execution_count": 74,
   "metadata": {
    "colab": {
     "base_uri": "https://localhost:8080/",
     "height": 420
    },
    "colab_type": "code",
    "id": "ApUkY6alv6wa",
    "outputId": "a6510ddd-287e-4320-a6d9-fbd64f72414c"
   },
   "outputs": [
    {
     "name": "stderr",
     "output_type": "stream",
     "text": [
      "/usr/local/lib/python3.6/dist-packages/ipykernel_launcher.py:4: SettingWithCopyWarning: \n",
      "A value is trying to be set on a copy of a slice from a DataFrame.\n",
      "Try using .loc[row_indexer,col_indexer] = value instead\n",
      "\n",
      "See the caveats in the documentation: http://pandas.pydata.org/pandas-docs/stable/user_guide/indexing.html#returning-a-view-versus-a-copy\n",
      "  after removing the cwd from sys.path.\n",
      "/usr/local/lib/python3.6/dist-packages/ipykernel_launcher.py:5: SettingWithCopyWarning: \n",
      "A value is trying to be set on a copy of a slice from a DataFrame.\n",
      "Try using .loc[row_indexer,col_indexer] = value instead\n",
      "\n",
      "See the caveats in the documentation: http://pandas.pydata.org/pandas-docs/stable/user_guide/indexing.html#returning-a-view-versus-a-copy\n",
      "  \"\"\"\n",
      "/usr/local/lib/python3.6/dist-packages/ipykernel_launcher.py:11: SettingWithCopyWarning: \n",
      "A value is trying to be set on a copy of a slice from a DataFrame.\n",
      "Try using .loc[row_indexer,col_indexer] = value instead\n",
      "\n",
      "See the caveats in the documentation: http://pandas.pydata.org/pandas-docs/stable/user_guide/indexing.html#returning-a-view-versus-a-copy\n",
      "  # This is added back by InteractiveShellApp.init_path()\n",
      "/usr/local/lib/python3.6/dist-packages/ipykernel_launcher.py:12: SettingWithCopyWarning: \n",
      "A value is trying to be set on a copy of a slice from a DataFrame.\n",
      "Try using .loc[row_indexer,col_indexer] = value instead\n",
      "\n",
      "See the caveats in the documentation: http://pandas.pydata.org/pandas-docs/stable/user_guide/indexing.html#returning-a-view-versus-a-copy\n",
      "  if sys.path[0] == '':\n"
     ]
    }
   ],
   "source": [
    "def weather_na(weather):\n",
    "  weather_conds_wo_na = weather[~weather[\"conds\"].isna()]\n",
    "  weather_conds_w_na = weather[weather[\"conds\"].isna()]\n",
    "  weather_conds_wo_na[\"dewptm\"] = weather_conds_wo_na.groupby(\"conds\").transform(lambda x: x.fillna(x.median()))\n",
    "  weather_conds_wo_na[\"dewptm\"] = weather_conds_wo_na['dewptm'].fillna(weather_conds_wo_na.groupby('conds')['dewptm'].transform('mean'))\n",
    "  dew_range_max, dew_range_min = weather_conds_wo_na.groupby('conds')['dewptm'].max(), weather_conds_wo_na.groupby('conds')['dewptm'].min()\n",
    "  vism_range_max, vism_range_min = weather_conds_wo_na.groupby('conds')['vism'].max(),weather_conds_wo_na.groupby('conds')['vism'].min()\n",
    "  dew = weather_conds_w_na.dewptm.values\n",
    "  vism = weather_conds_w_na.vism.values\n",
    "  list1 = convert_na_to_list(dew,dew_range_max,dew_range_min,vism,vism_range_max,vism_range_min)\n",
    "  weather_conds_w_na['conds'] = list1\n",
    "  weather_conds_w_na[\"dewptm\"] = weather_conds_w_na['dewptm'].fillna(weather_conds_w_na.groupby('conds')['dewptm'].transform('mean'))\n",
    "  weather = weather_conds_wo_na.append(weather_conds_w_na, ignore_index=True)\n",
    "  weather = weather.sort_values('datetime_utc')\n",
    "  return weather\n",
    "weather = weather_na(weather)\n"
   ]
  },
  {
   "cell_type": "markdown",
   "metadata": {
    "colab_type": "text",
    "id": "xuzj7XGuD657"
   },
   "source": [
    "Now lets get one hot encoded columns based on the conds, whilst also retaining conds column itself for future imputations."
   ]
  },
  {
   "cell_type": "code",
   "execution_count": 0,
   "metadata": {
    "colab": {},
    "colab_type": "code",
    "id": "ojsJ9YbCblFD"
   },
   "outputs": [],
   "source": [
    "\n",
    "conds = weather['conds'].values"
   ]
  },
  {
   "cell_type": "code",
   "execution_count": 0,
   "metadata": {
    "colab": {},
    "colab_type": "code",
    "id": "HUElB1VPGOEz"
   },
   "outputs": [],
   "source": [
    "weather = weather.drop(['fog','hail','thunder','tornado','rain','snow'], axis=1)\n",
    "weather = pd.get_dummies(weather, columns=['conds'])\n",
    "weather['conds'] = conds"
   ]
  },
  {
   "cell_type": "code",
   "execution_count": 77,
   "metadata": {
    "colab": {
     "base_uri": "https://localhost:8080/",
     "height": 67
    },
    "colab_type": "code",
    "id": "zWBhMroF-6no",
    "outputId": "5079133b-2dc7-46da-eabe-8e476dc0aa9a"
   },
   "outputs": [
    {
     "data": {
      "text/plain": [
       "Index(['heatindexm', 'hum', 'pressurem', 'vism', 'wdird', 'wdire', 'wgustm',\n",
       "       'windchillm', 'wspdm'],\n",
       "      dtype='object')"
      ]
     },
     "execution_count": 77,
     "metadata": {
      "tags": []
     },
     "output_type": "execute_result"
    }
   ],
   "source": [
    "weather.columns[weather.isna().any()]"
   ]
  },
  {
   "cell_type": "markdown",
   "metadata": {
    "colab_type": "text",
    "id": "DnZ0QhlkEIX7"
   },
   "source": [
    "Further inspection of the dataset shows that the wdire affects the wdird. So lets impute wdird for the dataset split which doesnt have a null value in wdire column. "
   ]
  },
  {
   "cell_type": "code",
   "execution_count": 0,
   "metadata": {
    "colab": {},
    "colab_type": "code",
    "id": "fsn_V7tVUSPU"
   },
   "outputs": [],
   "source": [
    "weather_windDir_wo_na = weather[~weather[\"wdire\"].isna()]\n",
    "weather_windDir_w_na = weather[weather[\"wdire\"].isna()]\n"
   ]
  },
  {
   "cell_type": "code",
   "execution_count": 0,
   "metadata": {
    "colab": {},
    "colab_type": "code",
    "id": "DABE8HcdGO7i"
   },
   "outputs": [],
   "source": [
    "def convert_na_dird_to_list(dird,list_titles,list_max_min):  \n",
    "  li = []\n",
    "  print(len(dird))\n",
    "  for i in range(len(dew)):\n",
    "    for j in range(17):\n",
    "      if dird[i] >= list_max_min[j][0] and dird[i] <= list_max_min[j][1]:\n",
    "        li.append(list_titles[j])\n",
    "        break\n",
    "  return li "
   ]
  },
  {
   "cell_type": "code",
   "execution_count": 80,
   "metadata": {
    "colab": {
     "base_uri": "https://localhost:8080/",
     "height": 118
    },
    "colab_type": "code",
    "id": "p_oENGTqbxnb",
    "outputId": "db93b538-371c-4e8b-cb4d-a5b6a6251639"
   },
   "outputs": [
    {
     "name": "stderr",
     "output_type": "stream",
     "text": [
      "/usr/local/lib/python3.6/dist-packages/ipykernel_launcher.py:4: SettingWithCopyWarning: \n",
      "A value is trying to be set on a copy of a slice from a DataFrame.\n",
      "Try using .loc[row_indexer,col_indexer] = value instead\n",
      "\n",
      "See the caveats in the documentation: http://pandas.pydata.org/pandas-docs/stable/user_guide/indexing.html#returning-a-view-versus-a-copy\n",
      "  after removing the cwd from sys.path.\n"
     ]
    }
   ],
   "source": [
    "def weather_wind_direction_na(weather):\n",
    "  weather_windDir_wo_na = weather[~weather[\"wdire\"].isna()]\n",
    "  weather_windDir_w_na = weather[weather[\"wdire\"].isna()]\n",
    "  weather_windDir_wo_na[\"wdird\"] = weather_windDir_wo_na['wdird'].fillna(weather_windDir_wo_na.groupby('wdire')['wdird'].transform('mean'))\n",
    "  weather = weather_windDir_wo_na.append(weather_windDir_w_na, ignore_index=True)\n",
    "  weather = weather.sort_values('datetime_utc')\n",
    "  return weather\n",
    "\n",
    "weather = weather_wind_direction_na(weather)"
   ]
  },
  {
   "cell_type": "markdown",
   "metadata": {
    "colab_type": "text",
    "id": "oyPdhQLpEhX1"
   },
   "source": [
    "A method to fill null values. "
   ]
  },
  {
   "cell_type": "code",
   "execution_count": 0,
   "metadata": {
    "colab": {},
    "colab_type": "code",
    "id": "9LgDyZXe_0yf"
   },
   "outputs": [],
   "source": [
    "def fill_null(col,group_by_col,method):\n",
    "  weather[col] = weather[col].fillna(weather.groupby(group_by_col)[col].transform(method))"
   ]
  },
  {
   "cell_type": "markdown",
   "metadata": {
    "colab_type": "text",
    "id": "WOou8zpyEk-o"
   },
   "source": [
    "Fill null values of certain columns based on conds column."
   ]
  },
  {
   "cell_type": "code",
   "execution_count": 0,
   "metadata": {
    "colab": {},
    "colab_type": "code",
    "id": "eYQQX_AUFO0Y"
   },
   "outputs": [],
   "source": [
    "fill_null(\"vism\",\"conds\",\"mean\")\n",
    "fill_null(\"heatindexm\",\"conds\",\"mean\")\n",
    "fill_null(\"hum\",\"conds\",\"mean\")\n",
    "fill_null(\"vism\",\"conds\",\"mean\")\n",
    "weather[\"heatindexm\"] = weather.groupby(\"conds\").transform(lambda x: x.fillna(x.mean()))\n",
    "\n",
    "# weather['vism'] = weather['vism'].fillna(weather.groupby('conds')['vism'].transform('mean'))\n"
   ]
  },
  {
   "cell_type": "code",
   "execution_count": 83,
   "metadata": {
    "colab": {
     "base_uri": "https://localhost:8080/",
     "height": 34
    },
    "colab_type": "code",
    "id": "9kJzzwaKb8UH",
    "outputId": "2a227ee2-d6b9-4963-b7ca-68fa3389e938"
   },
   "outputs": [
    {
     "data": {
      "text/plain": [
       "Index(['pressurem', 'wdird', 'wdire', 'wgustm', 'windchillm', 'wspdm'], dtype='object')"
      ]
     },
     "execution_count": 83,
     "metadata": {
      "tags": []
     },
     "output_type": "execute_result"
    }
   ],
   "source": [
    "weather.columns[weather.isna().any()]"
   ]
  },
  {
   "cell_type": "markdown",
   "metadata": {
    "colab_type": "text",
    "id": "80rx_33vEsRT"
   },
   "source": [
    "Lets obtain the mean value of windchillm per direction."
   ]
  },
  {
   "cell_type": "code",
   "execution_count": 0,
   "metadata": {
    "colab": {},
    "colab_type": "code",
    "id": "PZeSG4fHcVuN"
   },
   "outputs": [],
   "source": [
    "wd = weather[~weather.windchillm.isna()].wdire.values.tolist()\n",
    "wc = weather[~weather.windchillm.isna()].windchillm.values.tolist()\n"
   ]
  },
  {
   "cell_type": "code",
   "execution_count": 0,
   "metadata": {
    "colab": {},
    "colab_type": "code",
    "id": "SXuS72xjcqse"
   },
   "outputs": [],
   "source": [
    "dic = dict()\n",
    "for i in range(len(wd)):\n",
    "  if wd[i] in dic.keys():\n",
    "    dic[wd[i]].append(wc[i])\n",
    "  else:\n",
    "    dic[wd[i]] = [wc[i]]"
   ]
  },
  {
   "cell_type": "code",
   "execution_count": 86,
   "metadata": {
    "colab": {
     "base_uri": "https://localhost:8080/",
     "height": 286
    },
    "colab_type": "code",
    "id": "3B8fg359ea4N",
    "outputId": "3d231713-0e7e-43e4-9676-7ac0eeae7bee"
   },
   "outputs": [
    {
     "data": {
      "text/plain": [
       "{'ENE': 6.3125,\n",
       " 'ESE': 6.85,\n",
       " 'East': 6.492857142857142,\n",
       " 'NE': 6.375000000000001,\n",
       " 'NNE': 6.966666666666666,\n",
       " 'NNW': 5.557142857142857,\n",
       " 'NW': 5.664285714285713,\n",
       " 'North': 6.18,\n",
       " 'SE': 6.8375,\n",
       " 'SSE': 6.225,\n",
       " 'SSW': 6.05294117647059,\n",
       " 'SW': 5.880434782608697,\n",
       " 'South': 7.133333333333333,\n",
       " 'WNW': 5.442553191489362,\n",
       " 'WSW': 5.474626865671644,\n",
       " 'West': 5.527956989247307}"
      ]
     },
     "execution_count": 86,
     "metadata": {
      "tags": []
     },
     "output_type": "execute_result"
    }
   ],
   "source": [
    "avgDict = {}\n",
    "for k,v in dic.items():\n",
    "    avgDict[k] = sum(v)/ float(len(v))\n",
    "avgDict"
   ]
  },
  {
   "cell_type": "code",
   "execution_count": 0,
   "metadata": {
    "colab": {},
    "colab_type": "code",
    "id": "FMa_GuWFhmWI"
   },
   "outputs": [],
   "source": [
    "avgDict[\"Variable\"] = 10"
   ]
  },
  {
   "cell_type": "markdown",
   "metadata": {
    "colab_type": "text",
    "id": "USkVQa8WFDqf"
   },
   "source": [
    "Lets impute the values of wdir."
   ]
  },
  {
   "cell_type": "code",
   "execution_count": 0,
   "metadata": {
    "colab": {},
    "colab_type": "code",
    "id": "1Vyc-P7GfT-t"
   },
   "outputs": [],
   "source": [
    "weather_windDir_wo_na = weather[~weather[\"wdire\"].isna()]\n",
    "weather_windDir_w_na = weather[weather[\"wdire\"].isna()]\n"
   ]
  },
  {
   "cell_type": "code",
   "execution_count": 0,
   "metadata": {
    "colab": {},
    "colab_type": "code",
    "id": "rq2C9uCmgjNB"
   },
   "outputs": [],
   "source": [
    "wdir1 = weather_windDir_wo_na.wdire.values.tolist()\n",
    "wdir1 = [avgDict[i] for i in wdir1]"
   ]
  },
  {
   "cell_type": "code",
   "execution_count": 90,
   "metadata": {
    "colab": {
     "base_uri": "https://localhost:8080/",
     "height": 118
    },
    "colab_type": "code",
    "id": "MQW5vDd3gvTP",
    "outputId": "3806b549-ed97-425e-d6d8-dc670811d546"
   },
   "outputs": [
    {
     "name": "stderr",
     "output_type": "stream",
     "text": [
      "/usr/local/lib/python3.6/dist-packages/ipykernel_launcher.py:1: SettingWithCopyWarning: \n",
      "A value is trying to be set on a copy of a slice from a DataFrame.\n",
      "Try using .loc[row_indexer,col_indexer] = value instead\n",
      "\n",
      "See the caveats in the documentation: http://pandas.pydata.org/pandas-docs/stable/user_guide/indexing.html#returning-a-view-versus-a-copy\n",
      "  \"\"\"Entry point for launching an IPython kernel.\n"
     ]
    }
   ],
   "source": [
    "weather_windDir_wo_na[\"windchillm\"] = wdir1"
   ]
  },
  {
   "cell_type": "code",
   "execution_count": 0,
   "metadata": {
    "colab": {},
    "colab_type": "code",
    "id": "h1U6rwuahy6I"
   },
   "outputs": [],
   "source": [
    "weather = weather_windDir_wo_na.append(weather_windDir_w_na, ignore_index=True)\n",
    "weather = weather.sort_values('datetime_utc')"
   ]
  },
  {
   "cell_type": "markdown",
   "metadata": {
    "colab_type": "text",
    "id": "VXpZhARiFPiw"
   },
   "source": [
    "Imputing further columns."
   ]
  },
  {
   "cell_type": "code",
   "execution_count": 0,
   "metadata": {
    "colab": {},
    "colab_type": "code",
    "id": "msISxCSPh4vZ"
   },
   "outputs": [],
   "source": [
    "fill_null(\"wspdm\",\"conds\",\"median\")\n",
    "fill_null(\"windchillm\",\"conds\",\"median\")\n",
    "fill_null(\"pressurem\",\"conds\",\"median\")\n",
    "fill_null(\"wdird\",\"conds\",\"median\")\n"
   ]
  },
  {
   "cell_type": "code",
   "execution_count": 0,
   "metadata": {
    "colab": {},
    "colab_type": "code",
    "id": "J-DxphDQizY1"
   },
   "outputs": [],
   "source": [
    "from sklearn import preprocessing\n",
    "le = preprocessing.LabelEncoder()"
   ]
  },
  {
   "cell_type": "markdown",
   "metadata": {
    "colab_type": "text",
    "id": "v3pbvekGFdNc"
   },
   "source": [
    "Lets divise a strategy to impute wdire. This column is very important in our final model for regression. Just as much as the condition. \n",
    "\n",
    "\n",
    "1.   We will first tokenize every possible direction (word to number).\n",
    "2.   We will then impute based on conds column again. \n",
    "3.   We will revert these tokens back to words.\n",
    "\n"
   ]
  },
  {
   "cell_type": "code",
   "execution_count": 94,
   "metadata": {
    "colab": {
     "base_uri": "https://localhost:8080/",
     "height": 118
    },
    "colab_type": "code",
    "id": "gRRG-RhfjN_Z",
    "outputId": "4cc43a9e-4e23-4131-d271-96190a5d9e29"
   },
   "outputs": [
    {
     "name": "stderr",
     "output_type": "stream",
     "text": [
      "/usr/local/lib/python3.6/dist-packages/ipykernel_launcher.py:6: SettingWithCopyWarning: \n",
      "A value is trying to be set on a copy of a slice from a DataFrame.\n",
      "Try using .loc[row_indexer,col_indexer] = value instead\n",
      "\n",
      "See the caveats in the documentation: http://pandas.pydata.org/pandas-docs/stable/user_guide/indexing.html#returning-a-view-versus-a-copy\n",
      "  \n"
     ]
    }
   ],
   "source": [
    "from sklearn.preprocessing import LabelEncoder\n",
    "item_enc = LabelEncoder()\n",
    "# le.inverse_transform(df[x])\n",
    "weather_windDir_wo_na = weather[~weather[\"wdire\"].isna()]\n",
    "weather_windDir_w_na = weather[weather[\"wdire\"].isna()]\n",
    "weather_windDir_wo_na['wdire'] = item_enc.fit_transform(weather_windDir_wo_na['wdire'].values)\n"
   ]
  },
  {
   "cell_type": "code",
   "execution_count": 0,
   "metadata": {
    "colab": {},
    "colab_type": "code",
    "id": "3B3yqMzok0of"
   },
   "outputs": [],
   "source": [
    "weather = weather_windDir_wo_na.append(weather_windDir_w_na, ignore_index=True)\n",
    "weather = weather.sort_values('datetime_utc')\n",
    "weather.wdire = weather.wdire.apply(pd.to_numeric)"
   ]
  },
  {
   "cell_type": "code",
   "execution_count": 0,
   "metadata": {
    "colab": {},
    "colab_type": "code",
    "id": "7JuAQPnak55N"
   },
   "outputs": [],
   "source": [
    "fill_null(\"wdire\",\"conds\",\"mean\")\n",
    "fill_null(\"wgustm\",\"conds\",\"mean\")\n"
   ]
  },
  {
   "cell_type": "code",
   "execution_count": 0,
   "metadata": {
    "colab": {},
    "colab_type": "code",
    "id": "xbu_b4ntlUWp"
   },
   "outputs": [],
   "source": [
    "weather.wdire = weather.wdire.astype(int)\n",
    "wdir2 = weather.wdire.values.tolist()\n",
    "wdir2 = [item_enc.inverse_transform([i])[0] for i in wdir2]\n",
    "weather[\"wdire\"] = wdir2"
   ]
  },
  {
   "cell_type": "markdown",
   "metadata": {
    "colab_type": "text",
    "id": "p5H49nYbGWFp"
   },
   "source": [
    "Now lets get the one hot encoded columns for wdire as well."
   ]
  },
  {
   "cell_type": "code",
   "execution_count": 0,
   "metadata": {
    "colab": {},
    "colab_type": "code",
    "id": "q02r-bb9nr5T"
   },
   "outputs": [],
   "source": [
    "weather = pd.get_dummies(weather, columns=['wdire'])\n",
    "weather = weather.drop([\"conds\"],axis=1)"
   ]
  },
  {
   "cell_type": "code",
   "execution_count": 0,
   "metadata": {
    "colab": {},
    "colab_type": "code",
    "id": "wz31TSrbnsuI"
   },
   "outputs": [],
   "source": [
    "weather = weather.drop([\"datetime_utc\"],axis=1)"
   ]
  },
  {
   "cell_type": "markdown",
   "metadata": {
    "colab_type": "text",
    "id": "u1JBeEVJGbs7"
   },
   "source": [
    "Scale every column except the one hot encoded ones (conds and wdire)"
   ]
  },
  {
   "cell_type": "code",
   "execution_count": 0,
   "metadata": {
    "colab": {},
    "colab_type": "code",
    "id": "q1fgQncgoEQv"
   },
   "outputs": [],
   "source": [
    "from sklearn.preprocessing import MinMaxScaler\n",
    "\n",
    "mms = MinMaxScaler()\n",
    "\n",
    "weather[['dewptm','heatindexm','hum','pressurem','vism','wdird','wgustm','windchillm','wspdm']] = mms.fit_transform(weather[['dewptm','heatindexm','hum','pressurem','vism','wdird','wgustm','windchillm','wspdm']])\n",
    "\n"
   ]
  },
  {
   "cell_type": "code",
   "execution_count": 101,
   "metadata": {
    "colab": {
     "base_uri": "https://localhost:8080/",
     "height": 156
    },
    "colab_type": "code",
    "id": "irjGhIuKn9Ej",
    "outputId": "aa84a95b-d151-4328-d319-58dcca92d68b"
   },
   "outputs": [
    {
     "data": {
      "text/html": [
       "<div>\n",
       "<style scoped>\n",
       "    .dataframe tbody tr th:only-of-type {\n",
       "        vertical-align: middle;\n",
       "    }\n",
       "\n",
       "    .dataframe tbody tr th {\n",
       "        vertical-align: top;\n",
       "    }\n",
       "\n",
       "    .dataframe thead th {\n",
       "        text-align: right;\n",
       "    }\n",
       "</style>\n",
       "<table border=\"1\" class=\"dataframe\">\n",
       "  <thead>\n",
       "    <tr style=\"text-align: right;\">\n",
       "      <th></th>\n",
       "      <th>dewptm</th>\n",
       "      <th>heatindexm</th>\n",
       "      <th>hum</th>\n",
       "      <th>pressurem</th>\n",
       "      <th>tempm</th>\n",
       "      <th>vism</th>\n",
       "      <th>wdird</th>\n",
       "      <th>wgustm</th>\n",
       "      <th>windchillm</th>\n",
       "      <th>wspdm</th>\n",
       "      <th>conds_Clear</th>\n",
       "      <th>conds_Unknown</th>\n",
       "      <th>conds_fog</th>\n",
       "      <th>conds_hail</th>\n",
       "      <th>conds_haze</th>\n",
       "      <th>conds_rain</th>\n",
       "      <th>conds_snow</th>\n",
       "      <th>conds_thunder</th>\n",
       "      <th>wdire_ENE</th>\n",
       "      <th>wdire_ESE</th>\n",
       "      <th>wdire_East</th>\n",
       "      <th>wdire_NE</th>\n",
       "      <th>wdire_NNE</th>\n",
       "      <th>wdire_NNW</th>\n",
       "      <th>wdire_NW</th>\n",
       "      <th>wdire_North</th>\n",
       "      <th>wdire_SE</th>\n",
       "      <th>wdire_SSE</th>\n",
       "      <th>wdire_SSW</th>\n",
       "      <th>wdire_SW</th>\n",
       "      <th>wdire_South</th>\n",
       "      <th>wdire_Variable</th>\n",
       "      <th>wdire_WNW</th>\n",
       "      <th>wdire_WSW</th>\n",
       "      <th>wdire_West</th>\n",
       "    </tr>\n",
       "  </thead>\n",
       "  <tbody>\n",
       "    <tr>\n",
       "      <th>0</th>\n",
       "      <td>0.559322</td>\n",
       "      <td>0.559322</td>\n",
       "      <td>0.096234</td>\n",
       "      <td>0.000109</td>\n",
       "      <td>30.0</td>\n",
       "      <td>0.000777</td>\n",
       "      <td>0.291667</td>\n",
       "      <td>0.171208</td>\n",
       "      <td>0.018739</td>\n",
       "      <td>0.004885</td>\n",
       "      <td>0</td>\n",
       "      <td>0</td>\n",
       "      <td>0</td>\n",
       "      <td>0</td>\n",
       "      <td>1</td>\n",
       "      <td>0</td>\n",
       "      <td>0</td>\n",
       "      <td>0</td>\n",
       "      <td>0</td>\n",
       "      <td>0</td>\n",
       "      <td>0</td>\n",
       "      <td>0</td>\n",
       "      <td>0</td>\n",
       "      <td>0</td>\n",
       "      <td>0</td>\n",
       "      <td>0</td>\n",
       "      <td>0</td>\n",
       "      <td>0</td>\n",
       "      <td>0</td>\n",
       "      <td>0</td>\n",
       "      <td>0</td>\n",
       "      <td>0</td>\n",
       "      <td>0</td>\n",
       "      <td>0</td>\n",
       "      <td>1</td>\n",
       "    </tr>\n",
       "    <tr>\n",
       "      <th>1</th>\n",
       "      <td>0.576271</td>\n",
       "      <td>0.576271</td>\n",
       "      <td>0.117155</td>\n",
       "      <td>0.000000</td>\n",
       "      <td>28.0</td>\n",
       "      <td>0.000412</td>\n",
       "      <td>0.000000</td>\n",
       "      <td>0.171208</td>\n",
       "      <td>0.161811</td>\n",
       "      <td>0.004885</td>\n",
       "      <td>0</td>\n",
       "      <td>0</td>\n",
       "      <td>0</td>\n",
       "      <td>0</td>\n",
       "      <td>1</td>\n",
       "      <td>0</td>\n",
       "      <td>0</td>\n",
       "      <td>0</td>\n",
       "      <td>0</td>\n",
       "      <td>0</td>\n",
       "      <td>0</td>\n",
       "      <td>0</td>\n",
       "      <td>0</td>\n",
       "      <td>0</td>\n",
       "      <td>0</td>\n",
       "      <td>1</td>\n",
       "      <td>0</td>\n",
       "      <td>0</td>\n",
       "      <td>0</td>\n",
       "      <td>0</td>\n",
       "      <td>0</td>\n",
       "      <td>0</td>\n",
       "      <td>0</td>\n",
       "      <td>0</td>\n",
       "      <td>0</td>\n",
       "    </tr>\n",
       "    <tr>\n",
       "      <th>2</th>\n",
       "      <td>0.593220</td>\n",
       "      <td>0.593220</td>\n",
       "      <td>0.167364</td>\n",
       "      <td>0.000000</td>\n",
       "      <td>24.0</td>\n",
       "      <td>0.000412</td>\n",
       "      <td>0.000000</td>\n",
       "      <td>0.171208</td>\n",
       "      <td>0.161811</td>\n",
       "      <td>0.004885</td>\n",
       "      <td>0</td>\n",
       "      <td>0</td>\n",
       "      <td>0</td>\n",
       "      <td>0</td>\n",
       "      <td>1</td>\n",
       "      <td>0</td>\n",
       "      <td>0</td>\n",
       "      <td>0</td>\n",
       "      <td>0</td>\n",
       "      <td>0</td>\n",
       "      <td>0</td>\n",
       "      <td>0</td>\n",
       "      <td>0</td>\n",
       "      <td>0</td>\n",
       "      <td>0</td>\n",
       "      <td>1</td>\n",
       "      <td>0</td>\n",
       "      <td>0</td>\n",
       "      <td>0</td>\n",
       "      <td>0</td>\n",
       "      <td>0</td>\n",
       "      <td>0</td>\n",
       "      <td>0</td>\n",
       "      <td>0</td>\n",
       "      <td>0</td>\n",
       "    </tr>\n",
       "  </tbody>\n",
       "</table>\n",
       "</div>"
      ],
      "text/plain": [
       "     dewptm  heatindexm       hum  ...  wdire_WNW  wdire_WSW  wdire_West\n",
       "0  0.559322    0.559322  0.096234  ...          0          0           1\n",
       "1  0.576271    0.576271  0.117155  ...          0          0           0\n",
       "2  0.593220    0.593220  0.167364  ...          0          0           0\n",
       "\n",
       "[3 rows x 35 columns]"
      ]
     },
     "execution_count": 101,
     "metadata": {
      "tags": []
     },
     "output_type": "execute_result"
    }
   ],
   "source": [
    "weather.head(3)"
   ]
  },
  {
   "cell_type": "code",
   "execution_count": 0,
   "metadata": {
    "colab": {},
    "colab_type": "code",
    "id": "Dv5NV3rIo4Xv"
   },
   "outputs": [],
   "source": [
    "weather = weather.drop(\"wgustm\",axis=1)"
   ]
  },
  {
   "cell_type": "code",
   "execution_count": 103,
   "metadata": {
    "colab": {
     "base_uri": "https://localhost:8080/",
     "height": 34
    },
    "colab_type": "code",
    "id": "bXoU9HIQo67X",
    "outputId": "931b64d5-2c95-470d-85c8-e7c718ba6171"
   },
   "outputs": [
    {
     "data": {
      "text/plain": [
       "Index([], dtype='object')"
      ]
     },
     "execution_count": 103,
     "metadata": {
      "tags": []
     },
     "output_type": "execute_result"
    }
   ],
   "source": [
    "weather.columns[weather.isna().any()]"
   ]
  },
  {
   "cell_type": "code",
   "execution_count": 104,
   "metadata": {
    "colab": {
     "base_uri": "https://localhost:8080/",
     "height": 363
    },
    "colab_type": "code",
    "id": "nlpfDejMpNvP",
    "outputId": "63bbc47e-c6c7-4bb0-fda5-554da5be60fb"
   },
   "outputs": [
    {
     "data": {
      "text/html": [
       "<div>\n",
       "<style scoped>\n",
       "    .dataframe tbody tr th:only-of-type {\n",
       "        vertical-align: middle;\n",
       "    }\n",
       "\n",
       "    .dataframe tbody tr th {\n",
       "        vertical-align: top;\n",
       "    }\n",
       "\n",
       "    .dataframe thead th {\n",
       "        text-align: right;\n",
       "    }\n",
       "</style>\n",
       "<table border=\"1\" class=\"dataframe\">\n",
       "  <thead>\n",
       "    <tr style=\"text-align: right;\">\n",
       "      <th></th>\n",
       "      <th>dewptm</th>\n",
       "      <th>heatindexm</th>\n",
       "      <th>hum</th>\n",
       "      <th>pressurem</th>\n",
       "      <th>tempm</th>\n",
       "      <th>vism</th>\n",
       "      <th>wdird</th>\n",
       "      <th>windchillm</th>\n",
       "      <th>wspdm</th>\n",
       "      <th>conds_Clear</th>\n",
       "      <th>conds_Unknown</th>\n",
       "      <th>conds_fog</th>\n",
       "      <th>conds_hail</th>\n",
       "      <th>conds_haze</th>\n",
       "      <th>conds_rain</th>\n",
       "      <th>conds_snow</th>\n",
       "      <th>conds_thunder</th>\n",
       "      <th>wdire_ENE</th>\n",
       "      <th>wdire_ESE</th>\n",
       "      <th>wdire_East</th>\n",
       "      <th>wdire_NE</th>\n",
       "      <th>wdire_NNE</th>\n",
       "      <th>wdire_NNW</th>\n",
       "      <th>wdire_NW</th>\n",
       "      <th>wdire_North</th>\n",
       "      <th>wdire_SE</th>\n",
       "      <th>wdire_SSE</th>\n",
       "      <th>wdire_SSW</th>\n",
       "      <th>wdire_SW</th>\n",
       "      <th>wdire_South</th>\n",
       "      <th>wdire_Variable</th>\n",
       "      <th>wdire_WNW</th>\n",
       "      <th>wdire_WSW</th>\n",
       "      <th>wdire_West</th>\n",
       "    </tr>\n",
       "  </thead>\n",
       "  <tbody>\n",
       "    <tr>\n",
       "      <th>0</th>\n",
       "      <td>0.559322</td>\n",
       "      <td>0.559322</td>\n",
       "      <td>0.096234</td>\n",
       "      <td>0.000109</td>\n",
       "      <td>30.0</td>\n",
       "      <td>0.000777</td>\n",
       "      <td>0.291667</td>\n",
       "      <td>0.018739</td>\n",
       "      <td>0.004885</td>\n",
       "      <td>0</td>\n",
       "      <td>0</td>\n",
       "      <td>0</td>\n",
       "      <td>0</td>\n",
       "      <td>1</td>\n",
       "      <td>0</td>\n",
       "      <td>0</td>\n",
       "      <td>0</td>\n",
       "      <td>0</td>\n",
       "      <td>0</td>\n",
       "      <td>0</td>\n",
       "      <td>0</td>\n",
       "      <td>0</td>\n",
       "      <td>0</td>\n",
       "      <td>0</td>\n",
       "      <td>0</td>\n",
       "      <td>0</td>\n",
       "      <td>0</td>\n",
       "      <td>0</td>\n",
       "      <td>0</td>\n",
       "      <td>0</td>\n",
       "      <td>0</td>\n",
       "      <td>0</td>\n",
       "      <td>0</td>\n",
       "      <td>1</td>\n",
       "    </tr>\n",
       "    <tr>\n",
       "      <th>1</th>\n",
       "      <td>0.576271</td>\n",
       "      <td>0.576271</td>\n",
       "      <td>0.117155</td>\n",
       "      <td>0.000000</td>\n",
       "      <td>28.0</td>\n",
       "      <td>0.000412</td>\n",
       "      <td>0.000000</td>\n",
       "      <td>0.161811</td>\n",
       "      <td>0.004885</td>\n",
       "      <td>0</td>\n",
       "      <td>0</td>\n",
       "      <td>0</td>\n",
       "      <td>0</td>\n",
       "      <td>1</td>\n",
       "      <td>0</td>\n",
       "      <td>0</td>\n",
       "      <td>0</td>\n",
       "      <td>0</td>\n",
       "      <td>0</td>\n",
       "      <td>0</td>\n",
       "      <td>0</td>\n",
       "      <td>0</td>\n",
       "      <td>0</td>\n",
       "      <td>0</td>\n",
       "      <td>1</td>\n",
       "      <td>0</td>\n",
       "      <td>0</td>\n",
       "      <td>0</td>\n",
       "      <td>0</td>\n",
       "      <td>0</td>\n",
       "      <td>0</td>\n",
       "      <td>0</td>\n",
       "      <td>0</td>\n",
       "      <td>0</td>\n",
       "    </tr>\n",
       "    <tr>\n",
       "      <th>2</th>\n",
       "      <td>0.593220</td>\n",
       "      <td>0.593220</td>\n",
       "      <td>0.167364</td>\n",
       "      <td>0.000000</td>\n",
       "      <td>24.0</td>\n",
       "      <td>0.000412</td>\n",
       "      <td>0.000000</td>\n",
       "      <td>0.161811</td>\n",
       "      <td>0.004885</td>\n",
       "      <td>0</td>\n",
       "      <td>0</td>\n",
       "      <td>0</td>\n",
       "      <td>0</td>\n",
       "      <td>1</td>\n",
       "      <td>0</td>\n",
       "      <td>0</td>\n",
       "      <td>0</td>\n",
       "      <td>0</td>\n",
       "      <td>0</td>\n",
       "      <td>0</td>\n",
       "      <td>0</td>\n",
       "      <td>0</td>\n",
       "      <td>0</td>\n",
       "      <td>0</td>\n",
       "      <td>1</td>\n",
       "      <td>0</td>\n",
       "      <td>0</td>\n",
       "      <td>0</td>\n",
       "      <td>0</td>\n",
       "      <td>0</td>\n",
       "      <td>0</td>\n",
       "      <td>0</td>\n",
       "      <td>0</td>\n",
       "      <td>0</td>\n",
       "    </tr>\n",
       "    <tr>\n",
       "      <th>3</th>\n",
       "      <td>0.576271</td>\n",
       "      <td>0.576271</td>\n",
       "      <td>0.154812</td>\n",
       "      <td>0.000109</td>\n",
       "      <td>24.0</td>\n",
       "      <td>0.000311</td>\n",
       "      <td>0.000000</td>\n",
       "      <td>0.161811</td>\n",
       "      <td>0.004885</td>\n",
       "      <td>0</td>\n",
       "      <td>0</td>\n",
       "      <td>0</td>\n",
       "      <td>0</td>\n",
       "      <td>1</td>\n",
       "      <td>0</td>\n",
       "      <td>0</td>\n",
       "      <td>0</td>\n",
       "      <td>0</td>\n",
       "      <td>0</td>\n",
       "      <td>0</td>\n",
       "      <td>0</td>\n",
       "      <td>0</td>\n",
       "      <td>0</td>\n",
       "      <td>0</td>\n",
       "      <td>1</td>\n",
       "      <td>0</td>\n",
       "      <td>0</td>\n",
       "      <td>0</td>\n",
       "      <td>0</td>\n",
       "      <td>0</td>\n",
       "      <td>0</td>\n",
       "      <td>0</td>\n",
       "      <td>0</td>\n",
       "      <td>0</td>\n",
       "    </tr>\n",
       "    <tr>\n",
       "      <th>4</th>\n",
       "      <td>0.593220</td>\n",
       "      <td>0.593220</td>\n",
       "      <td>0.179916</td>\n",
       "      <td>0.000109</td>\n",
       "      <td>23.0</td>\n",
       "      <td>0.000186</td>\n",
       "      <td>0.000000</td>\n",
       "      <td>0.161811</td>\n",
       "      <td>0.000000</td>\n",
       "      <td>0</td>\n",
       "      <td>0</td>\n",
       "      <td>0</td>\n",
       "      <td>0</td>\n",
       "      <td>1</td>\n",
       "      <td>0</td>\n",
       "      <td>0</td>\n",
       "      <td>0</td>\n",
       "      <td>0</td>\n",
       "      <td>0</td>\n",
       "      <td>0</td>\n",
       "      <td>0</td>\n",
       "      <td>0</td>\n",
       "      <td>0</td>\n",
       "      <td>0</td>\n",
       "      <td>1</td>\n",
       "      <td>0</td>\n",
       "      <td>0</td>\n",
       "      <td>0</td>\n",
       "      <td>0</td>\n",
       "      <td>0</td>\n",
       "      <td>0</td>\n",
       "      <td>0</td>\n",
       "      <td>0</td>\n",
       "      <td>0</td>\n",
       "    </tr>\n",
       "    <tr>\n",
       "      <th>5</th>\n",
       "      <td>0.610169</td>\n",
       "      <td>0.610169</td>\n",
       "      <td>0.217573</td>\n",
       "      <td>0.000109</td>\n",
       "      <td>21.0</td>\n",
       "      <td>0.000412</td>\n",
       "      <td>0.000000</td>\n",
       "      <td>0.161811</td>\n",
       "      <td>0.004885</td>\n",
       "      <td>0</td>\n",
       "      <td>0</td>\n",
       "      <td>0</td>\n",
       "      <td>0</td>\n",
       "      <td>1</td>\n",
       "      <td>0</td>\n",
       "      <td>0</td>\n",
       "      <td>0</td>\n",
       "      <td>0</td>\n",
       "      <td>0</td>\n",
       "      <td>0</td>\n",
       "      <td>0</td>\n",
       "      <td>0</td>\n",
       "      <td>0</td>\n",
       "      <td>0</td>\n",
       "      <td>1</td>\n",
       "      <td>0</td>\n",
       "      <td>0</td>\n",
       "      <td>0</td>\n",
       "      <td>0</td>\n",
       "      <td>0</td>\n",
       "      <td>0</td>\n",
       "      <td>0</td>\n",
       "      <td>0</td>\n",
       "      <td>0</td>\n",
       "    </tr>\n",
       "    <tr>\n",
       "      <th>6</th>\n",
       "      <td>0.627119</td>\n",
       "      <td>0.627119</td>\n",
       "      <td>0.234310</td>\n",
       "      <td>0.000109</td>\n",
       "      <td>21.0</td>\n",
       "      <td>0.000124</td>\n",
       "      <td>0.000000</td>\n",
       "      <td>0.161811</td>\n",
       "      <td>0.000000</td>\n",
       "      <td>0</td>\n",
       "      <td>0</td>\n",
       "      <td>0</td>\n",
       "      <td>0</td>\n",
       "      <td>1</td>\n",
       "      <td>0</td>\n",
       "      <td>0</td>\n",
       "      <td>0</td>\n",
       "      <td>0</td>\n",
       "      <td>0</td>\n",
       "      <td>0</td>\n",
       "      <td>0</td>\n",
       "      <td>0</td>\n",
       "      <td>0</td>\n",
       "      <td>0</td>\n",
       "      <td>1</td>\n",
       "      <td>0</td>\n",
       "      <td>0</td>\n",
       "      <td>0</td>\n",
       "      <td>0</td>\n",
       "      <td>0</td>\n",
       "      <td>0</td>\n",
       "      <td>0</td>\n",
       "      <td>0</td>\n",
       "      <td>0</td>\n",
       "    </tr>\n",
       "    <tr>\n",
       "      <th>7</th>\n",
       "      <td>0.627119</td>\n",
       "      <td>0.627119</td>\n",
       "      <td>0.234310</td>\n",
       "      <td>0.000000</td>\n",
       "      <td>21.0</td>\n",
       "      <td>0.000412</td>\n",
       "      <td>0.000000</td>\n",
       "      <td>0.161811</td>\n",
       "      <td>0.004885</td>\n",
       "      <td>0</td>\n",
       "      <td>0</td>\n",
       "      <td>0</td>\n",
       "      <td>0</td>\n",
       "      <td>1</td>\n",
       "      <td>0</td>\n",
       "      <td>0</td>\n",
       "      <td>0</td>\n",
       "      <td>0</td>\n",
       "      <td>0</td>\n",
       "      <td>0</td>\n",
       "      <td>0</td>\n",
       "      <td>0</td>\n",
       "      <td>0</td>\n",
       "      <td>0</td>\n",
       "      <td>1</td>\n",
       "      <td>0</td>\n",
       "      <td>0</td>\n",
       "      <td>0</td>\n",
       "      <td>0</td>\n",
       "      <td>0</td>\n",
       "      <td>0</td>\n",
       "      <td>0</td>\n",
       "      <td>0</td>\n",
       "      <td>0</td>\n",
       "    </tr>\n",
       "    <tr>\n",
       "      <th>8</th>\n",
       "      <td>0.627119</td>\n",
       "      <td>0.627119</td>\n",
       "      <td>0.267782</td>\n",
       "      <td>0.000000</td>\n",
       "      <td>19.0</td>\n",
       "      <td>0.000412</td>\n",
       "      <td>0.000000</td>\n",
       "      <td>0.161811</td>\n",
       "      <td>0.004885</td>\n",
       "      <td>0</td>\n",
       "      <td>0</td>\n",
       "      <td>0</td>\n",
       "      <td>0</td>\n",
       "      <td>1</td>\n",
       "      <td>0</td>\n",
       "      <td>0</td>\n",
       "      <td>0</td>\n",
       "      <td>0</td>\n",
       "      <td>0</td>\n",
       "      <td>0</td>\n",
       "      <td>0</td>\n",
       "      <td>0</td>\n",
       "      <td>0</td>\n",
       "      <td>0</td>\n",
       "      <td>1</td>\n",
       "      <td>0</td>\n",
       "      <td>0</td>\n",
       "      <td>0</td>\n",
       "      <td>0</td>\n",
       "      <td>0</td>\n",
       "      <td>0</td>\n",
       "      <td>0</td>\n",
       "      <td>0</td>\n",
       "      <td>0</td>\n",
       "    </tr>\n",
       "    <tr>\n",
       "      <th>9</th>\n",
       "      <td>0.627119</td>\n",
       "      <td>0.627119</td>\n",
       "      <td>0.267782</td>\n",
       "      <td>0.000109</td>\n",
       "      <td>19.0</td>\n",
       "      <td>0.000412</td>\n",
       "      <td>0.000000</td>\n",
       "      <td>0.161811</td>\n",
       "      <td>0.004885</td>\n",
       "      <td>0</td>\n",
       "      <td>0</td>\n",
       "      <td>0</td>\n",
       "      <td>0</td>\n",
       "      <td>1</td>\n",
       "      <td>0</td>\n",
       "      <td>0</td>\n",
       "      <td>0</td>\n",
       "      <td>0</td>\n",
       "      <td>0</td>\n",
       "      <td>0</td>\n",
       "      <td>0</td>\n",
       "      <td>0</td>\n",
       "      <td>0</td>\n",
       "      <td>0</td>\n",
       "      <td>1</td>\n",
       "      <td>0</td>\n",
       "      <td>0</td>\n",
       "      <td>0</td>\n",
       "      <td>0</td>\n",
       "      <td>0</td>\n",
       "      <td>0</td>\n",
       "      <td>0</td>\n",
       "      <td>0</td>\n",
       "      <td>0</td>\n",
       "    </tr>\n",
       "  </tbody>\n",
       "</table>\n",
       "</div>"
      ],
      "text/plain": [
       "     dewptm  heatindexm       hum  ...  wdire_WNW  wdire_WSW  wdire_West\n",
       "0  0.559322    0.559322  0.096234  ...          0          0           1\n",
       "1  0.576271    0.576271  0.117155  ...          0          0           0\n",
       "2  0.593220    0.593220  0.167364  ...          0          0           0\n",
       "3  0.576271    0.576271  0.154812  ...          0          0           0\n",
       "4  0.593220    0.593220  0.179916  ...          0          0           0\n",
       "5  0.610169    0.610169  0.217573  ...          0          0           0\n",
       "6  0.627119    0.627119  0.234310  ...          0          0           0\n",
       "7  0.627119    0.627119  0.234310  ...          0          0           0\n",
       "8  0.627119    0.627119  0.267782  ...          0          0           0\n",
       "9  0.627119    0.627119  0.267782  ...          0          0           0\n",
       "\n",
       "[10 rows x 34 columns]"
      ]
     },
     "execution_count": 104,
     "metadata": {
      "tags": []
     },
     "output_type": "execute_result"
    }
   ],
   "source": [
    "weather.head(10)"
   ]
  },
  {
   "cell_type": "markdown",
   "metadata": {
    "colab_type": "text",
    "id": "tYQmo4zmGohU"
   },
   "source": [
    "Ready to train and predict."
   ]
  },
  {
   "cell_type": "code",
   "execution_count": 0,
   "metadata": {
    "colab": {},
    "colab_type": "code",
    "id": "uaAKHKLXpUbC"
   },
   "outputs": [],
   "source": [
    "y = weather.tempm.values\n",
    "\n",
    "X = weather.drop('tempm',axis=1)\n",
    "X = X.values"
   ]
  },
  {
   "cell_type": "code",
   "execution_count": 0,
   "metadata": {
    "colab": {},
    "colab_type": "code",
    "id": "PKZP1IXlpvcf"
   },
   "outputs": [],
   "source": [
    "from sklearn.model_selection import train_test_split\n",
    "\n",
    "X_train,X_test,y_train,y_test=train_test_split(X,y,test_size=0.33,random_state=2, shuffle=True)\n"
   ]
  },
  {
   "cell_type": "markdown",
   "metadata": {
    "colab_type": "text",
    "id": "tpAW4C8YGzqF"
   },
   "source": [
    "This method will return the rmse, mse and the accuracy of our model."
   ]
  },
  {
   "cell_type": "code",
   "execution_count": 0,
   "metadata": {
    "colab": {},
    "colab_type": "code",
    "id": "cQK3qRvbGvaT"
   },
   "outputs": [],
   "source": [
    "def metric_display(preds):\n",
    "  errors = abs(preds - y_test)\n",
    "  final_rmse = np.sqrt(np.mean(errors*errors))\n",
    "  mape = 100 * (errors / y_test)\n",
    "  accuracy = 100 - np.mean(mape)\n",
    "  return \"Mean Absolute Error: \", round(np.mean(errors), 2), \"RMSE: \", final_rmse, \"Accuracy: \", round(accuracy, 2)\n"
   ]
  },
  {
   "cell_type": "markdown",
   "metadata": {
    "colab_type": "text",
    "id": "ktd8KZyRG4du"
   },
   "source": [
    "Model 1: LSTM"
   ]
  },
  {
   "cell_type": "code",
   "execution_count": 0,
   "metadata": {
    "colab": {},
    "colab_type": "code",
    "id": "rGXHnBToqGDq"
   },
   "outputs": [],
   "source": [
    "X_train_lst=X_train.reshape(X_train.shape[0],X_train.shape[1],1)\n",
    "X_test_lst=X_test.reshape(X_test.shape[0],X_test.shape[1],1)"
   ]
  },
  {
   "cell_type": "code",
   "execution_count": 0,
   "metadata": {
    "colab": {
     "base_uri": "https://localhost:8080/",
     "height": 34
    },
    "colab_type": "code",
    "id": "BJbObQ2cqftJ",
    "outputId": "a7a4afc0-faf7-4cc6-c39f-5e4277f14918"
   },
   "outputs": [
    {
     "data": {
      "text/plain": [
       "(65823, 33, 1)"
      ]
     },
     "execution_count": 612,
     "metadata": {
      "tags": []
     },
     "output_type": "execute_result"
    }
   ],
   "source": [
    "X_train_lst.shape"
   ]
  },
  {
   "cell_type": "markdown",
   "metadata": {
    "colab_type": "text",
    "id": "zNokf682G6hR"
   },
   "source": [
    "Custom function to calculate RMSE Loss"
   ]
  },
  {
   "cell_type": "code",
   "execution_count": 0,
   "metadata": {
    "colab": {},
    "colab_type": "code",
    "id": "7rzQKbM4qqwJ"
   },
   "outputs": [],
   "source": [
    "from keras import backend as K\n",
    "\n",
    "def root_mean_squared_error(y_true, y_pred):\n",
    "        return K.sqrt(K.mean(K.square(y_pred - y_true))) \n"
   ]
  },
  {
   "cell_type": "code",
   "execution_count": 0,
   "metadata": {
    "colab": {
     "base_uri": "https://localhost:8080/",
     "height": 370
    },
    "colab_type": "code",
    "id": "Hw2p_4r6qdwh",
    "outputId": "c8ef8c2d-611e-46e2-dfbd-bdb407c96445"
   },
   "outputs": [
    {
     "name": "stdout",
     "output_type": "stream",
     "text": [
      "Epoch 1/10\n",
      "65823/65823 [==============================] - 25s 373us/step - loss: 11.2488 - mean_absolute_error: 9.6228\n",
      "Epoch 2/10\n",
      "65823/65823 [==============================] - 23s 345us/step - loss: 3.3286 - mean_absolute_error: 2.4437\n",
      "Epoch 3/10\n",
      "65823/65823 [==============================] - 22s 336us/step - loss: 2.8433 - mean_absolute_error: 2.0131\n",
      "Epoch 4/10\n",
      "65823/65823 [==============================] - 22s 340us/step - loss: 2.7823 - mean_absolute_error: 1.9950\n",
      "Epoch 5/10\n",
      "65823/65823 [==============================] - 23s 347us/step - loss: 2.5964 - mean_absolute_error: 1.8482\n",
      "Epoch 6/10\n",
      "65823/65823 [==============================] - 23s 350us/step - loss: 2.4866 - mean_absolute_error: 1.7906\n",
      "Epoch 7/10\n",
      "65823/65823 [==============================] - 23s 355us/step - loss: 2.2831 - mean_absolute_error: 1.5844\n",
      "Epoch 8/10\n",
      "65823/65823 [==============================] - 22s 340us/step - loss: 2.3022 - mean_absolute_error: 1.5547\n",
      "Epoch 9/10\n",
      "65823/65823 [==============================] - 23s 347us/step - loss: 2.3006 - mean_absolute_error: 1.5987\n",
      "Epoch 10/10\n",
      "65823/65823 [==============================] - 23s 347us/step - loss: 2.1316 - mean_absolute_error: 1.4463\n"
     ]
    },
    {
     "data": {
      "text/plain": [
       "<keras.callbacks.History at 0x7f811638b9e8>"
      ]
     },
     "execution_count": 636,
     "metadata": {
      "tags": []
     },
     "output_type": "execute_result"
    }
   ],
   "source": [
    "from pandas import read_csv\n",
    "from keras.models import Sequential, Model\n",
    "from keras.layers import Dense, LSTM, Input, Flatten\n",
    "from keras.wrappers.scikit_learn import KerasRegressor\n",
    "from sklearn.model_selection import cross_val_score\n",
    "from sklearn.model_selection import KFold\n",
    "from keras.callbacks import EarlyStopping\n",
    "\n",
    "\n",
    "model = Sequential()\n",
    "inp = Input(shape=(33,1))\n",
    "x = LSTM(100, activation='relu', dropout=0.02)(inp)\n",
    "x = Dense(1, kernel_initializer='normal')(x)\n",
    "model = Model(inputs=inp, outputs=x)\n",
    "model.compile(optimizer='adam', loss = root_mean_squared_error, metrics = ['mean_absolute_error'])\n",
    "es = EarlyStopping(monitor='val_loss', mode='min')\n",
    "model.fit(X_train_lst, y_train,batch_size=150,epochs=10, verbose=1)\n"
   ]
  },
  {
   "cell_type": "code",
   "execution_count": 0,
   "metadata": {
    "colab": {},
    "colab_type": "code",
    "id": "HGqxVg9Fqmlw"
   },
   "outputs": [],
   "source": [
    "preds = model.predict(X_test_lst)"
   ]
  },
  {
   "cell_type": "markdown",
   "metadata": {
    "colab_type": "text",
    "id": "goyb7R2FHA9z"
   },
   "source": [
    "Scores."
   ]
  },
  {
   "cell_type": "code",
   "execution_count": 0,
   "metadata": {
    "colab": {
     "base_uri": "https://localhost:8080/",
     "height": 34
    },
    "colab_type": "code",
    "id": "HBewq-Ukr7fw",
    "outputId": "4aeb3f28-c9e3-455e-e57d-7c0d67f3a4ec"
   },
   "outputs": [
    {
     "name": "stdout",
     "output_type": "stream",
     "text": [
      "('Mean Absolute Error: ', 1.34, 'RMSE: ', 1.7513295058210372, 'Accuracy: ', 94.72)\n"
     ]
    }
   ],
   "source": [
    "preds = preds.tolist()\n",
    "preds = [item for sublist in preds for item in sublist]\n",
    "preds = np.array(preds)\n",
    "\n",
    "scores_lstm = metric_display(preds)\n",
    "print(scores_lstm)"
   ]
  },
  {
   "cell_type": "markdown",
   "metadata": {
    "colab_type": "text",
    "id": "jsUzs7_rHD4G"
   },
   "source": [
    "2. SVM"
   ]
  },
  {
   "cell_type": "code",
   "execution_count": 0,
   "metadata": {
    "colab": {
     "base_uri": "https://localhost:8080/",
     "height": 50
    },
    "colab_type": "code",
    "id": "6_-nF4YjsFv0",
    "outputId": "81eb5dbc-b3e4-495b-9e37-0982dd1a32b3"
   },
   "outputs": [
    {
     "data": {
      "text/plain": [
       "SVR(C=1.0, cache_size=200, coef0=0.0, degree=3, epsilon=0.1, gamma='scale',\n",
       "    kernel='rbf', max_iter=-1, shrinking=True, tol=0.001, verbose=False)"
      ]
     },
     "execution_count": 621,
     "metadata": {
      "tags": []
     },
     "output_type": "execute_result"
    }
   ],
   "source": [
    "from sklearn.svm import SVR\n",
    "svm=SVR()\n",
    "svm.fit(X_train,y_train)"
   ]
  },
  {
   "cell_type": "code",
   "execution_count": 0,
   "metadata": {
    "colab": {
     "base_uri": "https://localhost:8080/",
     "height": 34
    },
    "colab_type": "code",
    "id": "x6KXwADfsMjb",
    "outputId": "c2fbb13d-7571-40da-882f-71805b65edfb"
   },
   "outputs": [
    {
     "name": "stdout",
     "output_type": "stream",
     "text": [
      "('Mean Absolute Error: ', 1.08, 'RMSE: ', 1.8504668441381333, 'Accuracy: ', 95.76)\n"
     ]
    }
   ],
   "source": [
    "preds_svm = svm.predict(X_test)\n",
    "scores_svm = metric_display(preds_svm)\n",
    "print(scores_svm)\n"
   ]
  },
  {
   "cell_type": "markdown",
   "metadata": {
    "colab_type": "text",
    "id": "UaZs3PMFHGUX"
   },
   "source": [
    "3. Random Forest."
   ]
  },
  {
   "cell_type": "code",
   "execution_count": 0,
   "metadata": {
    "colab": {
     "base_uri": "https://localhost:8080/",
     "height": 134
    },
    "colab_type": "code",
    "id": "CeDUaiQAt3Ch",
    "outputId": "8a9b2b16-66dc-4b16-f25b-928110c9d0ed"
   },
   "outputs": [
    {
     "data": {
      "text/plain": [
       "RandomForestRegressor(bootstrap=True, ccp_alpha=0.0, criterion='mse',\n",
       "                      max_depth=None, max_features='auto', max_leaf_nodes=None,\n",
       "                      max_samples=None, min_impurity_decrease=0.0,\n",
       "                      min_impurity_split=None, min_samples_leaf=1,\n",
       "                      min_samples_split=2, min_weight_fraction_leaf=0.0,\n",
       "                      n_estimators=100, n_jobs=None, oob_score=False,\n",
       "                      random_state=42, verbose=0, warm_start=False)"
      ]
     },
     "execution_count": 623,
     "metadata": {
      "tags": []
     },
     "output_type": "execute_result"
    }
   ],
   "source": [
    "from sklearn.ensemble import RandomForestRegressor\n",
    "rf = RandomForestRegressor(n_estimators= 100, random_state=42)\n",
    "rf.fit(X_train, y_train)"
   ]
  },
  {
   "cell_type": "code",
   "execution_count": 0,
   "metadata": {
    "colab": {
     "base_uri": "https://localhost:8080/",
     "height": 34
    },
    "colab_type": "code",
    "id": "BJ1AOg6fukDV",
    "outputId": "3d0211dc-9087-4474-f084-46ea5bf54080"
   },
   "outputs": [
    {
     "name": "stdout",
     "output_type": "stream",
     "text": [
      "('Mean Absolute Error: ', 0.35, 'RMSE: ', 0.8697221326114547, 'Accuracy: ', 98.59)\n"
     ]
    }
   ],
   "source": [
    "preds_rf = rf.predict(X_test)\n",
    "scores_rf = metric_display(preds_rf)\n",
    "print(scores_rf)"
   ]
  },
  {
   "cell_type": "markdown",
   "metadata": {
    "colab_type": "text",
    "id": "388nRg0_HKD_"
   },
   "source": [
    "4. Gradient Boost"
   ]
  },
  {
   "cell_type": "code",
   "execution_count": 0,
   "metadata": {
    "colab": {
     "base_uri": "https://localhost:8080/",
     "height": 168
    },
    "colab_type": "code",
    "id": "bGrJCliPumbI",
    "outputId": "1351495b-9adc-47ee-ced7-6eb1b11eb566"
   },
   "outputs": [
    {
     "data": {
      "text/plain": [
       "GradientBoostingRegressor(alpha=0.9, ccp_alpha=0.0, criterion='friedman_mse',\n",
       "                          init=None, learning_rate=0.1, loss='ls', max_depth=3,\n",
       "                          max_features=None, max_leaf_nodes=None,\n",
       "                          min_impurity_decrease=0.0, min_impurity_split=None,\n",
       "                          min_samples_leaf=1, min_samples_split=2,\n",
       "                          min_weight_fraction_leaf=0.0, n_estimators=100,\n",
       "                          n_iter_no_change=None, presort='deprecated',\n",
       "                          random_state=42, subsample=1.0, tol=0.0001,\n",
       "                          validation_fraction=0.1, verbose=0, warm_start=False)"
      ]
     },
     "execution_count": 639,
     "metadata": {
      "tags": []
     },
     "output_type": "execute_result"
    }
   ],
   "source": [
    "from sklearn.ensemble import GradientBoostingRegressor\n",
    "gb = GradientBoostingRegressor(n_estimators= 100, random_state=42)\n",
    "gb.fit(X_train, y_train)"
   ]
  },
  {
   "cell_type": "code",
   "execution_count": 0,
   "metadata": {
    "colab": {
     "base_uri": "https://localhost:8080/",
     "height": 34
    },
    "colab_type": "code",
    "id": "3CeXjscj3Dev",
    "outputId": "4c136edd-c46b-484b-b873-84a8090f0bf0"
   },
   "outputs": [
    {
     "name": "stdout",
     "output_type": "stream",
     "text": [
      "('Mean Absolute Error: ', 0.81, 'RMSE: ', 1.2352603173992993, 'Accuracy: ', 96.51)\n"
     ]
    }
   ],
   "source": [
    "preds_gb = gb.predict(X_test)\n",
    "scores_gb = metric_display(preds_gb)\n",
    "print(scores_gb)"
   ]
  },
  {
   "cell_type": "markdown",
   "metadata": {
    "colab_type": "text",
    "id": "YtY3CTUAHMkG"
   },
   "source": [
    "5. Adaboost"
   ]
  },
  {
   "cell_type": "code",
   "execution_count": 0,
   "metadata": {
    "colab": {
     "base_uri": "https://localhost:8080/",
     "height": 50
    },
    "colab_type": "code",
    "id": "mnp3mNRl3GRV",
    "outputId": "fc333fbf-ed2a-4999-aa09-a6976c143cac"
   },
   "outputs": [
    {
     "data": {
      "text/plain": [
       "AdaBoostRegressor(base_estimator=None, learning_rate=1.0, loss='linear',\n",
       "                  n_estimators=200, random_state=42)"
      ]
     },
     "execution_count": 641,
     "metadata": {
      "tags": []
     },
     "output_type": "execute_result"
    }
   ],
   "source": [
    "from sklearn.ensemble import AdaBoostRegressor\n",
    "ada = AdaBoostRegressor(n_estimators= 200, random_state=42)\n",
    "ada.fit(X_train, y_train)"
   ]
  },
  {
   "cell_type": "code",
   "execution_count": 0,
   "metadata": {
    "colab": {
     "base_uri": "https://localhost:8080/",
     "height": 34
    },
    "colab_type": "code",
    "id": "Gyc8ZDrx3KzH",
    "outputId": "33979f00-7824-4b42-d03f-398679684420"
   },
   "outputs": [
    {
     "name": "stdout",
     "output_type": "stream",
     "text": [
      "('Mean Absolute Error: ', 2.16, 'RMSE: ', 2.7442530228282207, 'Accuracy: ', 89.37)\n"
     ]
    }
   ],
   "source": [
    "preds_ada = ada.predict(X_test)\n",
    "scores_ada = metric_display(preds_ada)\n",
    "print(scores_ada)\n"
   ]
  },
  {
   "cell_type": "markdown",
   "metadata": {
    "colab_type": "text",
    "id": "oWE3JTjAHPH7"
   },
   "source": [
    "6. ANN / MLP"
   ]
  },
  {
   "cell_type": "code",
   "execution_count": 0,
   "metadata": {
    "colab": {
     "base_uri": "https://localhost:8080/",
     "height": 1000
    },
    "colab_type": "code",
    "id": "6WYFSgCn3t5R",
    "outputId": "7487b13b-58ae-4d1d-96e8-7b64e3417b83"
   },
   "outputs": [
    {
     "name": "stderr",
     "output_type": "stream",
     "text": [
      "/usr/local/lib/python3.6/dist-packages/ipykernel_launcher.py:2: UserWarning: Update your `Dense` call to the Keras 2 API: `Dense(50, input_dim=33, activation=\"relu\", kernel_initializer=\"normal\")`\n",
      "  \n",
      "/usr/local/lib/python3.6/dist-packages/ipykernel_launcher.py:3: UserWarning: Update your `Dense` call to the Keras 2 API: `Dense(20, activation=\"relu\", kernel_initializer=\"normal\")`\n",
      "  This is separate from the ipykernel package so we can avoid doing imports until\n",
      "/usr/local/lib/python3.6/dist-packages/ipykernel_launcher.py:4: UserWarning: Update your `Dense` call to the Keras 2 API: `Dense(1, kernel_initializer=\"normal\")`\n",
      "  after removing the cwd from sys.path.\n"
     ]
    },
    {
     "name": "stdout",
     "output_type": "stream",
     "text": [
      "Epoch 1/50\n",
      "65823/65823 [==============================] - 3s 42us/step - loss: 204.4446\n",
      "Epoch 2/50\n",
      "65823/65823 [==============================] - 1s 20us/step - loss: 35.2727\n",
      "Epoch 3/50\n",
      "65823/65823 [==============================] - 1s 19us/step - loss: 22.7668\n",
      "Epoch 4/50\n",
      "65823/65823 [==============================] - 1s 21us/step - loss: 9.5031\n",
      "Epoch 5/50\n",
      "65823/65823 [==============================] - 1s 20us/step - loss: 5.1762\n",
      "Epoch 6/50\n",
      "65823/65823 [==============================] - 1s 20us/step - loss: 4.6987\n",
      "Epoch 7/50\n",
      "65823/65823 [==============================] - 1s 21us/step - loss: 4.3106\n",
      "Epoch 8/50\n",
      "65823/65823 [==============================] - 1s 21us/step - loss: 3.8879\n",
      "Epoch 9/50\n",
      "65823/65823 [==============================] - 1s 20us/step - loss: 3.4252\n",
      "Epoch 10/50\n",
      "65823/65823 [==============================] - 1s 20us/step - loss: 3.0308\n",
      "Epoch 11/50\n",
      "65823/65823 [==============================] - 1s 21us/step - loss: 2.7290\n",
      "Epoch 12/50\n",
      "65823/65823 [==============================] - 1s 21us/step - loss: 2.5102\n",
      "Epoch 13/50\n",
      "65823/65823 [==============================] - 1s 23us/step - loss: 2.3642\n",
      "Epoch 14/50\n",
      "65823/65823 [==============================] - 1s 20us/step - loss: 2.2570\n",
      "Epoch 15/50\n",
      "65823/65823 [==============================] - 1s 19us/step - loss: 2.1862\n",
      "Epoch 16/50\n",
      "65823/65823 [==============================] - 1s 20us/step - loss: 2.1416\n",
      "Epoch 17/50\n",
      "65823/65823 [==============================] - 1s 21us/step - loss: 2.1047\n",
      "Epoch 18/50\n",
      "65823/65823 [==============================] - 1s 22us/step - loss: 2.0711\n",
      "Epoch 19/50\n",
      "65823/65823 [==============================] - 1s 21us/step - loss: 2.0489\n",
      "Epoch 20/50\n",
      "65823/65823 [==============================] - 1s 22us/step - loss: 2.0473\n",
      "Epoch 21/50\n",
      "65823/65823 [==============================] - 1s 20us/step - loss: 2.0280\n",
      "Epoch 22/50\n",
      "65823/65823 [==============================] - 1s 21us/step - loss: 2.0099\n",
      "Epoch 23/50\n",
      "65823/65823 [==============================] - 1s 22us/step - loss: 2.0046\n",
      "Epoch 24/50\n",
      "65823/65823 [==============================] - 1s 22us/step - loss: 1.9993\n",
      "Epoch 25/50\n",
      "65823/65823 [==============================] - 1s 23us/step - loss: 1.9890\n",
      "Epoch 26/50\n",
      "65823/65823 [==============================] - 1s 22us/step - loss: 1.9838\n",
      "Epoch 27/50\n",
      "65823/65823 [==============================] - 1s 19us/step - loss: 1.9809\n",
      "Epoch 28/50\n",
      "65823/65823 [==============================] - 1s 21us/step - loss: 1.9845\n",
      "Epoch 29/50\n",
      "65823/65823 [==============================] - 1s 19us/step - loss: 1.9740\n",
      "Epoch 30/50\n",
      "65823/65823 [==============================] - 1s 20us/step - loss: 1.9622\n",
      "Epoch 31/50\n",
      "65823/65823 [==============================] - 1s 20us/step - loss: 1.9564\n",
      "Epoch 32/50\n",
      "65823/65823 [==============================] - 1s 21us/step - loss: 1.9590\n",
      "Epoch 33/50\n",
      "65823/65823 [==============================] - 1s 20us/step - loss: 1.9489\n",
      "Epoch 34/50\n",
      "65823/65823 [==============================] - 1s 20us/step - loss: 1.9439\n",
      "Epoch 35/50\n",
      "65823/65823 [==============================] - 1s 22us/step - loss: 1.9520\n",
      "Epoch 36/50\n",
      "65823/65823 [==============================] - 1s 21us/step - loss: 1.9434\n",
      "Epoch 37/50\n",
      "65823/65823 [==============================] - 1s 20us/step - loss: 1.9453\n",
      "Epoch 38/50\n",
      "65823/65823 [==============================] - 1s 22us/step - loss: 1.9363\n",
      "Epoch 39/50\n",
      "65823/65823 [==============================] - 2s 23us/step - loss: 1.9347\n",
      "Epoch 40/50\n",
      "65823/65823 [==============================] - 1s 22us/step - loss: 1.9344\n",
      "Epoch 41/50\n",
      "65823/65823 [==============================] - 1s 23us/step - loss: 1.9281\n",
      "Epoch 42/50\n",
      "65823/65823 [==============================] - 1s 21us/step - loss: 1.9389\n",
      "Epoch 43/50\n",
      "65823/65823 [==============================] - 1s 19us/step - loss: 1.9324\n",
      "Epoch 44/50\n",
      "65823/65823 [==============================] - 1s 21us/step - loss: 1.9227\n",
      "Epoch 45/50\n",
      "65823/65823 [==============================] - 1s 20us/step - loss: 1.9207\n",
      "Epoch 46/50\n",
      "65823/65823 [==============================] - 1s 20us/step - loss: 1.9259\n",
      "Epoch 47/50\n",
      "65823/65823 [==============================] - 1s 19us/step - loss: 1.9183\n",
      "Epoch 48/50\n",
      "65823/65823 [==============================] - 1s 21us/step - loss: 1.9172\n",
      "Epoch 49/50\n",
      "65823/65823 [==============================] - 1s 21us/step - loss: 1.9133\n",
      "Epoch 50/50\n",
      "65823/65823 [==============================] - 1s 19us/step - loss: 1.9192\n"
     ]
    },
    {
     "data": {
      "text/plain": [
       "<keras.callbacks.History at 0x7f8115bb0b70>"
      ]
     },
     "execution_count": 653,
     "metadata": {
      "tags": []
     },
     "output_type": "execute_result"
    }
   ],
   "source": [
    "model = Sequential()\n",
    "model.add(Dense(50, input_dim=33, init='normal', activation='relu'))\n",
    "model.add(Dense(20, init='normal', activation='relu'))\n",
    "model.add(Dense(1, init='normal'))\n",
    "\n",
    "model.compile(loss='mean_squared_error', optimizer='adam')\n",
    "model.fit(X_train,y_train,batch_size=150,verbose=1,epochs=50)\n"
   ]
  },
  {
   "cell_type": "code",
   "execution_count": 0,
   "metadata": {
    "colab": {
     "base_uri": "https://localhost:8080/",
     "height": 34
    },
    "colab_type": "code",
    "id": "ysNQRIyZ4CpB",
    "outputId": "bbea5b83-1d33-4750-ef89-3d064ad69512"
   },
   "outputs": [
    {
     "name": "stdout",
     "output_type": "stream",
     "text": [
      "('Mean Absolute Error: ', 0.87, 'RMSE: ', 1.3878406644226562, 'Accuracy: ', 96.7)\n"
     ]
    }
   ],
   "source": [
    "preds_mlp = model.predict(X_test)\n",
    "preds_mlp = preds_mlp.tolist()\n",
    "preds_mlp = [item for sublist in preds_mlp for item in sublist]\n",
    "preds_mlp = np.array(preds_mlp)\n",
    "\n",
    "scores_mlp = metric_display(preds_mlp)\n",
    "print(scores_mlp)"
   ]
  },
  {
   "cell_type": "markdown",
   "metadata": {
    "colab_type": "text",
    "id": "Lz3aonTZHTlg"
   },
   "source": [
    "Summarizing results."
   ]
  },
  {
   "cell_type": "code",
   "execution_count": 0,
   "metadata": {
    "colab": {
     "base_uri": "https://localhost:8080/",
     "height": 151
    },
    "colab_type": "code",
    "id": "WvdQd3XR3PbK",
    "outputId": "3ea7aff1-1222-45f5-f7de-22e7a40a5b83"
   },
   "outputs": [
    {
     "data": {
      "text/plain": [
       "{'Accuracy': [89.37, 96.51, 94.72, 98.59, 95.76, 96.7],\n",
       " 'MAE': [2.16, 0.81, 1.34, 0.35, 1.08, 0.87],\n",
       " 'RMSE': [2.7442530228282207,\n",
       "  1.2352603173992993,\n",
       "  1.7513295058210372,\n",
       "  0.8697221326114547,\n",
       "  1.8504668441381333,\n",
       "  1.3878406644226562]}"
      ]
     },
     "execution_count": 655,
     "metadata": {
      "tags": []
     },
     "output_type": "execute_result"
    }
   ],
   "source": [
    "dictionary = {\"MAE\":[],\"RMSE\":[],\"Accuracy\":[]}\n",
    "\n",
    "for i in range(len(scores_ada)):\n",
    "  if i==1:\n",
    "    dictionary[\"MAE\"].append(scores_ada[i])\n",
    "    dictionary[\"MAE\"].append(scores_gb[i])\n",
    "    dictionary[\"MAE\"].append(scores_lstm[i])\n",
    "    dictionary[\"MAE\"].append(scores_rf[i])\n",
    "    dictionary[\"MAE\"].append(scores_svm[i])\n",
    "    dictionary[\"MAE\"].append(scores_mlp[i])\n",
    "  elif i==3:\n",
    "    dictionary[\"RMSE\"].append(scores_ada[i])\n",
    "    dictionary[\"RMSE\"].append(scores_gb[i])\n",
    "    dictionary[\"RMSE\"].append(scores_lstm[i])\n",
    "    dictionary[\"RMSE\"].append(scores_rf[i])\n",
    "    dictionary[\"RMSE\"].append(scores_svm[i])\n",
    "    dictionary[\"RMSE\"].append(scores_mlp[i])\n",
    "  elif i==5:\n",
    "    dictionary[\"Accuracy\"].append(scores_ada[i])\n",
    "    dictionary[\"Accuracy\"].append(scores_gb[i])\n",
    "    dictionary[\"Accuracy\"].append(scores_lstm[i])\n",
    "    dictionary[\"Accuracy\"].append(scores_rf[i])\n",
    "    dictionary[\"Accuracy\"].append(scores_svm[i])\n",
    "    dictionary[\"Accuracy\"].append(scores_mlp[i])\n",
    "\n",
    "dictionary"
   ]
  },
  {
   "cell_type": "code",
   "execution_count": 0,
   "metadata": {
    "colab": {},
    "colab_type": "code",
    "id": "ehbCXqJB3VLj"
   },
   "outputs": [],
   "source": [
    "models = [\"AdaBoost\",\"GradientBoost\",\"LSTM\",\"RandomForest\",\"SVM\",\"MLP\"]\n",
    "result_df = pd.DataFrame.from_dict(dictionary,orient='index').transpose()\n",
    "result_df[\"models\"] = models\n",
    "result_df = result_df[['models', 'MAE', 'RMSE', 'Accuracy',]]\n",
    "result_df = result_df.sort_values('Accuracy')\n"
   ]
  },
  {
   "cell_type": "markdown",
   "metadata": {
    "colab_type": "text",
    "id": "xNqREXhFHXu1"
   },
   "source": [
    "Random Forest performs the best followed by ANN/MLP"
   ]
  },
  {
   "cell_type": "code",
   "execution_count": 0,
   "metadata": {
    "colab": {
     "base_uri": "https://localhost:8080/",
     "height": 225
    },
    "colab_type": "code",
    "id": "B3Qy8u883gtg",
    "outputId": "cdd0e873-0c2b-4b80-8281-fbaaf6c0e180"
   },
   "outputs": [
    {
     "data": {
      "text/html": [
       "<div>\n",
       "<style scoped>\n",
       "    .dataframe tbody tr th:only-of-type {\n",
       "        vertical-align: middle;\n",
       "    }\n",
       "\n",
       "    .dataframe tbody tr th {\n",
       "        vertical-align: top;\n",
       "    }\n",
       "\n",
       "    .dataframe thead th {\n",
       "        text-align: right;\n",
       "    }\n",
       "</style>\n",
       "<table border=\"1\" class=\"dataframe\">\n",
       "  <thead>\n",
       "    <tr style=\"text-align: right;\">\n",
       "      <th></th>\n",
       "      <th>models</th>\n",
       "      <th>MAE</th>\n",
       "      <th>RMSE</th>\n",
       "      <th>Accuracy</th>\n",
       "    </tr>\n",
       "  </thead>\n",
       "  <tbody>\n",
       "    <tr>\n",
       "      <th>0</th>\n",
       "      <td>AdaBoost</td>\n",
       "      <td>2.16</td>\n",
       "      <td>2.744253</td>\n",
       "      <td>89.37</td>\n",
       "    </tr>\n",
       "    <tr>\n",
       "      <th>2</th>\n",
       "      <td>LSTM</td>\n",
       "      <td>1.34</td>\n",
       "      <td>1.751330</td>\n",
       "      <td>94.72</td>\n",
       "    </tr>\n",
       "    <tr>\n",
       "      <th>4</th>\n",
       "      <td>SVM</td>\n",
       "      <td>1.08</td>\n",
       "      <td>1.850467</td>\n",
       "      <td>95.76</td>\n",
       "    </tr>\n",
       "    <tr>\n",
       "      <th>1</th>\n",
       "      <td>GradientBoost</td>\n",
       "      <td>0.81</td>\n",
       "      <td>1.235260</td>\n",
       "      <td>96.51</td>\n",
       "    </tr>\n",
       "    <tr>\n",
       "      <th>5</th>\n",
       "      <td>MLP</td>\n",
       "      <td>0.87</td>\n",
       "      <td>1.387841</td>\n",
       "      <td>96.70</td>\n",
       "    </tr>\n",
       "    <tr>\n",
       "      <th>3</th>\n",
       "      <td>RandomForest</td>\n",
       "      <td>0.35</td>\n",
       "      <td>0.869722</td>\n",
       "      <td>98.59</td>\n",
       "    </tr>\n",
       "  </tbody>\n",
       "</table>\n",
       "</div>"
      ],
      "text/plain": [
       "          models   MAE      RMSE  Accuracy\n",
       "0       AdaBoost  2.16  2.744253     89.37\n",
       "2           LSTM  1.34  1.751330     94.72\n",
       "4            SVM  1.08  1.850467     95.76\n",
       "1  GradientBoost  0.81  1.235260     96.51\n",
       "5            MLP  0.87  1.387841     96.70\n",
       "3   RandomForest  0.35  0.869722     98.59"
      ]
     },
     "execution_count": 658,
     "metadata": {
      "tags": []
     },
     "output_type": "execute_result"
    }
   ],
   "source": [
    "result_df"
   ]
  },
  {
   "cell_type": "code",
   "execution_count": 0,
   "metadata": {
    "colab": {},
    "colab_type": "code",
    "id": "6JKlQSqh3hmX"
   },
   "outputs": [],
   "source": []
  }
 ],
 "metadata": {
  "accelerator": "GPU",
  "colab": {
   "collapsed_sections": [],
   "name": "bhuv3.ipynb",
   "provenance": [],
   "toc_visible": true
  },
  "kernelspec": {
   "display_name": "Python 3",
   "language": "python",
   "name": "python3"
  },
  "language_info": {
   "codemirror_mode": {
    "name": "ipython",
    "version": 3
   },
   "file_extension": ".py",
   "mimetype": "text/x-python",
   "name": "python",
   "nbconvert_exporter": "python",
   "pygments_lexer": "ipython3",
   "version": "3.7.3"
  }
 },
 "nbformat": 4,
 "nbformat_minor": 1
}
